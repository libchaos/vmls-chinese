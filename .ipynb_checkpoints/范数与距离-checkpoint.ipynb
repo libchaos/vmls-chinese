{
 "cells": [
  {
   "cell_type": "markdown",
   "metadata": {},
   "source": [
    "# 范数\n",
    "\n",
    "范数是一个函数， 方便向量间的比较， $||x||$ 在julia用norm(x)表示 "
   ]
  },
  {
   "cell_type": "code",
   "execution_count": 1,
   "metadata": {},
   "outputs": [
    {
     "data": {
      "text/plain": [
       "3-element Array{Int64,1}:\n",
       "  2\n",
       " -1\n",
       "  2"
      ]
     },
     "execution_count": 1,
     "metadata": {},
     "output_type": "execute_result"
    }
   ],
   "source": [
    "x = [2, -1, 2]"
   ]
  },
  {
   "cell_type": "code",
   "execution_count": 3,
   "metadata": {},
   "outputs": [
    {
     "data": {
      "text/plain": [
       "3.0"
      ]
     },
     "execution_count": 3,
     "metadata": {},
     "output_type": "execute_result"
    }
   ],
   "source": [
    "using LinearAlgebra\n",
    "norm(x)"
   ]
  },
  {
   "cell_type": "code",
   "execution_count": 4,
   "metadata": {},
   "outputs": [
    {
     "data": {
      "text/plain": [
       "3.0"
      ]
     },
     "execution_count": 4,
     "metadata": {},
     "output_type": "execute_result"
    }
   ],
   "source": [
    "sqrt(x' * x)"
   ]
  },
  {
   "cell_type": "code",
   "execution_count": 5,
   "metadata": {},
   "outputs": [
    {
     "data": {
      "text/plain": [
       "3.0"
      ]
     },
     "execution_count": 5,
     "metadata": {},
     "output_type": "execute_result"
    }
   ],
   "source": [
    "sqrt(sum(x.^2))"
   ]
  },
  {
   "cell_type": "markdown",
   "metadata": {},
   "source": [
    "### 三角不等式\n",
    "   $||x + y|| \\le ||x|| + ||y||$"
   ]
  },
  {
   "cell_type": "code",
   "execution_count": 6,
   "metadata": {},
   "outputs": [],
   "source": [
    "x = randn(10); y = randn(10);"
   ]
  },
  {
   "cell_type": "code",
   "execution_count": 7,
   "metadata": {},
   "outputs": [
    {
     "data": {
      "text/plain": [
       "5.328744563331728"
      ]
     },
     "execution_count": 7,
     "metadata": {},
     "output_type": "execute_result"
    }
   ],
   "source": [
    "lhs = norm(x + y)"
   ]
  },
  {
   "cell_type": "code",
   "execution_count": 8,
   "metadata": {},
   "outputs": [
    {
     "data": {
      "text/plain": [
       "7.206585773260448"
      ]
     },
     "execution_count": 8,
     "metadata": {},
     "output_type": "execute_result"
    }
   ],
   "source": [
    "rhs = norm(x) + norm(y)"
   ]
  },
  {
   "cell_type": "markdown",
   "metadata": {},
   "source": [
    "### RMS 均方根\n",
    "\n",
    "$rms(x) = ||x|| / n^{1/2}$"
   ]
  },
  {
   "cell_type": "code",
   "execution_count": 9,
   "metadata": {},
   "outputs": [
    {
     "data": {
      "text/plain": [
       "rms (generic function with 1 method)"
      ]
     },
     "execution_count": 9,
     "metadata": {},
     "output_type": "execute_result"
    }
   ],
   "source": [
    "rms(x) = norm(x) / sqrt(length(x))"
   ]
  },
  {
   "cell_type": "code",
   "execution_count": 10,
   "metadata": {},
   "outputs": [
    {
     "data": {
      "text/plain": [
       "0.0:0.01:1.0"
      ]
     },
     "execution_count": 10,
     "metadata": {},
     "output_type": "execute_result"
    }
   ],
   "source": [
    "t = 0:0.01:1"
   ]
  },
  {
   "cell_type": "code",
   "execution_count": 12,
   "metadata": {},
   "outputs": [
    {
     "data": {
      "text/plain": [
       "101-element Array{Float64,1}:\n",
       "  1.0                \n",
       "  0.7772451046282698 \n",
       "  0.5507680372138883 \n",
       "  0.3232519180622928 \n",
       "  0.0973564879504416 \n",
       " -0.12431346385843334\n",
       " -0.33923878116758344\n",
       " -0.5450153662412973 \n",
       " -0.739381999913646  \n",
       " -0.9202462280601461 \n",
       " -1.0857080107757056 \n",
       " -1.2340808589081917 \n",
       " -1.3639102141640738 \n",
       "  ⋮                  \n",
       "  1.384144748404637  \n",
       "  1.5234231020828974 \n",
       "  1.6477488749179383 \n",
       "  1.7552471984614832 \n",
       "  1.8442268443369843 \n",
       "  1.9132031737218984 \n",
       "  1.9609187000248212 \n",
       "  1.9863609994621776 \n",
       "  1.988777735698107  \n",
       "  1.9676885991075503 \n",
       "  1.9228939981436608 \n",
       "  1.8544803792927933 "
      ]
     },
     "execution_count": 12,
     "metadata": {},
     "output_type": "execute_result"
    }
   ],
   "source": [
    "x = cos.(8*t) - 2*sin.(11*t)"
   ]
  },
  {
   "cell_type": "code",
   "execution_count": 13,
   "metadata": {},
   "outputs": [
    {
     "data": {
      "text/plain": [
       "avg (generic function with 1 method)"
      ]
     },
     "execution_count": 13,
     "metadata": {},
     "output_type": "execute_result"
    }
   ],
   "source": [
    "avg(x) = (ones(length(x)) / length(x))' * x"
   ]
  },
  {
   "cell_type": "code",
   "execution_count": 14,
   "metadata": {},
   "outputs": [
    {
     "data": {
      "text/plain": [
       "-0.04252943783238691"
      ]
     },
     "execution_count": 14,
     "metadata": {},
     "output_type": "execute_result"
    }
   ],
   "source": [
    "avg(x)"
   ]
  },
  {
   "cell_type": "code",
   "execution_count": 15,
   "metadata": {},
   "outputs": [
    {
     "data": {
      "text/plain": [
       "1.0837556422598"
      ]
     },
     "execution_count": 15,
     "metadata": {},
     "output_type": "execute_result"
    }
   ],
   "source": [
    "rms(x)"
   ]
  },
  {
   "cell_type": "code",
   "execution_count": 20,
   "metadata": {},
   "outputs": [
    {
     "data": {
      "image/svg+xml": [
       "<?xml version=\"1.0\" encoding=\"utf-8\"?>\n",
       "<svg xmlns=\"http://www.w3.org/2000/svg\" xmlns:xlink=\"http://www.w3.org/1999/xlink\" width=\"600\" height=\"400\" viewBox=\"0 0 2400 1600\">\n",
       "<defs>\n",
       "  <clipPath id=\"clip2400\">\n",
       "    <rect x=\"0\" y=\"0\" width=\"2400\" height=\"1600\"/>\n",
       "  </clipPath>\n",
       "</defs>\n",
       "<polygon clip-path=\"url(#clip2400)\" points=\"\n",
       "0,1600 2400,1600 2400,0 0,0 \n",
       "  \" fill=\"#ffffff\" fill-rule=\"evenodd\" fill-opacity=\"1\"/>\n",
       "<defs>\n",
       "  <clipPath id=\"clip2401\">\n",
       "    <rect x=\"480\" y=\"0\" width=\"1681\" height=\"1600\"/>\n",
       "  </clipPath>\n",
       "</defs>\n",
       "<polygon clip-path=\"url(#clip2400)\" points=\"\n",
       "141.865,1487.47 2352.76,1487.47 2352.76,47.2441 141.865,47.2441 \n",
       "  \" fill=\"#ffffff\" fill-rule=\"evenodd\" fill-opacity=\"1\"/>\n",
       "<defs>\n",
       "  <clipPath id=\"clip2402\">\n",
       "    <rect x=\"141\" y=\"47\" width=\"2212\" height=\"1441\"/>\n",
       "  </clipPath>\n",
       "</defs>\n",
       "<polyline clip-path=\"url(#clip2402)\" style=\"stroke:#000000; stroke-width:2; stroke-opacity:0.1; fill:none\" points=\"\n",
       "  204.437,1487.47 204.437,47.2441 \n",
       "  \"/>\n",
       "<polyline clip-path=\"url(#clip2402)\" style=\"stroke:#000000; stroke-width:2; stroke-opacity:0.1; fill:none\" points=\"\n",
       "  725.874,1487.47 725.874,47.2441 \n",
       "  \"/>\n",
       "<polyline clip-path=\"url(#clip2402)\" style=\"stroke:#000000; stroke-width:2; stroke-opacity:0.1; fill:none\" points=\"\n",
       "  1247.31,1487.47 1247.31,47.2441 \n",
       "  \"/>\n",
       "<polyline clip-path=\"url(#clip2402)\" style=\"stroke:#000000; stroke-width:2; stroke-opacity:0.1; fill:none\" points=\"\n",
       "  1768.75,1487.47 1768.75,47.2441 \n",
       "  \"/>\n",
       "<polyline clip-path=\"url(#clip2402)\" style=\"stroke:#000000; stroke-width:2; stroke-opacity:0.1; fill:none\" points=\"\n",
       "  2290.18,1487.47 2290.18,47.2441 \n",
       "  \"/>\n",
       "<polyline clip-path=\"url(#clip2402)\" style=\"stroke:#000000; stroke-width:2; stroke-opacity:0.1; fill:none\" points=\"\n",
       "  141.865,1187.55 2352.76,1187.55 \n",
       "  \"/>\n",
       "<polyline clip-path=\"url(#clip2402)\" style=\"stroke:#000000; stroke-width:2; stroke-opacity:0.1; fill:none\" points=\"\n",
       "  141.865,819.66 2352.76,819.66 \n",
       "  \"/>\n",
       "<polyline clip-path=\"url(#clip2402)\" style=\"stroke:#000000; stroke-width:2; stroke-opacity:0.1; fill:none\" points=\"\n",
       "  141.865,451.768 2352.76,451.768 \n",
       "  \"/>\n",
       "<polyline clip-path=\"url(#clip2402)\" style=\"stroke:#000000; stroke-width:2; stroke-opacity:0.1; fill:none\" points=\"\n",
       "  141.865,83.8768 2352.76,83.8768 \n",
       "  \"/>\n",
       "<polyline clip-path=\"url(#clip2400)\" style=\"stroke:#000000; stroke-width:4; stroke-opacity:1; fill:none\" points=\"\n",
       "  141.865,1487.47 2352.76,1487.47 \n",
       "  \"/>\n",
       "<polyline clip-path=\"url(#clip2400)\" style=\"stroke:#000000; stroke-width:4; stroke-opacity:1; fill:none\" points=\"\n",
       "  141.865,1487.47 141.865,47.2441 \n",
       "  \"/>\n",
       "<polyline clip-path=\"url(#clip2400)\" style=\"stroke:#000000; stroke-width:4; stroke-opacity:1; fill:none\" points=\"\n",
       "  204.437,1487.47 204.437,1465.87 \n",
       "  \"/>\n",
       "<polyline clip-path=\"url(#clip2400)\" style=\"stroke:#000000; stroke-width:4; stroke-opacity:1; fill:none\" points=\"\n",
       "  725.874,1487.47 725.874,1465.87 \n",
       "  \"/>\n",
       "<polyline clip-path=\"url(#clip2400)\" style=\"stroke:#000000; stroke-width:4; stroke-opacity:1; fill:none\" points=\"\n",
       "  1247.31,1487.47 1247.31,1465.87 \n",
       "  \"/>\n",
       "<polyline clip-path=\"url(#clip2400)\" style=\"stroke:#000000; stroke-width:4; stroke-opacity:1; fill:none\" points=\"\n",
       "  1768.75,1487.47 1768.75,1465.87 \n",
       "  \"/>\n",
       "<polyline clip-path=\"url(#clip2400)\" style=\"stroke:#000000; stroke-width:4; stroke-opacity:1; fill:none\" points=\"\n",
       "  2290.18,1487.47 2290.18,1465.87 \n",
       "  \"/>\n",
       "<polyline clip-path=\"url(#clip2400)\" style=\"stroke:#000000; stroke-width:4; stroke-opacity:1; fill:none\" points=\"\n",
       "  141.865,1187.55 175.028,1187.55 \n",
       "  \"/>\n",
       "<polyline clip-path=\"url(#clip2400)\" style=\"stroke:#000000; stroke-width:4; stroke-opacity:1; fill:none\" points=\"\n",
       "  141.865,819.66 175.028,819.66 \n",
       "  \"/>\n",
       "<polyline clip-path=\"url(#clip2400)\" style=\"stroke:#000000; stroke-width:4; stroke-opacity:1; fill:none\" points=\"\n",
       "  141.865,451.768 175.028,451.768 \n",
       "  \"/>\n",
       "<polyline clip-path=\"url(#clip2400)\" style=\"stroke:#000000; stroke-width:4; stroke-opacity:1; fill:none\" points=\"\n",
       "  141.865,83.8768 175.028,83.8768 \n",
       "  \"/>\n",
       "<g clip-path=\"url(#clip2400)\">\n",
       "<text style=\"fill:#000000; fill-opacity:1; font-family:Arial,Helvetica Neue,Helvetica,sans-serif; font-size:48px; text-anchor:middle;\" transform=\"rotate(0, 204.437, 1541.47)\" x=\"204.437\" y=\"1541.47\">0.00</text>\n",
       "</g>\n",
       "<g clip-path=\"url(#clip2400)\">\n",
       "<text style=\"fill:#000000; fill-opacity:1; font-family:Arial,Helvetica Neue,Helvetica,sans-serif; font-size:48px; text-anchor:middle;\" transform=\"rotate(0, 725.874, 1541.47)\" x=\"725.874\" y=\"1541.47\">0.25</text>\n",
       "</g>\n",
       "<g clip-path=\"url(#clip2400)\">\n",
       "<text style=\"fill:#000000; fill-opacity:1; font-family:Arial,Helvetica Neue,Helvetica,sans-serif; font-size:48px; text-anchor:middle;\" transform=\"rotate(0, 1247.31, 1541.47)\" x=\"1247.31\" y=\"1541.47\">0.50</text>\n",
       "</g>\n",
       "<g clip-path=\"url(#clip2400)\">\n",
       "<text style=\"fill:#000000; fill-opacity:1; font-family:Arial,Helvetica Neue,Helvetica,sans-serif; font-size:48px; text-anchor:middle;\" transform=\"rotate(0, 1768.75, 1541.47)\" x=\"1768.75\" y=\"1541.47\">0.75</text>\n",
       "</g>\n",
       "<g clip-path=\"url(#clip2400)\">\n",
       "<text style=\"fill:#000000; fill-opacity:1; font-family:Arial,Helvetica Neue,Helvetica,sans-serif; font-size:48px; text-anchor:middle;\" transform=\"rotate(0, 2290.18, 1541.47)\" x=\"2290.18\" y=\"1541.47\">1.00</text>\n",
       "</g>\n",
       "<g clip-path=\"url(#clip2400)\">\n",
       "<text style=\"fill:#000000; fill-opacity:1; font-family:Arial,Helvetica Neue,Helvetica,sans-serif; font-size:48px; text-anchor:end;\" transform=\"rotate(0, 117.865, 1205.05)\" x=\"117.865\" y=\"1205.05\">-1</text>\n",
       "</g>\n",
       "<g clip-path=\"url(#clip2400)\">\n",
       "<text style=\"fill:#000000; fill-opacity:1; font-family:Arial,Helvetica Neue,Helvetica,sans-serif; font-size:48px; text-anchor:end;\" transform=\"rotate(0, 117.865, 837.16)\" x=\"117.865\" y=\"837.16\">0</text>\n",
       "</g>\n",
       "<g clip-path=\"url(#clip2400)\">\n",
       "<text style=\"fill:#000000; fill-opacity:1; font-family:Arial,Helvetica Neue,Helvetica,sans-serif; font-size:48px; text-anchor:end;\" transform=\"rotate(0, 117.865, 469.268)\" x=\"117.865\" y=\"469.268\">1</text>\n",
       "</g>\n",
       "<g clip-path=\"url(#clip2400)\">\n",
       "<text style=\"fill:#000000; fill-opacity:1; font-family:Arial,Helvetica Neue,Helvetica,sans-serif; font-size:48px; text-anchor:end;\" transform=\"rotate(0, 117.865, 101.377)\" x=\"117.865\" y=\"101.377\">2</text>\n",
       "</g>\n",
       "<polyline clip-path=\"url(#clip2402)\" style=\"stroke:#009af9; stroke-width:4; stroke-opacity:1; fill:none\" points=\"\n",
       "  204.437,451.768 225.294,533.718 246.152,617.037 267.009,700.738 287.867,783.843 308.724,865.394 329.582,944.463 350.439,1020.17 371.297,1091.67 392.154,1158.21 \n",
       "  413.012,1219.08 433.869,1273.67 454.727,1321.43 475.584,1361.93 496.441,1394.81 517.299,1419.83 538.156,1436.83 559.014,1445.78 579.871,1446.71 600.729,1439.8 \n",
       "  621.586,1425.28 642.444,1403.5 663.301,1374.9 684.159,1339.97 705.016,1299.32 725.874,1253.58 746.731,1203.46 767.589,1149.73 788.446,1093.18 809.303,1034.61 \n",
       "  830.161,974.874 851.018,914.805 871.876,855.238 892.733,796.99 913.591,740.852 934.448,687.577 955.306,637.871 976.163,592.385 997.021,551.706 1017.88,516.349 \n",
       "  1038.74,486.751 1059.59,463.268 1080.45,446.167 1101.31,435.624 1122.17,431.724 1143.02,434.46 1163.88,443.729 1184.74,459.34 1205.6,481.013 1226.45,508.382 \n",
       "  1247.31,541.005 1268.17,578.365 1289.03,619.879 1309.88,664.907 1330.74,712.758 1351.6,762.702 1372.46,813.978 1393.31,865.805 1414.17,917.391 1435.03,967.948 \n",
       "  1455.88,1016.7 1476.74,1062.88 1497.6,1105.77 1518.46,1144.7 1539.31,1179.02 1560.17,1208.16 1581.03,1231.63 1601.89,1249 1622.74,1259.91 1643.6,1264.1 \n",
       "  1664.46,1261.41 1685.32,1251.76 1706.17,1235.16 1727.03,1211.72 1747.89,1181.66 1768.75,1145.26 1789.6,1102.91 1810.46,1055.09 1831.32,1002.35 1852.18,945.303 \n",
       "  1873.03,884.648 1893.89,821.127 1914.75,755.536 1935.61,688.705 1956.46,621.496 1977.32,554.785 1998.18,489.455 2019.04,426.385 2039.89,366.437 2060.75,310.445 \n",
       "  2081.61,259.205 2102.47,213.467 2123.32,173.919 2144.18,141.184 2165.04,115.809 2185.9,98.2544 2206.75,88.8944 2227.61,88.0053 2248.47,95.7639 2269.33,112.243 \n",
       "  2290.18,137.412 \n",
       "  \"/>\n",
       "<polyline clip-path=\"url(#clip2402)\" style=\"stroke:#e26f46; stroke-width:4; stroke-opacity:1; fill:none\" points=\"\n",
       "  204.437,835.306 225.294,835.306 246.152,835.306 267.009,835.306 287.867,835.306 308.724,835.306 329.582,835.306 350.439,835.306 371.297,835.306 392.154,835.306 \n",
       "  413.012,835.306 433.869,835.306 454.727,835.306 475.584,835.306 496.441,835.306 517.299,835.306 538.156,835.306 559.014,835.306 579.871,835.306 600.729,835.306 \n",
       "  621.586,835.306 642.444,835.306 663.301,835.306 684.159,835.306 705.016,835.306 725.874,835.306 746.731,835.306 767.589,835.306 788.446,835.306 809.303,835.306 \n",
       "  830.161,835.306 851.018,835.306 871.876,835.306 892.733,835.306 913.591,835.306 934.448,835.306 955.306,835.306 976.163,835.306 997.021,835.306 1017.88,835.306 \n",
       "  1038.74,835.306 1059.59,835.306 1080.45,835.306 1101.31,835.306 1122.17,835.306 1143.02,835.306 1163.88,835.306 1184.74,835.306 1205.6,835.306 1226.45,835.306 \n",
       "  1247.31,835.306 1268.17,835.306 1289.03,835.306 1309.88,835.306 1330.74,835.306 1351.6,835.306 1372.46,835.306 1393.31,835.306 1414.17,835.306 1435.03,835.306 \n",
       "  1455.88,835.306 1476.74,835.306 1497.6,835.306 1518.46,835.306 1539.31,835.306 1560.17,835.306 1581.03,835.306 1601.89,835.306 1622.74,835.306 1643.6,835.306 \n",
       "  1664.46,835.306 1685.32,835.306 1706.17,835.306 1727.03,835.306 1747.89,835.306 1768.75,835.306 1789.6,835.306 1810.46,835.306 1831.32,835.306 1852.18,835.306 \n",
       "  1873.03,835.306 1893.89,835.306 1914.75,835.306 1935.61,835.306 1956.46,835.306 1977.32,835.306 1998.18,835.306 2019.04,835.306 2039.89,835.306 2060.75,835.306 \n",
       "  2081.61,835.306 2102.47,835.306 2123.32,835.306 2144.18,835.306 2165.04,835.306 2185.9,835.306 2206.75,835.306 2227.61,835.306 2248.47,835.306 2269.33,835.306 \n",
       "  2290.18,835.306 \n",
       "  \"/>\n",
       "<polyline clip-path=\"url(#clip2402)\" style=\"stroke:#008000; stroke-width:4; stroke-opacity:1; fill:none\" points=\"\n",
       "  204.437,436.602 225.294,436.602 246.152,436.602 267.009,436.602 287.867,436.602 308.724,436.602 329.582,436.602 350.439,436.602 371.297,436.602 392.154,436.602 \n",
       "  413.012,436.602 433.869,436.602 454.727,436.602 475.584,436.602 496.441,436.602 517.299,436.602 538.156,436.602 559.014,436.602 579.871,436.602 600.729,436.602 \n",
       "  621.586,436.602 642.444,436.602 663.301,436.602 684.159,436.602 705.016,436.602 725.874,436.602 746.731,436.602 767.589,436.602 788.446,436.602 809.303,436.602 \n",
       "  830.161,436.602 851.018,436.602 871.876,436.602 892.733,436.602 913.591,436.602 934.448,436.602 955.306,436.602 976.163,436.602 997.021,436.602 1017.88,436.602 \n",
       "  1038.74,436.602 1059.59,436.602 1080.45,436.602 1101.31,436.602 1122.17,436.602 1143.02,436.602 1163.88,436.602 1184.74,436.602 1205.6,436.602 1226.45,436.602 \n",
       "  1247.31,436.602 1268.17,436.602 1289.03,436.602 1309.88,436.602 1330.74,436.602 1351.6,436.602 1372.46,436.602 1393.31,436.602 1414.17,436.602 1435.03,436.602 \n",
       "  1455.88,436.602 1476.74,436.602 1497.6,436.602 1518.46,436.602 1539.31,436.602 1560.17,436.602 1581.03,436.602 1601.89,436.602 1622.74,436.602 1643.6,436.602 \n",
       "  1664.46,436.602 1685.32,436.602 1706.17,436.602 1727.03,436.602 1747.89,436.602 1768.75,436.602 1789.6,436.602 1810.46,436.602 1831.32,436.602 1852.18,436.602 \n",
       "  1873.03,436.602 1893.89,436.602 1914.75,436.602 1935.61,436.602 1956.46,436.602 1977.32,436.602 1998.18,436.602 2019.04,436.602 2039.89,436.602 2060.75,436.602 \n",
       "  2081.61,436.602 2102.47,436.602 2123.32,436.602 2144.18,436.602 2165.04,436.602 2185.9,436.602 2206.75,436.602 2227.61,436.602 2248.47,436.602 2269.33,436.602 \n",
       "  2290.18,436.602 \n",
       "  \"/>\n",
       "<polyline clip-path=\"url(#clip2402)\" style=\"stroke:#008000; stroke-width:4; stroke-opacity:1; fill:none\" points=\"\n",
       "  204.437,1234.01 225.294,1234.01 246.152,1234.01 267.009,1234.01 287.867,1234.01 308.724,1234.01 329.582,1234.01 350.439,1234.01 371.297,1234.01 392.154,1234.01 \n",
       "  413.012,1234.01 433.869,1234.01 454.727,1234.01 475.584,1234.01 496.441,1234.01 517.299,1234.01 538.156,1234.01 559.014,1234.01 579.871,1234.01 600.729,1234.01 \n",
       "  621.586,1234.01 642.444,1234.01 663.301,1234.01 684.159,1234.01 705.016,1234.01 725.874,1234.01 746.731,1234.01 767.589,1234.01 788.446,1234.01 809.303,1234.01 \n",
       "  830.161,1234.01 851.018,1234.01 871.876,1234.01 892.733,1234.01 913.591,1234.01 934.448,1234.01 955.306,1234.01 976.163,1234.01 997.021,1234.01 1017.88,1234.01 \n",
       "  1038.74,1234.01 1059.59,1234.01 1080.45,1234.01 1101.31,1234.01 1122.17,1234.01 1143.02,1234.01 1163.88,1234.01 1184.74,1234.01 1205.6,1234.01 1226.45,1234.01 \n",
       "  1247.31,1234.01 1268.17,1234.01 1289.03,1234.01 1309.88,1234.01 1330.74,1234.01 1351.6,1234.01 1372.46,1234.01 1393.31,1234.01 1414.17,1234.01 1435.03,1234.01 \n",
       "  1455.88,1234.01 1476.74,1234.01 1497.6,1234.01 1518.46,1234.01 1539.31,1234.01 1560.17,1234.01 1581.03,1234.01 1601.89,1234.01 1622.74,1234.01 1643.6,1234.01 \n",
       "  1664.46,1234.01 1685.32,1234.01 1706.17,1234.01 1727.03,1234.01 1747.89,1234.01 1768.75,1234.01 1789.6,1234.01 1810.46,1234.01 1831.32,1234.01 1852.18,1234.01 \n",
       "  1873.03,1234.01 1893.89,1234.01 1914.75,1234.01 1935.61,1234.01 1956.46,1234.01 1977.32,1234.01 1998.18,1234.01 2019.04,1234.01 2039.89,1234.01 2060.75,1234.01 \n",
       "  2081.61,1234.01 2102.47,1234.01 2123.32,1234.01 2144.18,1234.01 2165.04,1234.01 2185.9,1234.01 2206.75,1234.01 2227.61,1234.01 2248.47,1234.01 2269.33,1234.01 \n",
       "  2290.18,1234.01 \n",
       "  \"/>\n",
       "</svg>\n"
      ]
     },
     "execution_count": 20,
     "metadata": {},
     "output_type": "execute_result"
    }
   ],
   "source": [
    "using Plots\n",
    "plot(t, x)\n",
    "plot!(t, avg(x)*ones(length(x)))\n",
    "plot!(t, (avg(x) + rms(x))*ones(length(x)), color=:green)\n",
    "plot!(t, (avg(x) -rms(x)) * ones(length(x)), color=:green)\n",
    "plot!(legend=false)"
   ]
  },
  {
   "cell_type": "code",
   "execution_count": null,
   "metadata": {},
   "outputs": [],
   "source": []
  }
 ],
 "metadata": {
  "kernelspec": {
   "display_name": "Julia 1.1.0",
   "language": "julia",
   "name": "julia-1.1"
  },
  "language_info": {
   "file_extension": ".jl",
   "mimetype": "application/julia",
   "name": "julia",
   "version": "1.1.0"
  },
  "toc": {
   "nav_menu": {},
   "number_sections": true,
   "sideBar": true,
   "skip_h1_title": false,
   "toc_cell": false,
   "toc_position": {},
   "toc_section_display": "block",
   "toc_window_display": false
  }
 },
 "nbformat": 4,
 "nbformat_minor": 2
}
