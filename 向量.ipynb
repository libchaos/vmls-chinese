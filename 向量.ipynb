{
 "cells": [
  {
   "cell_type": "markdown",
   "metadata": {},
   "source": [
    "## 向量\n",
    "    向量在julia用一维数组对象, 内部元素可以用逗号或者分号进行分割，外部被中括号所包围"
   ]
  },
  {
   "cell_type": "code",
   "execution_count": 1,
   "metadata": {},
   "outputs": [
    {
     "data": {
      "text/plain": [
       "4-element Array{Float64,1}:\n",
       " -1.1\n",
       "  0.0\n",
       "  3.6\n",
       "  7.2"
      ]
     },
     "execution_count": 1,
     "metadata": {},
     "output_type": "execute_result"
    }
   ],
   "source": [
    "x = [-1.1, 0, 3.6, 7.2]"
   ]
  },
  {
   "cell_type": "code",
   "execution_count": 2,
   "metadata": {},
   "outputs": [
    {
     "data": {
      "text/plain": [
       "4"
      ]
     },
     "execution_count": 2,
     "metadata": {},
     "output_type": "execute_result"
    }
   ],
   "source": [
    "length(x)"
   ]
  },
  {
   "cell_type": "code",
   "execution_count": 3,
   "metadata": {},
   "outputs": [
    {
     "data": {
      "text/plain": [
       "4-element Array{Int64,1}:\n",
       " 1\n",
       " 2\n",
       " 3\n",
       " 4"
      ]
     },
     "execution_count": 3,
     "metadata": {},
     "output_type": "execute_result"
    }
   ],
   "source": [
    "y = [1; 2; 3; 4]"
   ]
  },
  {
   "cell_type": "markdown",
   "metadata": {},
   "source": [
    "**注意以下情况，他们所表示的并不是向量**"
   ]
  },
  {
   "cell_type": "code",
   "execution_count": 4,
   "metadata": {},
   "outputs": [
    {
     "data": {
      "text/plain": [
       "1×2 Array{Int64,2}:\n",
       " 1  2"
      ]
     },
     "execution_count": 4,
     "metadata": {},
     "output_type": "execute_result"
    }
   ],
   "source": [
    "a = [1 2] # 这是一个1*2纬的数组"
   ]
  },
  {
   "cell_type": "code",
   "execution_count": 5,
   "metadata": {},
   "outputs": [
    {
     "data": {
      "text/plain": [
       "(1, 2)"
      ]
     },
     "execution_count": 5,
     "metadata": {},
     "output_type": "execute_result"
    }
   ],
   "source": [
    "b = (1, 2) # 这是一个元组对象"
   ]
  },
  {
   "cell_type": "markdown",
   "metadata": {},
   "source": [
    "### 索引 \n",
    "$x_i$ 对应的表达式 是 $x[i]$ 这里$i$是从1到$n$的"
   ]
  },
  {
   "cell_type": "code",
   "execution_count": 6,
   "metadata": {},
   "outputs": [
    {
     "data": {
      "text/plain": [
       "-1.1"
      ]
     },
     "execution_count": 6,
     "metadata": {},
     "output_type": "execute_result"
    }
   ],
   "source": [
    "x[1]"
   ]
  },
  {
   "cell_type": "code",
   "execution_count": 7,
   "metadata": {},
   "outputs": [
    {
     "data": {
      "text/plain": [
       "2"
      ]
     },
     "execution_count": 7,
     "metadata": {},
     "output_type": "execute_result"
    }
   ],
   "source": [
    "x[1] = 2 # 修改元素的值"
   ]
  },
  {
   "cell_type": "code",
   "execution_count": 8,
   "metadata": {},
   "outputs": [
    {
     "data": {
      "text/plain": [
       "4-element Array{Float64,1}:\n",
       " 2.0\n",
       " 0.0\n",
       " 3.6\n",
       " 7.2"
      ]
     },
     "execution_count": 8,
     "metadata": {},
     "output_type": "execute_result"
    }
   ],
   "source": [
    "x"
   ]
  },
  {
   "cell_type": "code",
   "execution_count": 9,
   "metadata": {},
   "outputs": [
    {
     "data": {
      "text/plain": [
       "7.2"
      ]
     },
     "execution_count": 9,
     "metadata": {},
     "output_type": "execute_result"
    }
   ],
   "source": [
    "x[end] # 表示最后一个元素 == x[length(x)]"
   ]
  },
  {
   "cell_type": "code",
   "execution_count": 10,
   "metadata": {},
   "outputs": [
    {
     "data": {
      "text/plain": [
       "4-element Array{Float64,1}:\n",
       " 2.0\n",
       " 0.0\n",
       " 3.6\n",
       " 7.2"
      ]
     },
     "execution_count": 10,
     "metadata": {},
     "output_type": "execute_result"
    }
   ],
   "source": [
    "y = x # y 是x的引用 指向同一块内存"
   ]
  },
  {
   "cell_type": "code",
   "execution_count": 11,
   "metadata": {},
   "outputs": [
    {
     "data": {
      "text/plain": [
       "true"
      ]
     },
     "execution_count": 11,
     "metadata": {},
     "output_type": "execute_result"
    }
   ],
   "source": [
    "x == y"
   ]
  },
  {
   "cell_type": "code",
   "execution_count": 12,
   "metadata": {},
   "outputs": [
    {
     "data": {
      "text/plain": [
       "1"
      ]
     },
     "execution_count": 12,
     "metadata": {},
     "output_type": "execute_result"
    }
   ],
   "source": [
    "y[3] = 1"
   ]
  },
  {
   "cell_type": "code",
   "execution_count": 13,
   "metadata": {},
   "outputs": [
    {
     "data": {
      "text/plain": [
       "4-element Array{Float64,1}:\n",
       " 2.0\n",
       " 0.0\n",
       " 1.0\n",
       " 7.2"
      ]
     },
     "execution_count": 13,
     "metadata": {},
     "output_type": "execute_result"
    }
   ],
   "source": [
    "x"
   ]
  },
  {
   "cell_type": "code",
   "execution_count": 14,
   "metadata": {},
   "outputs": [
    {
     "data": {
      "text/plain": [
       "4-element Array{Float64,1}:\n",
       " 2.0\n",
       " 0.0\n",
       " 1.0\n",
       " 7.2"
      ]
     },
     "execution_count": 14,
     "metadata": {},
     "output_type": "execute_result"
    }
   ],
   "source": [
    "z = copy(x)"
   ]
  },
  {
   "cell_type": "code",
   "execution_count": 16,
   "metadata": {},
   "outputs": [
    {
     "data": {
      "text/plain": [
       "\"0x0000000112f8c550\""
      ]
     },
     "execution_count": 16,
     "metadata": {},
     "output_type": "execute_result"
    }
   ],
   "source": [
    "s_x = repr(UInt64(pointer_from_objref(x)))"
   ]
  },
  {
   "cell_type": "code",
   "execution_count": 18,
   "metadata": {},
   "outputs": [
    {
     "data": {
      "text/plain": [
       "\"0x0000000112f8c550\""
      ]
     },
     "execution_count": 18,
     "metadata": {},
     "output_type": "execute_result"
    }
   ],
   "source": [
    "s_y = repr(UInt64(pointer_from_objref(x))) # x, y 指向同一块内存"
   ]
  },
  {
   "cell_type": "code",
   "execution_count": 19,
   "metadata": {},
   "outputs": [
    {
     "data": {
      "text/plain": [
       "\"0x00000001138e6e70\""
      ]
     },
     "execution_count": 19,
     "metadata": {},
     "output_type": "execute_result"
    }
   ],
   "source": [
    "s_z = repr(UInt64(pointer_from_objref(z))) # z 指向另一块内存"
   ]
  },
  {
   "cell_type": "markdown",
   "metadata": {},
   "source": [
    "### 判断是否相等 =="
   ]
  },
  {
   "cell_type": "code",
   "execution_count": 20,
   "metadata": {},
   "outputs": [
    {
     "data": {
      "text/plain": [
       "true"
      ]
     },
     "execution_count": 20,
     "metadata": {},
     "output_type": "execute_result"
    }
   ],
   "source": [
    "x == y"
   ]
  },
  {
   "cell_type": "code",
   "execution_count": 21,
   "metadata": {},
   "outputs": [
    {
     "data": {
      "text/plain": [
       "true"
      ]
     },
     "execution_count": 21,
     "metadata": {},
     "output_type": "execute_result"
    }
   ],
   "source": [
    "y == z"
   ]
  },
  {
   "cell_type": "code",
   "execution_count": 27,
   "metadata": {},
   "outputs": [
    {
     "data": {
      "text/plain": [
       "3"
      ]
     },
     "execution_count": 27,
     "metadata": {},
     "output_type": "execute_result"
    }
   ],
   "source": [
    "z[1] = 3"
   ]
  },
  {
   "cell_type": "code",
   "execution_count": 28,
   "metadata": {},
   "outputs": [
    {
     "data": {
      "text/plain": [
       "4-element Array{Float64,1}:\n",
       " 3.0\n",
       " 0.0\n",
       " 1.0\n",
       " 7.2"
      ]
     },
     "execution_count": 28,
     "metadata": {},
     "output_type": "execute_result"
    }
   ],
   "source": [
    "z"
   ]
  },
  {
   "cell_type": "code",
   "execution_count": 29,
   "metadata": {},
   "outputs": [
    {
     "data": {
      "text/plain": [
       "false"
      ]
     },
     "execution_count": 29,
     "metadata": {},
     "output_type": "execute_result"
    }
   ],
   "source": [
    "y == z"
   ]
  },
  {
   "cell_type": "code",
   "execution_count": 30,
   "metadata": {},
   "outputs": [
    {
     "data": {
      "text/plain": [
       "4-element Array{Float64,1}:\n",
       " 2.0\n",
       " 0.0\n",
       " 1.0\n",
       " 7.2"
      ]
     },
     "execution_count": 30,
     "metadata": {},
     "output_type": "execute_result"
    }
   ],
   "source": [
    "y"
   ]
  },
  {
   "cell_type": "markdown",
   "metadata": {},
   "source": [
    "### 标量， 单元素的向量"
   ]
  },
  {
   "cell_type": "code",
   "execution_count": 31,
   "metadata": {},
   "outputs": [
    {
     "data": {
      "text/plain": [
       "1-element Array{Float64,1}:\n",
       " 1.3"
      ]
     },
     "execution_count": 31,
     "metadata": {},
     "output_type": "execute_result"
    }
   ],
   "source": [
    "x = [1.3]"
   ]
  },
  {
   "cell_type": "code",
   "execution_count": 32,
   "metadata": {},
   "outputs": [
    {
     "data": {
      "text/plain": [
       "1.3"
      ]
     },
     "execution_count": 32,
     "metadata": {},
     "output_type": "execute_result"
    }
   ],
   "source": [
    "y = 1.3"
   ]
  },
  {
   "cell_type": "code",
   "execution_count": 33,
   "metadata": {},
   "outputs": [
    {
     "data": {
      "text/plain": [
       "false"
      ]
     },
     "execution_count": 33,
     "metadata": {},
     "output_type": "execute_result"
    }
   ],
   "source": [
    "x == y"
   ]
  },
  {
   "cell_type": "code",
   "execution_count": 34,
   "metadata": {},
   "outputs": [
    {
     "data": {
      "text/plain": [
       "true"
      ]
     },
     "execution_count": 34,
     "metadata": {},
     "output_type": "execute_result"
    }
   ],
   "source": [
    "x[1] == y"
   ]
  },
  {
   "cell_type": "markdown",
   "metadata": {},
   "source": [
    "### 分块 堆叠向量\n",
    "julia中用分号或者vcat方法进行垂直连接\n",
    "\n",
    "$z=(x, y) 其中 x=(1, -2), y=(1, 1, 0)$"
   ]
  },
  {
   "cell_type": "code",
   "execution_count": 55,
   "metadata": {},
   "outputs": [
    {
     "data": {
      "text/plain": [
       "2-element Array{Int64,1}:\n",
       "  1\n",
       " -2"
      ]
     },
     "execution_count": 55,
     "metadata": {},
     "output_type": "execute_result"
    }
   ],
   "source": [
    "x = [1, -2]"
   ]
  },
  {
   "cell_type": "code",
   "execution_count": 56,
   "metadata": {},
   "outputs": [
    {
     "data": {
      "text/plain": [
       "3-element Array{Int64,1}:\n",
       " 1\n",
       " 1\n",
       " 0"
      ]
     },
     "execution_count": 56,
     "metadata": {},
     "output_type": "execute_result"
    }
   ],
   "source": [
    "y = [1, 1, 0]"
   ]
  },
  {
   "cell_type": "code",
   "execution_count": 57,
   "metadata": {},
   "outputs": [
    {
     "data": {
      "text/plain": [
       "5-element Array{Int64,1}:\n",
       "  1\n",
       " -2\n",
       "  1\n",
       "  1\n",
       "  0"
      ]
     },
     "execution_count": 57,
     "metadata": {},
     "output_type": "execute_result"
    }
   ],
   "source": [
    "z = [x; y]"
   ]
  },
  {
   "cell_type": "code",
   "execution_count": 58,
   "metadata": {},
   "outputs": [
    {
     "data": {
      "text/plain": [
       "5-element Array{Int64,1}:\n",
       "  1\n",
       " -2\n",
       "  1\n",
       "  1\n",
       "  0"
      ]
     },
     "execution_count": 58,
     "metadata": {},
     "output_type": "execute_result"
    }
   ],
   "source": [
    "z = vcat(x, y)"
   ]
  },
  {
   "cell_type": "code",
   "execution_count": 59,
   "metadata": {},
   "outputs": [
    {
     "data": {
      "text/plain": [
       "4-element Array{Int64,1}:\n",
       "  1\n",
       "  1\n",
       " -2\n",
       "  0"
      ]
     },
     "execution_count": 59,
     "metadata": {},
     "output_type": "execute_result"
    }
   ],
   "source": [
    "[1; x; 0] # 也可以使用标量"
   ]
  },
  {
   "cell_type": "code",
   "execution_count": 60,
   "metadata": {},
   "outputs": [
    {
     "data": {
      "text/plain": [
       "2-element Array{Any,1}:\n",
       " 1       \n",
       "  [1, -2]"
      ]
     },
     "execution_count": 60,
     "metadata": {},
     "output_type": "execute_result"
    }
   ],
   "source": [
    "[1, x] #注意对象的变化"
   ]
  },
  {
   "cell_type": "code",
   "execution_count": 61,
   "metadata": {},
   "outputs": [
    {
     "data": {
      "text/plain": [
       "2-element Array{Int64,1}:\n",
       "  1\n",
       " -2"
      ]
     },
     "execution_count": 61,
     "metadata": {},
     "output_type": "execute_result"
    }
   ],
   "source": [
    "x"
   ]
  },
  {
   "cell_type": "code",
   "execution_count": null,
   "metadata": {},
   "outputs": [],
   "source": []
  },
  {
   "cell_type": "code",
   "execution_count": 77,
   "metadata": {},
   "outputs": [
    {
     "data": {
      "text/plain": [
       "(2,)"
      ]
     },
     "execution_count": 77,
     "metadata": {},
     "output_type": "execute_result"
    }
   ],
   "source": [
    "size(x) # 查看纬度"
   ]
  },
  {
   "cell_type": "code",
   "execution_count": 64,
   "metadata": {},
   "outputs": [
    {
     "data": {
      "text/plain": [
       "2-element Array{Int64,1}:\n",
       "  1\n",
       " -2"
      ]
     },
     "execution_count": 64,
     "metadata": {},
     "output_type": "execute_result"
    }
   ],
   "source": [
    "x"
   ]
  },
  {
   "cell_type": "code",
   "execution_count": 65,
   "metadata": {},
   "outputs": [
    {
     "data": {
      "text/plain": [
       "2-element Array{Int64,1}:\n",
       " 2\n",
       " 3"
      ]
     },
     "execution_count": 65,
     "metadata": {},
     "output_type": "execute_result"
    }
   ],
   "source": [
    "d = [2, 3]"
   ]
  },
  {
   "cell_type": "code",
   "execution_count": 66,
   "metadata": {},
   "outputs": [
    {
     "data": {
      "text/plain": [
       "2×2 Array{Int64,2}:\n",
       "  1  2\n",
       " -2  3"
      ]
     },
     "execution_count": 66,
     "metadata": {},
     "output_type": "execute_result"
    }
   ],
   "source": [
    "f = [x d]"
   ]
  },
  {
   "cell_type": "code",
   "execution_count": 67,
   "metadata": {},
   "outputs": [
    {
     "data": {
      "text/plain": [
       "(2, 2)"
      ]
     },
     "execution_count": 67,
     "metadata": {},
     "output_type": "execute_result"
    }
   ],
   "source": [
    "size(f)"
   ]
  },
  {
   "cell_type": "markdown",
   "metadata": {},
   "source": [
    "## 单位向量的构建"
   ]
  },
  {
   "cell_type": "code",
   "execution_count": 68,
   "metadata": {},
   "outputs": [
    {
     "data": {
      "text/plain": [
       "unit_vector (generic function with 1 method)"
      ]
     },
     "execution_count": 68,
     "metadata": {},
     "output_type": "execute_result"
    }
   ],
   "source": [
    "unit_vector(i, n) = [zeros(i-1); 1; zeros(n-i)]"
   ]
  },
  {
   "cell_type": "code",
   "execution_count": 69,
   "metadata": {},
   "outputs": [
    {
     "data": {
      "text/plain": [
       "4-element Array{Float64,1}:\n",
       " 0.0\n",
       " 1.0\n",
       " 0.0\n",
       " 0.0"
      ]
     },
     "execution_count": 69,
     "metadata": {},
     "output_type": "execute_result"
    }
   ],
   "source": [
    "unit_vector(2, 4)"
   ]
  },
  {
   "cell_type": "markdown",
   "metadata": {},
   "source": [
    "# 画图"
   ]
  },
  {
   "cell_type": "code",
   "execution_count": 70,
   "metadata": {},
   "outputs": [
    {
     "name": "stderr",
     "output_type": "stream",
     "text": [
      "┌ Info: Recompiling stale cache file /Users/mac/.julia/compiled/v1.1/Plots/ld3vC.ji for Plots [91a5bcdd-55d7-5caf-9e0b-520d859cae80]\n",
      "└ @ Base loading.jl:1184\n"
     ]
    }
   ],
   "source": [
    "using Plots"
   ]
  },
  {
   "cell_type": "code",
   "execution_count": 71,
   "metadata": {},
   "outputs": [
    {
     "data": {
      "text/plain": [
       "30×1 Array{Int64,2}:\n",
       " -22\n",
       "  30\n",
       " -16\n",
       "  40\n",
       " -27\n",
       " -19\n",
       "  32\n",
       "  20\n",
       " -10\n",
       "  10\n",
       "  30\n",
       "  -7\n",
       "  15\n",
       "   ⋮\n",
       " -23\n",
       "   5\n",
       " -23\n",
       "  -3\n",
       "  36\n",
       "   7\n",
       "   0\n",
       "   9\n",
       "   4\n",
       "  29\n",
       "   0\n",
       "  10"
      ]
     },
     "execution_count": 71,
     "metadata": {},
     "output_type": "execute_result"
    }
   ],
   "source": [
    "temps = rand(-30:40, 30, 1)"
   ]
  },
  {
   "cell_type": "code",
   "execution_count": 73,
   "metadata": {},
   "outputs": [
    {
     "data": {
      "image/svg+xml": [
       "<?xml version=\"1.0\" encoding=\"utf-8\"?>\n",
       "<svg xmlns=\"http://www.w3.org/2000/svg\" xmlns:xlink=\"http://www.w3.org/1999/xlink\" width=\"600\" height=\"400\" viewBox=\"0 0 2400 1600\">\n",
       "<defs>\n",
       "  <clipPath id=\"clip3000\">\n",
       "    <rect x=\"0\" y=\"0\" width=\"2400\" height=\"1600\"/>\n",
       "  </clipPath>\n",
       "</defs>\n",
       "<polygon clip-path=\"url(#clip3000)\" points=\"\n",
       "0,1600 2400,1600 2400,0 0,0 \n",
       "  \" fill=\"#ffffff\" fill-rule=\"evenodd\" fill-opacity=\"1\"/>\n",
       "<defs>\n",
       "  <clipPath id=\"clip3001\">\n",
       "    <rect x=\"480\" y=\"0\" width=\"1681\" height=\"1600\"/>\n",
       "  </clipPath>\n",
       "</defs>\n",
       "<polygon clip-path=\"url(#clip3000)\" points=\"\n",
       "168.627,1487.47 2352.76,1487.47 2352.76,47.2441 168.627,47.2441 \n",
       "  \" fill=\"#ffffff\" fill-rule=\"evenodd\" fill-opacity=\"1\"/>\n",
       "<defs>\n",
       "  <clipPath id=\"clip3002\">\n",
       "    <rect x=\"168\" y=\"47\" width=\"2185\" height=\"1441\"/>\n",
       "  </clipPath>\n",
       "</defs>\n",
       "<polyline clip-path=\"url(#clip3002)\" style=\"stroke:#000000; stroke-width:2; stroke-opacity:0.1; fill:none\" points=\"\n",
       "  514.649,1487.47 514.649,47.2441 \n",
       "  \"/>\n",
       "<polyline clip-path=\"url(#clip3002)\" style=\"stroke:#000000; stroke-width:2; stroke-opacity:0.1; fill:none\" points=\"\n",
       "  869.907,1487.47 869.907,47.2441 \n",
       "  \"/>\n",
       "<polyline clip-path=\"url(#clip3002)\" style=\"stroke:#000000; stroke-width:2; stroke-opacity:0.1; fill:none\" points=\"\n",
       "  1225.17,1487.47 1225.17,47.2441 \n",
       "  \"/>\n",
       "<polyline clip-path=\"url(#clip3002)\" style=\"stroke:#000000; stroke-width:2; stroke-opacity:0.1; fill:none\" points=\"\n",
       "  1580.42,1487.47 1580.42,47.2441 \n",
       "  \"/>\n",
       "<polyline clip-path=\"url(#clip3002)\" style=\"stroke:#000000; stroke-width:2; stroke-opacity:0.1; fill:none\" points=\"\n",
       "  1935.68,1487.47 1935.68,47.2441 \n",
       "  \"/>\n",
       "<polyline clip-path=\"url(#clip3002)\" style=\"stroke:#000000; stroke-width:2; stroke-opacity:0.1; fill:none\" points=\"\n",
       "  2290.94,1487.47 2290.94,47.2441 \n",
       "  \"/>\n",
       "<polyline clip-path=\"url(#clip3002)\" style=\"stroke:#000000; stroke-width:2; stroke-opacity:0.1; fill:none\" points=\"\n",
       "  168.627,1304.76 2352.76,1304.76 \n",
       "  \"/>\n",
       "<polyline clip-path=\"url(#clip3002)\" style=\"stroke:#000000; stroke-width:2; stroke-opacity:0.1; fill:none\" points=\"\n",
       "  168.627,1101.97 2352.76,1101.97 \n",
       "  \"/>\n",
       "<polyline clip-path=\"url(#clip3002)\" style=\"stroke:#000000; stroke-width:2; stroke-opacity:0.1; fill:none\" points=\"\n",
       "  168.627,899.174 2352.76,899.174 \n",
       "  \"/>\n",
       "<polyline clip-path=\"url(#clip3002)\" style=\"stroke:#000000; stroke-width:2; stroke-opacity:0.1; fill:none\" points=\"\n",
       "  168.627,696.382 2352.76,696.382 \n",
       "  \"/>\n",
       "<polyline clip-path=\"url(#clip3002)\" style=\"stroke:#000000; stroke-width:2; stroke-opacity:0.1; fill:none\" points=\"\n",
       "  168.627,493.59 2352.76,493.59 \n",
       "  \"/>\n",
       "<polyline clip-path=\"url(#clip3002)\" style=\"stroke:#000000; stroke-width:2; stroke-opacity:0.1; fill:none\" points=\"\n",
       "  168.627,290.798 2352.76,290.798 \n",
       "  \"/>\n",
       "<polyline clip-path=\"url(#clip3002)\" style=\"stroke:#000000; stroke-width:2; stroke-opacity:0.1; fill:none\" points=\"\n",
       "  168.627,88.0053 2352.76,88.0053 \n",
       "  \"/>\n",
       "<polyline clip-path=\"url(#clip3000)\" style=\"stroke:#000000; stroke-width:4; stroke-opacity:1; fill:none\" points=\"\n",
       "  168.627,1487.47 2352.76,1487.47 \n",
       "  \"/>\n",
       "<polyline clip-path=\"url(#clip3000)\" style=\"stroke:#000000; stroke-width:4; stroke-opacity:1; fill:none\" points=\"\n",
       "  168.627,1487.47 168.627,47.2441 \n",
       "  \"/>\n",
       "<polyline clip-path=\"url(#clip3000)\" style=\"stroke:#000000; stroke-width:4; stroke-opacity:1; fill:none\" points=\"\n",
       "  514.649,1487.47 514.649,1465.87 \n",
       "  \"/>\n",
       "<polyline clip-path=\"url(#clip3000)\" style=\"stroke:#000000; stroke-width:4; stroke-opacity:1; fill:none\" points=\"\n",
       "  869.907,1487.47 869.907,1465.87 \n",
       "  \"/>\n",
       "<polyline clip-path=\"url(#clip3000)\" style=\"stroke:#000000; stroke-width:4; stroke-opacity:1; fill:none\" points=\"\n",
       "  1225.17,1487.47 1225.17,1465.87 \n",
       "  \"/>\n",
       "<polyline clip-path=\"url(#clip3000)\" style=\"stroke:#000000; stroke-width:4; stroke-opacity:1; fill:none\" points=\"\n",
       "  1580.42,1487.47 1580.42,1465.87 \n",
       "  \"/>\n",
       "<polyline clip-path=\"url(#clip3000)\" style=\"stroke:#000000; stroke-width:4; stroke-opacity:1; fill:none\" points=\"\n",
       "  1935.68,1487.47 1935.68,1465.87 \n",
       "  \"/>\n",
       "<polyline clip-path=\"url(#clip3000)\" style=\"stroke:#000000; stroke-width:4; stroke-opacity:1; fill:none\" points=\"\n",
       "  2290.94,1487.47 2290.94,1465.87 \n",
       "  \"/>\n",
       "<polyline clip-path=\"url(#clip3000)\" style=\"stroke:#000000; stroke-width:4; stroke-opacity:1; fill:none\" points=\"\n",
       "  168.627,1304.76 201.389,1304.76 \n",
       "  \"/>\n",
       "<polyline clip-path=\"url(#clip3000)\" style=\"stroke:#000000; stroke-width:4; stroke-opacity:1; fill:none\" points=\"\n",
       "  168.627,1101.97 201.389,1101.97 \n",
       "  \"/>\n",
       "<polyline clip-path=\"url(#clip3000)\" style=\"stroke:#000000; stroke-width:4; stroke-opacity:1; fill:none\" points=\"\n",
       "  168.627,899.174 201.389,899.174 \n",
       "  \"/>\n",
       "<polyline clip-path=\"url(#clip3000)\" style=\"stroke:#000000; stroke-width:4; stroke-opacity:1; fill:none\" points=\"\n",
       "  168.627,696.382 201.389,696.382 \n",
       "  \"/>\n",
       "<polyline clip-path=\"url(#clip3000)\" style=\"stroke:#000000; stroke-width:4; stroke-opacity:1; fill:none\" points=\"\n",
       "  168.627,493.59 201.389,493.59 \n",
       "  \"/>\n",
       "<polyline clip-path=\"url(#clip3000)\" style=\"stroke:#000000; stroke-width:4; stroke-opacity:1; fill:none\" points=\"\n",
       "  168.627,290.798 201.389,290.798 \n",
       "  \"/>\n",
       "<polyline clip-path=\"url(#clip3000)\" style=\"stroke:#000000; stroke-width:4; stroke-opacity:1; fill:none\" points=\"\n",
       "  168.627,88.0053 201.389,88.0053 \n",
       "  \"/>\n",
       "<g clip-path=\"url(#clip3000)\">\n",
       "<text style=\"fill:#000000; fill-opacity:1; font-family:Arial,Helvetica Neue,Helvetica,sans-serif; font-size:48px; text-anchor:middle;\" transform=\"rotate(0, 514.649, 1541.47)\" x=\"514.649\" y=\"1541.47\">5</text>\n",
       "</g>\n",
       "<g clip-path=\"url(#clip3000)\">\n",
       "<text style=\"fill:#000000; fill-opacity:1; font-family:Arial,Helvetica Neue,Helvetica,sans-serif; font-size:48px; text-anchor:middle;\" transform=\"rotate(0, 869.907, 1541.47)\" x=\"869.907\" y=\"1541.47\">10</text>\n",
       "</g>\n",
       "<g clip-path=\"url(#clip3000)\">\n",
       "<text style=\"fill:#000000; fill-opacity:1; font-family:Arial,Helvetica Neue,Helvetica,sans-serif; font-size:48px; text-anchor:middle;\" transform=\"rotate(0, 1225.17, 1541.47)\" x=\"1225.17\" y=\"1541.47\">15</text>\n",
       "</g>\n",
       "<g clip-path=\"url(#clip3000)\">\n",
       "<text style=\"fill:#000000; fill-opacity:1; font-family:Arial,Helvetica Neue,Helvetica,sans-serif; font-size:48px; text-anchor:middle;\" transform=\"rotate(0, 1580.42, 1541.47)\" x=\"1580.42\" y=\"1541.47\">20</text>\n",
       "</g>\n",
       "<g clip-path=\"url(#clip3000)\">\n",
       "<text style=\"fill:#000000; fill-opacity:1; font-family:Arial,Helvetica Neue,Helvetica,sans-serif; font-size:48px; text-anchor:middle;\" transform=\"rotate(0, 1935.68, 1541.47)\" x=\"1935.68\" y=\"1541.47\">25</text>\n",
       "</g>\n",
       "<g clip-path=\"url(#clip3000)\">\n",
       "<text style=\"fill:#000000; fill-opacity:1; font-family:Arial,Helvetica Neue,Helvetica,sans-serif; font-size:48px; text-anchor:middle;\" transform=\"rotate(0, 2290.94, 1541.47)\" x=\"2290.94\" y=\"1541.47\">30</text>\n",
       "</g>\n",
       "<g clip-path=\"url(#clip3000)\">\n",
       "<text style=\"fill:#000000; fill-opacity:1; font-family:Arial,Helvetica Neue,Helvetica,sans-serif; font-size:48px; text-anchor:end;\" transform=\"rotate(0, 144.627, 1322.26)\" x=\"144.627\" y=\"1322.26\">-20</text>\n",
       "</g>\n",
       "<g clip-path=\"url(#clip3000)\">\n",
       "<text style=\"fill:#000000; fill-opacity:1; font-family:Arial,Helvetica Neue,Helvetica,sans-serif; font-size:48px; text-anchor:end;\" transform=\"rotate(0, 144.627, 1119.47)\" x=\"144.627\" y=\"1119.47\">-10</text>\n",
       "</g>\n",
       "<g clip-path=\"url(#clip3000)\">\n",
       "<text style=\"fill:#000000; fill-opacity:1; font-family:Arial,Helvetica Neue,Helvetica,sans-serif; font-size:48px; text-anchor:end;\" transform=\"rotate(0, 144.627, 916.674)\" x=\"144.627\" y=\"916.674\">0</text>\n",
       "</g>\n",
       "<g clip-path=\"url(#clip3000)\">\n",
       "<text style=\"fill:#000000; fill-opacity:1; font-family:Arial,Helvetica Neue,Helvetica,sans-serif; font-size:48px; text-anchor:end;\" transform=\"rotate(0, 144.627, 713.882)\" x=\"144.627\" y=\"713.882\">10</text>\n",
       "</g>\n",
       "<g clip-path=\"url(#clip3000)\">\n",
       "<text style=\"fill:#000000; fill-opacity:1; font-family:Arial,Helvetica Neue,Helvetica,sans-serif; font-size:48px; text-anchor:end;\" transform=\"rotate(0, 144.627, 511.09)\" x=\"144.627\" y=\"511.09\">20</text>\n",
       "</g>\n",
       "<g clip-path=\"url(#clip3000)\">\n",
       "<text style=\"fill:#000000; fill-opacity:1; font-family:Arial,Helvetica Neue,Helvetica,sans-serif; font-size:48px; text-anchor:end;\" transform=\"rotate(0, 144.627, 308.298)\" x=\"144.627\" y=\"308.298\">30</text>\n",
       "</g>\n",
       "<g clip-path=\"url(#clip3000)\">\n",
       "<text style=\"fill:#000000; fill-opacity:1; font-family:Arial,Helvetica Neue,Helvetica,sans-serif; font-size:48px; text-anchor:end;\" transform=\"rotate(0, 144.627, 105.505)\" x=\"144.627\" y=\"105.505\">40</text>\n",
       "</g>\n",
       "<polyline clip-path=\"url(#clip3002)\" style=\"stroke:#009af9; stroke-width:4; stroke-opacity:1; fill:none\" points=\"\n",
       "  230.442,1345.32 301.494,290.798 372.545,1223.64 443.597,88.0053 514.649,1446.71 585.7,1284.48 656.752,250.239 727.804,493.59 798.855,1101.97 869.907,696.382 \n",
       "  940.959,290.798 1012.01,1041.13 1083.06,594.986 1154.11,392.194 1225.17,939.733 1296.22,1041.13 1367.27,331.356 1438.32,1081.69 1509.37,1365.6 1580.42,797.778 \n",
       "  1651.48,1365.6 1722.53,960.012 1793.58,169.122 1864.63,757.22 1935.68,899.174 2006.73,716.661 2077.79,818.057 2148.84,311.077 2219.89,899.174 2290.94,696.382 \n",
       "  \n",
       "  \"/>\n",
       "<circle clip-path=\"url(#clip3002)\" style=\"fill:#000000; stroke:none; fill-opacity:1\" cx=\"230.442\" cy=\"1345.32\" r=\"18\"/>\n",
       "<circle clip-path=\"url(#clip3002)\" style=\"fill:#009af9; stroke:none; fill-opacity:1\" cx=\"230.442\" cy=\"1345.32\" r=\"14\"/>\n",
       "<circle clip-path=\"url(#clip3002)\" style=\"fill:#000000; stroke:none; fill-opacity:1\" cx=\"301.494\" cy=\"290.798\" r=\"18\"/>\n",
       "<circle clip-path=\"url(#clip3002)\" style=\"fill:#009af9; stroke:none; fill-opacity:1\" cx=\"301.494\" cy=\"290.798\" r=\"14\"/>\n",
       "<circle clip-path=\"url(#clip3002)\" style=\"fill:#000000; stroke:none; fill-opacity:1\" cx=\"372.545\" cy=\"1223.64\" r=\"18\"/>\n",
       "<circle clip-path=\"url(#clip3002)\" style=\"fill:#009af9; stroke:none; fill-opacity:1\" cx=\"372.545\" cy=\"1223.64\" r=\"14\"/>\n",
       "<circle clip-path=\"url(#clip3002)\" style=\"fill:#000000; stroke:none; fill-opacity:1\" cx=\"443.597\" cy=\"88.0053\" r=\"18\"/>\n",
       "<circle clip-path=\"url(#clip3002)\" style=\"fill:#009af9; stroke:none; fill-opacity:1\" cx=\"443.597\" cy=\"88.0053\" r=\"14\"/>\n",
       "<circle clip-path=\"url(#clip3002)\" style=\"fill:#000000; stroke:none; fill-opacity:1\" cx=\"514.649\" cy=\"1446.71\" r=\"18\"/>\n",
       "<circle clip-path=\"url(#clip3002)\" style=\"fill:#009af9; stroke:none; fill-opacity:1\" cx=\"514.649\" cy=\"1446.71\" r=\"14\"/>\n",
       "<circle clip-path=\"url(#clip3002)\" style=\"fill:#000000; stroke:none; fill-opacity:1\" cx=\"585.7\" cy=\"1284.48\" r=\"18\"/>\n",
       "<circle clip-path=\"url(#clip3002)\" style=\"fill:#009af9; stroke:none; fill-opacity:1\" cx=\"585.7\" cy=\"1284.48\" r=\"14\"/>\n",
       "<circle clip-path=\"url(#clip3002)\" style=\"fill:#000000; stroke:none; fill-opacity:1\" cx=\"656.752\" cy=\"250.239\" r=\"18\"/>\n",
       "<circle clip-path=\"url(#clip3002)\" style=\"fill:#009af9; stroke:none; fill-opacity:1\" cx=\"656.752\" cy=\"250.239\" r=\"14\"/>\n",
       "<circle clip-path=\"url(#clip3002)\" style=\"fill:#000000; stroke:none; fill-opacity:1\" cx=\"727.804\" cy=\"493.59\" r=\"18\"/>\n",
       "<circle clip-path=\"url(#clip3002)\" style=\"fill:#009af9; stroke:none; fill-opacity:1\" cx=\"727.804\" cy=\"493.59\" r=\"14\"/>\n",
       "<circle clip-path=\"url(#clip3002)\" style=\"fill:#000000; stroke:none; fill-opacity:1\" cx=\"798.855\" cy=\"1101.97\" r=\"18\"/>\n",
       "<circle clip-path=\"url(#clip3002)\" style=\"fill:#009af9; stroke:none; fill-opacity:1\" cx=\"798.855\" cy=\"1101.97\" r=\"14\"/>\n",
       "<circle clip-path=\"url(#clip3002)\" style=\"fill:#000000; stroke:none; fill-opacity:1\" cx=\"869.907\" cy=\"696.382\" r=\"18\"/>\n",
       "<circle clip-path=\"url(#clip3002)\" style=\"fill:#009af9; stroke:none; fill-opacity:1\" cx=\"869.907\" cy=\"696.382\" r=\"14\"/>\n",
       "<circle clip-path=\"url(#clip3002)\" style=\"fill:#000000; stroke:none; fill-opacity:1\" cx=\"940.959\" cy=\"290.798\" r=\"18\"/>\n",
       "<circle clip-path=\"url(#clip3002)\" style=\"fill:#009af9; stroke:none; fill-opacity:1\" cx=\"940.959\" cy=\"290.798\" r=\"14\"/>\n",
       "<circle clip-path=\"url(#clip3002)\" style=\"fill:#000000; stroke:none; fill-opacity:1\" cx=\"1012.01\" cy=\"1041.13\" r=\"18\"/>\n",
       "<circle clip-path=\"url(#clip3002)\" style=\"fill:#009af9; stroke:none; fill-opacity:1\" cx=\"1012.01\" cy=\"1041.13\" r=\"14\"/>\n",
       "<circle clip-path=\"url(#clip3002)\" style=\"fill:#000000; stroke:none; fill-opacity:1\" cx=\"1083.06\" cy=\"594.986\" r=\"18\"/>\n",
       "<circle clip-path=\"url(#clip3002)\" style=\"fill:#009af9; stroke:none; fill-opacity:1\" cx=\"1083.06\" cy=\"594.986\" r=\"14\"/>\n",
       "<circle clip-path=\"url(#clip3002)\" style=\"fill:#000000; stroke:none; fill-opacity:1\" cx=\"1154.11\" cy=\"392.194\" r=\"18\"/>\n",
       "<circle clip-path=\"url(#clip3002)\" style=\"fill:#009af9; stroke:none; fill-opacity:1\" cx=\"1154.11\" cy=\"392.194\" r=\"14\"/>\n",
       "<circle clip-path=\"url(#clip3002)\" style=\"fill:#000000; stroke:none; fill-opacity:1\" cx=\"1225.17\" cy=\"939.733\" r=\"18\"/>\n",
       "<circle clip-path=\"url(#clip3002)\" style=\"fill:#009af9; stroke:none; fill-opacity:1\" cx=\"1225.17\" cy=\"939.733\" r=\"14\"/>\n",
       "<circle clip-path=\"url(#clip3002)\" style=\"fill:#000000; stroke:none; fill-opacity:1\" cx=\"1296.22\" cy=\"1041.13\" r=\"18\"/>\n",
       "<circle clip-path=\"url(#clip3002)\" style=\"fill:#009af9; stroke:none; fill-opacity:1\" cx=\"1296.22\" cy=\"1041.13\" r=\"14\"/>\n",
       "<circle clip-path=\"url(#clip3002)\" style=\"fill:#000000; stroke:none; fill-opacity:1\" cx=\"1367.27\" cy=\"331.356\" r=\"18\"/>\n",
       "<circle clip-path=\"url(#clip3002)\" style=\"fill:#009af9; stroke:none; fill-opacity:1\" cx=\"1367.27\" cy=\"331.356\" r=\"14\"/>\n",
       "<circle clip-path=\"url(#clip3002)\" style=\"fill:#000000; stroke:none; fill-opacity:1\" cx=\"1438.32\" cy=\"1081.69\" r=\"18\"/>\n",
       "<circle clip-path=\"url(#clip3002)\" style=\"fill:#009af9; stroke:none; fill-opacity:1\" cx=\"1438.32\" cy=\"1081.69\" r=\"14\"/>\n",
       "<circle clip-path=\"url(#clip3002)\" style=\"fill:#000000; stroke:none; fill-opacity:1\" cx=\"1509.37\" cy=\"1365.6\" r=\"18\"/>\n",
       "<circle clip-path=\"url(#clip3002)\" style=\"fill:#009af9; stroke:none; fill-opacity:1\" cx=\"1509.37\" cy=\"1365.6\" r=\"14\"/>\n",
       "<circle clip-path=\"url(#clip3002)\" style=\"fill:#000000; stroke:none; fill-opacity:1\" cx=\"1580.42\" cy=\"797.778\" r=\"18\"/>\n",
       "<circle clip-path=\"url(#clip3002)\" style=\"fill:#009af9; stroke:none; fill-opacity:1\" cx=\"1580.42\" cy=\"797.778\" r=\"14\"/>\n",
       "<circle clip-path=\"url(#clip3002)\" style=\"fill:#000000; stroke:none; fill-opacity:1\" cx=\"1651.48\" cy=\"1365.6\" r=\"18\"/>\n",
       "<circle clip-path=\"url(#clip3002)\" style=\"fill:#009af9; stroke:none; fill-opacity:1\" cx=\"1651.48\" cy=\"1365.6\" r=\"14\"/>\n",
       "<circle clip-path=\"url(#clip3002)\" style=\"fill:#000000; stroke:none; fill-opacity:1\" cx=\"1722.53\" cy=\"960.012\" r=\"18\"/>\n",
       "<circle clip-path=\"url(#clip3002)\" style=\"fill:#009af9; stroke:none; fill-opacity:1\" cx=\"1722.53\" cy=\"960.012\" r=\"14\"/>\n",
       "<circle clip-path=\"url(#clip3002)\" style=\"fill:#000000; stroke:none; fill-opacity:1\" cx=\"1793.58\" cy=\"169.122\" r=\"18\"/>\n",
       "<circle clip-path=\"url(#clip3002)\" style=\"fill:#009af9; stroke:none; fill-opacity:1\" cx=\"1793.58\" cy=\"169.122\" r=\"14\"/>\n",
       "<circle clip-path=\"url(#clip3002)\" style=\"fill:#000000; stroke:none; fill-opacity:1\" cx=\"1864.63\" cy=\"757.22\" r=\"18\"/>\n",
       "<circle clip-path=\"url(#clip3002)\" style=\"fill:#009af9; stroke:none; fill-opacity:1\" cx=\"1864.63\" cy=\"757.22\" r=\"14\"/>\n",
       "<circle clip-path=\"url(#clip3002)\" style=\"fill:#000000; stroke:none; fill-opacity:1\" cx=\"1935.68\" cy=\"899.174\" r=\"18\"/>\n",
       "<circle clip-path=\"url(#clip3002)\" style=\"fill:#009af9; stroke:none; fill-opacity:1\" cx=\"1935.68\" cy=\"899.174\" r=\"14\"/>\n",
       "<circle clip-path=\"url(#clip3002)\" style=\"fill:#000000; stroke:none; fill-opacity:1\" cx=\"2006.73\" cy=\"716.661\" r=\"18\"/>\n",
       "<circle clip-path=\"url(#clip3002)\" style=\"fill:#009af9; stroke:none; fill-opacity:1\" cx=\"2006.73\" cy=\"716.661\" r=\"14\"/>\n",
       "<circle clip-path=\"url(#clip3002)\" style=\"fill:#000000; stroke:none; fill-opacity:1\" cx=\"2077.79\" cy=\"818.057\" r=\"18\"/>\n",
       "<circle clip-path=\"url(#clip3002)\" style=\"fill:#009af9; stroke:none; fill-opacity:1\" cx=\"2077.79\" cy=\"818.057\" r=\"14\"/>\n",
       "<circle clip-path=\"url(#clip3002)\" style=\"fill:#000000; stroke:none; fill-opacity:1\" cx=\"2148.84\" cy=\"311.077\" r=\"18\"/>\n",
       "<circle clip-path=\"url(#clip3002)\" style=\"fill:#009af9; stroke:none; fill-opacity:1\" cx=\"2148.84\" cy=\"311.077\" r=\"14\"/>\n",
       "<circle clip-path=\"url(#clip3002)\" style=\"fill:#000000; stroke:none; fill-opacity:1\" cx=\"2219.89\" cy=\"899.174\" r=\"18\"/>\n",
       "<circle clip-path=\"url(#clip3002)\" style=\"fill:#009af9; stroke:none; fill-opacity:1\" cx=\"2219.89\" cy=\"899.174\" r=\"14\"/>\n",
       "<circle clip-path=\"url(#clip3002)\" style=\"fill:#000000; stroke:none; fill-opacity:1\" cx=\"2290.94\" cy=\"696.382\" r=\"18\"/>\n",
       "<circle clip-path=\"url(#clip3002)\" style=\"fill:#009af9; stroke:none; fill-opacity:1\" cx=\"2290.94\" cy=\"696.382\" r=\"14\"/>\n",
       "</svg>\n"
      ]
     },
     "execution_count": 73,
     "metadata": {},
     "output_type": "execute_result"
    }
   ],
   "source": [
    "plot(temps, marker=:circle, legend=false, grid=true)"
   ]
  },
  {
   "cell_type": "code",
   "execution_count": 74,
   "metadata": {},
   "outputs": [],
   "source": [
    "savefig(\"temperature.pdf\")"
   ]
  },
  {
   "cell_type": "markdown",
   "metadata": {},
   "source": [
    "## 运算"
   ]
  },
  {
   "cell_type": "code",
   "execution_count": 78,
   "metadata": {},
   "outputs": [
    {
     "data": {
      "text/plain": [
       "2-element Array{Int64,1}:\n",
       "  1\n",
       " -2"
      ]
     },
     "execution_count": 78,
     "metadata": {},
     "output_type": "execute_result"
    }
   ],
   "source": [
    "x"
   ]
  },
  {
   "cell_type": "code",
   "execution_count": 79,
   "metadata": {},
   "outputs": [
    {
     "data": {
      "text/plain": [
       "2-element Array{Float64,1}:\n",
       "  0.3333333333333333\n",
       " -0.6666666666666666"
      ]
     },
     "execution_count": 79,
     "metadata": {},
     "output_type": "execute_result"
    }
   ],
   "source": [
    "x / 3"
   ]
  },
  {
   "cell_type": "code",
   "execution_count": 81,
   "metadata": {},
   "outputs": [
    {
     "data": {
      "text/plain": [
       "2-element Array{Int64,1}:\n",
       "  0\n",
       " -3"
      ]
     },
     "execution_count": 81,
     "metadata": {},
     "output_type": "execute_result"
    }
   ],
   "source": [
    "x .- 1"
   ]
  },
  {
   "cell_type": "code",
   "execution_count": 82,
   "metadata": {},
   "outputs": [
    {
     "data": {
      "text/plain": [
       "10-element Array{Int64,1}:\n",
       "  1\n",
       "  2\n",
       "  3\n",
       "  4\n",
       "  5\n",
       "  6\n",
       "  7\n",
       "  8\n",
       "  9\n",
       " 10"
      ]
     },
     "execution_count": 82,
     "metadata": {},
     "output_type": "execute_result"
    }
   ],
   "source": [
    "p_init = [i for i in 1:10]"
   ]
  },
  {
   "cell_type": "code",
   "execution_count": 83,
   "metadata": {},
   "outputs": [
    {
     "data": {
      "text/plain": [
       "10-element Array{Int64,1}:\n",
       "  5\n",
       "  6\n",
       "  5\n",
       "  7\n",
       "  9\n",
       "  8\n",
       " 11\n",
       " 12\n",
       " 12\n",
       " 14"
      ]
     },
     "execution_count": 83,
     "metadata": {},
     "output_type": "execute_result"
    }
   ],
   "source": [
    "p_final = [i + rand(1:4) for i in 1:10]"
   ]
  },
  {
   "cell_type": "code",
   "execution_count": 88,
   "metadata": {},
   "outputs": [
    {
     "data": {
      "text/plain": [
       "10-element Array{Float64,1}:\n",
       " 400.0             \n",
       " 200.0             \n",
       "  66.66666666666666\n",
       "  75.0             \n",
       "  80.0             \n",
       "  33.33333333333333\n",
       "  57.14285714285714\n",
       "  50.0             \n",
       "  33.33333333333333\n",
       "  40.0             "
      ]
     },
     "execution_count": 88,
     "metadata": {},
     "output_type": "execute_result"
    }
   ],
   "source": [
    "r = ((p_final - p_init) ./ p_init) .* 100 # 增长率"
   ]
  },
  {
   "cell_type": "code",
   "execution_count": 89,
   "metadata": {},
   "outputs": [
    {
     "data": {
      "text/plain": [
       "3-element Array{Int64,1}:\n",
       " 1\n",
       " 2\n",
       " 4"
      ]
     },
     "execution_count": 89,
     "metadata": {},
     "output_type": "execute_result"
    }
   ],
   "source": [
    "w = [1, 2, 2]; z=[1, 2, 4]"
   ]
  },
  {
   "cell_type": "code",
   "execution_count": 90,
   "metadata": {},
   "outputs": [
    {
     "data": {
      "text/plain": [
       "false"
      ]
     },
     "execution_count": 90,
     "metadata": {},
     "output_type": "execute_result"
    }
   ],
   "source": [
    "w == z"
   ]
  },
  {
   "cell_type": "code",
   "execution_count": 91,
   "metadata": {},
   "outputs": [
    {
     "data": {
      "text/plain": [
       "3-element BitArray{1}:\n",
       "  true\n",
       "  true\n",
       " false"
      ]
     },
     "execution_count": 91,
     "metadata": {},
     "output_type": "execute_result"
    }
   ],
   "source": [
    "w .== z"
   ]
  },
  {
   "cell_type": "code",
   "execution_count": 92,
   "metadata": {},
   "outputs": [
    {
     "data": {
      "text/plain": [
       "3-element Array{Int64,1}:\n",
       " 1\n",
       " 2\n",
       " 2"
      ]
     },
     "execution_count": 92,
     "metadata": {},
     "output_type": "execute_result"
    }
   ],
   "source": [
    "w"
   ]
  },
  {
   "cell_type": "code",
   "execution_count": 93,
   "metadata": {},
   "outputs": [
    {
     "data": {
      "text/plain": [
       "2-element Array{Int64,1}:\n",
       "  1\n",
       " -2"
      ]
     },
     "execution_count": 93,
     "metadata": {},
     "output_type": "execute_result"
    }
   ],
   "source": [
    "x"
   ]
  },
  {
   "cell_type": "code",
   "execution_count": 95,
   "metadata": {},
   "outputs": [
    {
     "data": {
      "text/plain": [
       "1-element Array{Int64,1}:\n",
       " -2"
      ]
     },
     "execution_count": 95,
     "metadata": {},
     "output_type": "execute_result"
    }
   ],
   "source": [
    "x[abs.(x) .> 1]"
   ]
  },
  {
   "cell_type": "markdown",
   "metadata": {},
   "source": [
    "## 线性组合"
   ]
  },
  {
   "cell_type": "code",
   "execution_count": 97,
   "metadata": {},
   "outputs": [],
   "source": [
    "a = [1, 2]; b = [3, 4];\n",
    "α = -0.5; β = 1.5;"
   ]
  },
  {
   "cell_type": "code",
   "execution_count": 98,
   "metadata": {},
   "outputs": [
    {
     "data": {
      "text/plain": [
       "2-element Array{Float64,1}:\n",
       " 4.0\n",
       " 5.0"
      ]
     },
     "execution_count": 98,
     "metadata": {},
     "output_type": "execute_result"
    }
   ],
   "source": [
    "c = α * a + β * b"
   ]
  },
  {
   "cell_type": "code",
   "execution_count": 99,
   "metadata": {},
   "outputs": [
    {
     "data": {
      "text/plain": [
       "lincomb (generic function with 1 method)"
      ]
     },
     "execution_count": 99,
     "metadata": {},
     "output_type": "execute_result"
    }
   ],
   "source": [
    "lincomb(coeff, vectors) = sum(coeff[i] * vectors[i] for i = 1:length(vectors))"
   ]
  },
  {
   "cell_type": "code",
   "execution_count": 100,
   "metadata": {},
   "outputs": [
    {
     "data": {
      "text/plain": [
       "2-element Array{Float64,1}:\n",
       " 4.0\n",
       " 5.0"
      ]
     },
     "execution_count": 100,
     "metadata": {},
     "output_type": "execute_result"
    }
   ],
   "source": [
    "lincomb((-0.5, 1.5), ([1, 2], [3, 4]))"
   ]
  },
  {
   "cell_type": "markdown",
   "metadata": {},
   "source": [
    "# 内积\n",
    "\n",
    "其实定义了两个向量的欧式长度和夹角的cos的乘积\n",
    "$X^{T}Y=|X||Y|cos(\\theta)$\n",
    "    "
   ]
  },
  {
   "cell_type": "code",
   "execution_count": 101,
   "metadata": {},
   "outputs": [
    {
     "data": {
      "text/plain": [
       "3-element Array{Int64,1}:\n",
       " -1\n",
       "  2\n",
       "  2"
      ]
     },
     "execution_count": 101,
     "metadata": {},
     "output_type": "execute_result"
    }
   ],
   "source": [
    "x = [-1, 2, 2]"
   ]
  },
  {
   "cell_type": "code",
   "execution_count": 102,
   "metadata": {},
   "outputs": [
    {
     "data": {
      "text/plain": [
       "3-element Array{Int64,1}:\n",
       " 1\n",
       " 0\n",
       " 4"
      ]
     },
     "execution_count": 102,
     "metadata": {},
     "output_type": "execute_result"
    }
   ],
   "source": [
    "y = [1, 0, 4]"
   ]
  },
  {
   "cell_type": "code",
   "execution_count": 108,
   "metadata": {},
   "outputs": [
    {
     "data": {
      "text/plain": [
       "7"
      ]
     },
     "execution_count": 108,
     "metadata": {},
     "output_type": "execute_result"
    }
   ],
   "source": [
    "x' * y"
   ]
  },
  {
   "cell_type": "code",
   "execution_count": null,
   "metadata": {},
   "outputs": [],
   "source": []
  }
 ],
 "metadata": {
  "kernelspec": {
   "display_name": "Julia 1.1.0",
   "language": "julia",
   "name": "julia-1.1"
  },
  "language_info": {
   "file_extension": ".jl",
   "mimetype": "application/julia",
   "name": "julia",
   "version": "1.1.0"
  },
  "toc": {
   "nav_menu": {},
   "number_sections": true,
   "sideBar": true,
   "skip_h1_title": false,
   "toc_cell": false,
   "toc_position": {},
   "toc_section_display": "block",
   "toc_window_display": false
  }
 },
 "nbformat": 4,
 "nbformat_minor": 2
}
