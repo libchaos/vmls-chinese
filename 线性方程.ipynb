{
 "cells": [
  {
   "cell_type": "code",
   "execution_count": 1,
   "metadata": {},
   "outputs": [
    {
     "name": "stderr",
     "output_type": "stream",
     "text": [
      "┌ Info: Recompiling stale cache file /Users/mac/.julia/compiled/v1.1/Plots/ld3vC.ji for Plots [91a5bcdd-55d7-5caf-9e0b-520d859cae80]\n",
      "└ @ Base loading.jl:1184\n"
     ]
    }
   ],
   "source": [
    "using Plots"
   ]
  },
  {
   "cell_type": "code",
   "execution_count": 4,
   "metadata": {},
   "outputs": [
    {
     "data": {
      "text/plain": [
       "y (generic function with 1 method)"
      ]
     },
     "execution_count": 4,
     "metadata": {},
     "output_type": "execute_result"
    }
   ],
   "source": [
    "y(x1, x2, theta) = theta * x1 + (1 - theta)*x2"
   ]
  },
  {
   "cell_type": "code",
   "execution_count": 5,
   "metadata": {},
   "outputs": [
    {
     "data": {
      "text/plain": [
       "2-element Array{Float64,1}:\n",
       " 0.5\n",
       " 0.5"
      ]
     },
     "execution_count": 5,
     "metadata": {},
     "output_type": "execute_result"
    }
   ],
   "source": [
    "y([0, 1], [1, 0], 0.5)"
   ]
  },
  {
   "cell_type": "code",
   "execution_count": 12,
   "metadata": {},
   "outputs": [
    {
     "data": {
      "image/svg+xml": [
       "<?xml version=\"1.0\" encoding=\"utf-8\"?>\n",
       "<svg xmlns=\"http://www.w3.org/2000/svg\" xmlns:xlink=\"http://www.w3.org/1999/xlink\" width=\"600\" height=\"400\" viewBox=\"0 0 2400 1600\">\n",
       "<defs>\n",
       "  <clipPath id=\"clip3400\">\n",
       "    <rect x=\"0\" y=\"0\" width=\"2400\" height=\"1600\"/>\n",
       "  </clipPath>\n",
       "</defs>\n",
       "<polygon clip-path=\"url(#clip3400)\" points=\"\n",
       "0,1600 2400,1600 2400,0 0,0 \n",
       "  \" fill=\"#ffffff\" fill-rule=\"evenodd\" fill-opacity=\"1\"/>\n",
       "<defs>\n",
       "  <clipPath id=\"clip3401\">\n",
       "    <rect x=\"480\" y=\"0\" width=\"1681\" height=\"1600\"/>\n",
       "  </clipPath>\n",
       "</defs>\n",
       "<polygon clip-path=\"url(#clip3400)\" points=\"\n",
       "178.008,1466.71 2352.76,1466.71 2352.76,47.2441 178.008,47.2441 \n",
       "  \" fill=\"#ffffff\" fill-rule=\"evenodd\" fill-opacity=\"1\"/>\n",
       "<defs>\n",
       "  <clipPath id=\"clip3402\">\n",
       "    <rect x=\"178\" y=\"47\" width=\"2176\" height=\"1420\"/>\n",
       "  </clipPath>\n",
       "</defs>\n",
       "<polyline clip-path=\"url(#clip3402)\" style=\"stroke:#000000; stroke-width:2; stroke-opacity:0.1; fill:none\" points=\"\n",
       "  239.558,1466.71 239.558,47.2441 \n",
       "  \"/>\n",
       "<polyline clip-path=\"url(#clip3402)\" style=\"stroke:#000000; stroke-width:2; stroke-opacity:0.1; fill:none\" points=\"\n",
       "  752.47,1466.71 752.47,47.2441 \n",
       "  \"/>\n",
       "<polyline clip-path=\"url(#clip3402)\" style=\"stroke:#000000; stroke-width:2; stroke-opacity:0.1; fill:none\" points=\"\n",
       "  1265.38,1466.71 1265.38,47.2441 \n",
       "  \"/>\n",
       "<polyline clip-path=\"url(#clip3402)\" style=\"stroke:#000000; stroke-width:2; stroke-opacity:0.1; fill:none\" points=\"\n",
       "  1778.29,1466.71 1778.29,47.2441 \n",
       "  \"/>\n",
       "<polyline clip-path=\"url(#clip3402)\" style=\"stroke:#000000; stroke-width:2; stroke-opacity:0.1; fill:none\" points=\"\n",
       "  2291.21,1466.71 2291.21,47.2441 \n",
       "  \"/>\n",
       "<polyline clip-path=\"url(#clip3402)\" style=\"stroke:#000000; stroke-width:2; stroke-opacity:0.1; fill:none\" points=\"\n",
       "  178.008,1426.53 2352.76,1426.53 \n",
       "  \"/>\n",
       "<polyline clip-path=\"url(#clip3402)\" style=\"stroke:#000000; stroke-width:2; stroke-opacity:0.1; fill:none\" points=\"\n",
       "  178.008,1091.76 2352.76,1091.76 \n",
       "  \"/>\n",
       "<polyline clip-path=\"url(#clip3402)\" style=\"stroke:#000000; stroke-width:2; stroke-opacity:0.1; fill:none\" points=\"\n",
       "  178.008,756.976 2352.76,756.976 \n",
       "  \"/>\n",
       "<polyline clip-path=\"url(#clip3402)\" style=\"stroke:#000000; stroke-width:2; stroke-opacity:0.1; fill:none\" points=\"\n",
       "  178.008,422.197 2352.76,422.197 \n",
       "  \"/>\n",
       "<polyline clip-path=\"url(#clip3402)\" style=\"stroke:#000000; stroke-width:2; stroke-opacity:0.1; fill:none\" points=\"\n",
       "  178.008,87.4176 2352.76,87.4176 \n",
       "  \"/>\n",
       "<polyline clip-path=\"url(#clip3400)\" style=\"stroke:#000000; stroke-width:4; stroke-opacity:1; fill:none\" points=\"\n",
       "  178.008,1466.71 2352.76,1466.71 \n",
       "  \"/>\n",
       "<polyline clip-path=\"url(#clip3400)\" style=\"stroke:#000000; stroke-width:4; stroke-opacity:1; fill:none\" points=\"\n",
       "  178.008,1466.71 178.008,47.2441 \n",
       "  \"/>\n",
       "<polyline clip-path=\"url(#clip3400)\" style=\"stroke:#000000; stroke-width:4; stroke-opacity:1; fill:none\" points=\"\n",
       "  239.558,1466.71 239.558,1445.42 \n",
       "  \"/>\n",
       "<polyline clip-path=\"url(#clip3400)\" style=\"stroke:#000000; stroke-width:4; stroke-opacity:1; fill:none\" points=\"\n",
       "  752.47,1466.71 752.47,1445.42 \n",
       "  \"/>\n",
       "<polyline clip-path=\"url(#clip3400)\" style=\"stroke:#000000; stroke-width:4; stroke-opacity:1; fill:none\" points=\"\n",
       "  1265.38,1466.71 1265.38,1445.42 \n",
       "  \"/>\n",
       "<polyline clip-path=\"url(#clip3400)\" style=\"stroke:#000000; stroke-width:4; stroke-opacity:1; fill:none\" points=\"\n",
       "  1778.29,1466.71 1778.29,1445.42 \n",
       "  \"/>\n",
       "<polyline clip-path=\"url(#clip3400)\" style=\"stroke:#000000; stroke-width:4; stroke-opacity:1; fill:none\" points=\"\n",
       "  2291.21,1466.71 2291.21,1445.42 \n",
       "  \"/>\n",
       "<polyline clip-path=\"url(#clip3400)\" style=\"stroke:#000000; stroke-width:4; stroke-opacity:1; fill:none\" points=\"\n",
       "  178.008,1426.53 210.629,1426.53 \n",
       "  \"/>\n",
       "<polyline clip-path=\"url(#clip3400)\" style=\"stroke:#000000; stroke-width:4; stroke-opacity:1; fill:none\" points=\"\n",
       "  178.008,1091.76 210.629,1091.76 \n",
       "  \"/>\n",
       "<polyline clip-path=\"url(#clip3400)\" style=\"stroke:#000000; stroke-width:4; stroke-opacity:1; fill:none\" points=\"\n",
       "  178.008,756.976 210.629,756.976 \n",
       "  \"/>\n",
       "<polyline clip-path=\"url(#clip3400)\" style=\"stroke:#000000; stroke-width:4; stroke-opacity:1; fill:none\" points=\"\n",
       "  178.008,422.197 210.629,422.197 \n",
       "  \"/>\n",
       "<polyline clip-path=\"url(#clip3400)\" style=\"stroke:#000000; stroke-width:4; stroke-opacity:1; fill:none\" points=\"\n",
       "  178.008,87.4176 210.629,87.4176 \n",
       "  \"/>\n",
       "<g clip-path=\"url(#clip3400)\">\n",
       "<text style=\"fill:#000000; fill-opacity:1; font-family:Arial,Helvetica Neue,Helvetica,sans-serif; font-size:48px; text-anchor:middle;\" transform=\"rotate(0, 239.558, 1520.71)\" x=\"239.558\" y=\"1520.71\">0.0</text>\n",
       "</g>\n",
       "<g clip-path=\"url(#clip3400)\">\n",
       "<text style=\"fill:#000000; fill-opacity:1; font-family:Arial,Helvetica Neue,Helvetica,sans-serif; font-size:48px; text-anchor:middle;\" transform=\"rotate(0, 752.47, 1520.71)\" x=\"752.47\" y=\"1520.71\">0.5</text>\n",
       "</g>\n",
       "<g clip-path=\"url(#clip3400)\">\n",
       "<text style=\"fill:#000000; fill-opacity:1; font-family:Arial,Helvetica Neue,Helvetica,sans-serif; font-size:48px; text-anchor:middle;\" transform=\"rotate(0, 1265.38, 1520.71)\" x=\"1265.38\" y=\"1520.71\">1.0</text>\n",
       "</g>\n",
       "<g clip-path=\"url(#clip3400)\">\n",
       "<text style=\"fill:#000000; fill-opacity:1; font-family:Arial,Helvetica Neue,Helvetica,sans-serif; font-size:48px; text-anchor:middle;\" transform=\"rotate(0, 1778.29, 1520.71)\" x=\"1778.29\" y=\"1520.71\">1.5</text>\n",
       "</g>\n",
       "<g clip-path=\"url(#clip3400)\">\n",
       "<text style=\"fill:#000000; fill-opacity:1; font-family:Arial,Helvetica Neue,Helvetica,sans-serif; font-size:48px; text-anchor:middle;\" transform=\"rotate(0, 2291.21, 1520.71)\" x=\"2291.21\" y=\"1520.71\">2.0</text>\n",
       "</g>\n",
       "<g clip-path=\"url(#clip3400)\">\n",
       "<text style=\"fill:#000000; fill-opacity:1; font-family:Arial,Helvetica Neue,Helvetica,sans-serif; font-size:48px; text-anchor:end;\" transform=\"rotate(0, 154.008, 1444.03)\" x=\"154.008\" y=\"1444.03\">-1.0</text>\n",
       "</g>\n",
       "<g clip-path=\"url(#clip3400)\">\n",
       "<text style=\"fill:#000000; fill-opacity:1; font-family:Arial,Helvetica Neue,Helvetica,sans-serif; font-size:48px; text-anchor:end;\" transform=\"rotate(0, 154.008, 1109.26)\" x=\"154.008\" y=\"1109.26\">-0.5</text>\n",
       "</g>\n",
       "<g clip-path=\"url(#clip3400)\">\n",
       "<text style=\"fill:#000000; fill-opacity:1; font-family:Arial,Helvetica Neue,Helvetica,sans-serif; font-size:48px; text-anchor:end;\" transform=\"rotate(0, 154.008, 774.476)\" x=\"154.008\" y=\"774.476\">0.0</text>\n",
       "</g>\n",
       "<g clip-path=\"url(#clip3400)\">\n",
       "<text style=\"fill:#000000; fill-opacity:1; font-family:Arial,Helvetica Neue,Helvetica,sans-serif; font-size:48px; text-anchor:end;\" transform=\"rotate(0, 154.008, 439.697)\" x=\"154.008\" y=\"439.697\">0.5</text>\n",
       "</g>\n",
       "<g clip-path=\"url(#clip3400)\">\n",
       "<text style=\"fill:#000000; fill-opacity:1; font-family:Arial,Helvetica Neue,Helvetica,sans-serif; font-size:48px; text-anchor:end;\" transform=\"rotate(0, 154.008, 104.918)\" x=\"154.008\" y=\"104.918\">1.0</text>\n",
       "</g>\n",
       "<circle clip-path=\"url(#clip3402)\" style=\"fill:#000000; stroke:none; fill-opacity:1\" cx=\"2291.21\" cy=\"1426.53\" r=\"18\"/>\n",
       "<circle clip-path=\"url(#clip3402)\" style=\"fill:#009af9; stroke:none; fill-opacity:1\" cx=\"2291.21\" cy=\"1426.53\" r=\"14\"/>\n",
       "<circle clip-path=\"url(#clip3402)\" style=\"fill:#000000; stroke:none; fill-opacity:1\" cx=\"2188.62\" cy=\"1359.58\" r=\"18\"/>\n",
       "<circle clip-path=\"url(#clip3402)\" style=\"fill:#009af9; stroke:none; fill-opacity:1\" cx=\"2188.62\" cy=\"1359.58\" r=\"14\"/>\n",
       "<circle clip-path=\"url(#clip3402)\" style=\"fill:#000000; stroke:none; fill-opacity:1\" cx=\"2086.04\" cy=\"1292.62\" r=\"18\"/>\n",
       "<circle clip-path=\"url(#clip3402)\" style=\"fill:#009af9; stroke:none; fill-opacity:1\" cx=\"2086.04\" cy=\"1292.62\" r=\"14\"/>\n",
       "<circle clip-path=\"url(#clip3402)\" style=\"fill:#000000; stroke:none; fill-opacity:1\" cx=\"1983.46\" cy=\"1225.67\" r=\"18\"/>\n",
       "<circle clip-path=\"url(#clip3402)\" style=\"fill:#009af9; stroke:none; fill-opacity:1\" cx=\"1983.46\" cy=\"1225.67\" r=\"14\"/>\n",
       "<circle clip-path=\"url(#clip3402)\" style=\"fill:#000000; stroke:none; fill-opacity:1\" cx=\"1880.88\" cy=\"1158.71\" r=\"18\"/>\n",
       "<circle clip-path=\"url(#clip3402)\" style=\"fill:#009af9; stroke:none; fill-opacity:1\" cx=\"1880.88\" cy=\"1158.71\" r=\"14\"/>\n",
       "<circle clip-path=\"url(#clip3402)\" style=\"fill:#000000; stroke:none; fill-opacity:1\" cx=\"1778.29\" cy=\"1091.76\" r=\"18\"/>\n",
       "<circle clip-path=\"url(#clip3402)\" style=\"fill:#009af9; stroke:none; fill-opacity:1\" cx=\"1778.29\" cy=\"1091.76\" r=\"14\"/>\n",
       "<circle clip-path=\"url(#clip3402)\" style=\"fill:#000000; stroke:none; fill-opacity:1\" cx=\"1675.71\" cy=\"1024.8\" r=\"18\"/>\n",
       "<circle clip-path=\"url(#clip3402)\" style=\"fill:#009af9; stroke:none; fill-opacity:1\" cx=\"1675.71\" cy=\"1024.8\" r=\"14\"/>\n",
       "<circle clip-path=\"url(#clip3402)\" style=\"fill:#000000; stroke:none; fill-opacity:1\" cx=\"1573.13\" cy=\"957.844\" r=\"18\"/>\n",
       "<circle clip-path=\"url(#clip3402)\" style=\"fill:#009af9; stroke:none; fill-opacity:1\" cx=\"1573.13\" cy=\"957.844\" r=\"14\"/>\n",
       "<circle clip-path=\"url(#clip3402)\" style=\"fill:#000000; stroke:none; fill-opacity:1\" cx=\"1470.55\" cy=\"890.888\" r=\"18\"/>\n",
       "<circle clip-path=\"url(#clip3402)\" style=\"fill:#009af9; stroke:none; fill-opacity:1\" cx=\"1470.55\" cy=\"890.888\" r=\"14\"/>\n",
       "<circle clip-path=\"url(#clip3402)\" style=\"fill:#000000; stroke:none; fill-opacity:1\" cx=\"1367.96\" cy=\"823.932\" r=\"18\"/>\n",
       "<circle clip-path=\"url(#clip3402)\" style=\"fill:#009af9; stroke:none; fill-opacity:1\" cx=\"1367.96\" cy=\"823.932\" r=\"14\"/>\n",
       "<circle clip-path=\"url(#clip3402)\" style=\"fill:#000000; stroke:none; fill-opacity:1\" cx=\"1265.38\" cy=\"756.976\" r=\"18\"/>\n",
       "<circle clip-path=\"url(#clip3402)\" style=\"fill:#009af9; stroke:none; fill-opacity:1\" cx=\"1265.38\" cy=\"756.976\" r=\"14\"/>\n",
       "<circle clip-path=\"url(#clip3402)\" style=\"fill:#000000; stroke:none; fill-opacity:1\" cx=\"1162.8\" cy=\"690.02\" r=\"18\"/>\n",
       "<circle clip-path=\"url(#clip3402)\" style=\"fill:#009af9; stroke:none; fill-opacity:1\" cx=\"1162.8\" cy=\"690.02\" r=\"14\"/>\n",
       "<circle clip-path=\"url(#clip3402)\" style=\"fill:#000000; stroke:none; fill-opacity:1\" cx=\"1060.22\" cy=\"623.064\" r=\"18\"/>\n",
       "<circle clip-path=\"url(#clip3402)\" style=\"fill:#009af9; stroke:none; fill-opacity:1\" cx=\"1060.22\" cy=\"623.064\" r=\"14\"/>\n",
       "<circle clip-path=\"url(#clip3402)\" style=\"fill:#000000; stroke:none; fill-opacity:1\" cx=\"957.635\" cy=\"556.109\" r=\"18\"/>\n",
       "<circle clip-path=\"url(#clip3402)\" style=\"fill:#009af9; stroke:none; fill-opacity:1\" cx=\"957.635\" cy=\"556.109\" r=\"14\"/>\n",
       "<circle clip-path=\"url(#clip3402)\" style=\"fill:#000000; stroke:none; fill-opacity:1\" cx=\"855.052\" cy=\"489.153\" r=\"18\"/>\n",
       "<circle clip-path=\"url(#clip3402)\" style=\"fill:#009af9; stroke:none; fill-opacity:1\" cx=\"855.052\" cy=\"489.153\" r=\"14\"/>\n",
       "<circle clip-path=\"url(#clip3402)\" style=\"fill:#000000; stroke:none; fill-opacity:1\" cx=\"752.47\" cy=\"422.197\" r=\"18\"/>\n",
       "<circle clip-path=\"url(#clip3402)\" style=\"fill:#009af9; stroke:none; fill-opacity:1\" cx=\"752.47\" cy=\"422.197\" r=\"14\"/>\n",
       "<circle clip-path=\"url(#clip3402)\" style=\"fill:#000000; stroke:none; fill-opacity:1\" cx=\"649.887\" cy=\"355.241\" r=\"18\"/>\n",
       "<circle clip-path=\"url(#clip3402)\" style=\"fill:#009af9; stroke:none; fill-opacity:1\" cx=\"649.887\" cy=\"355.241\" r=\"14\"/>\n",
       "<circle clip-path=\"url(#clip3402)\" style=\"fill:#000000; stroke:none; fill-opacity:1\" cx=\"547.305\" cy=\"288.285\" r=\"18\"/>\n",
       "<circle clip-path=\"url(#clip3402)\" style=\"fill:#009af9; stroke:none; fill-opacity:1\" cx=\"547.305\" cy=\"288.285\" r=\"14\"/>\n",
       "<circle clip-path=\"url(#clip3402)\" style=\"fill:#000000; stroke:none; fill-opacity:1\" cx=\"444.722\" cy=\"221.329\" r=\"18\"/>\n",
       "<circle clip-path=\"url(#clip3402)\" style=\"fill:#009af9; stroke:none; fill-opacity:1\" cx=\"444.722\" cy=\"221.329\" r=\"14\"/>\n",
       "<circle clip-path=\"url(#clip3402)\" style=\"fill:#000000; stroke:none; fill-opacity:1\" cx=\"342.14\" cy=\"154.373\" r=\"18\"/>\n",
       "<circle clip-path=\"url(#clip3402)\" style=\"fill:#009af9; stroke:none; fill-opacity:1\" cx=\"342.14\" cy=\"154.373\" r=\"14\"/>\n",
       "<circle clip-path=\"url(#clip3402)\" style=\"fill:#000000; stroke:none; fill-opacity:1\" cx=\"239.558\" cy=\"87.4176\" r=\"18\"/>\n",
       "<circle clip-path=\"url(#clip3402)\" style=\"fill:#009af9; stroke:none; fill-opacity:1\" cx=\"239.558\" cy=\"87.4176\" r=\"14\"/>\n",
       "<polygon clip-path=\"url(#clip3400)\" points=\"\n",
       "1989.93,251.724 2280.76,251.724 2280.76,130.764 1989.93,130.764 \n",
       "  \" fill=\"#ffffff\" fill-rule=\"evenodd\" fill-opacity=\"1\"/>\n",
       "<polyline clip-path=\"url(#clip3400)\" style=\"stroke:#000000; stroke-width:4; stroke-opacity:1; fill:none\" points=\"\n",
       "  1989.93,251.724 2280.76,251.724 2280.76,130.764 1989.93,130.764 1989.93,251.724 \n",
       "  \"/>\n",
       "<circle clip-path=\"url(#clip3400)\" style=\"fill:#000000; stroke:none; fill-opacity:1\" cx=\"2097.93\" cy=\"191.244\" r=\"25\"/>\n",
       "<circle clip-path=\"url(#clip3400)\" style=\"fill:#009af9; stroke:none; fill-opacity:1\" cx=\"2097.93\" cy=\"191.244\" r=\"21\"/>\n",
       "<g clip-path=\"url(#clip3400)\">\n",
       "<text style=\"fill:#000000; fill-opacity:1; font-family:Arial,Helvetica Neue,Helvetica,sans-serif; font-size:48px; text-anchor:start;\" transform=\"rotate(0, 2181.93, 208.744)\" x=\"2181.93\" y=\"208.744\">y1</text>\n",
       "</g>\n",
       "</svg>\n"
      ]
     },
     "execution_count": 12,
     "metadata": {},
     "output_type": "execute_result"
    }
   ],
   "source": [
    "scatter([y([0, 1], [1, 0], i)[1] for i in -1:0.1:1], [y([0, 1], [1, 0], i)[2] for i in -1:0.1:1])\n"
   ]
  },
  {
   "cell_type": "code",
   "execution_count": 1,
   "metadata": {},
   "outputs": [
    {
     "data": {
      "text/plain": [
       "2×3 Array{Float64,2}:\n",
       " -0.1   2.8  -1.6\n",
       "  2.3  -0.6  -3.6"
      ]
     },
     "execution_count": 1,
     "metadata": {},
     "output_type": "execute_result"
    }
   ],
   "source": [
    "A = [-0.1 2.8 -1.6; 2.3 -0.6 -3.6]"
   ]
  },
  {
   "cell_type": "code",
   "execution_count": 2,
   "metadata": {},
   "outputs": [
    {
     "data": {
      "text/plain": [
       "f (generic function with 1 method)"
      ]
     },
     "execution_count": 2,
     "metadata": {},
     "output_type": "execute_result"
    }
   ],
   "source": [
    "f(x) = A*x"
   ]
  },
  {
   "cell_type": "code",
   "execution_count": 3,
   "metadata": {},
   "outputs": [],
   "source": [
    "x = [1, 2, 3]; y = [-3, -1, 2];\n",
    "alpha = 0.5; beta = -1.6;"
   ]
  },
  {
   "cell_type": "code",
   "execution_count": 4,
   "metadata": {},
   "outputs": [
    {
     "data": {
      "text/plain": [
       "2-element Array{Float64,1}:\n",
       "  9.469999999999999\n",
       " 16.75             "
      ]
     },
     "execution_count": 4,
     "metadata": {},
     "output_type": "execute_result"
    }
   ],
   "source": [
    "lhs = f(alpha*x + beta * y)"
   ]
  },
  {
   "cell_type": "code",
   "execution_count": 5,
   "metadata": {},
   "outputs": [
    {
     "data": {
      "text/plain": [
       "2-element Array{Float64,1}:\n",
       "  9.47\n",
       " 16.75"
      ]
     },
     "execution_count": 5,
     "metadata": {},
     "output_type": "execute_result"
    }
   ],
   "source": [
    "rhs = alpha * f(x) + beta * f(y)"
   ]
  },
  {
   "cell_type": "code",
   "execution_count": 7,
   "metadata": {},
   "outputs": [
    {
     "data": {
      "text/plain": [
       "1.7763568394002505e-15"
      ]
     },
     "execution_count": 7,
     "metadata": {},
     "output_type": "execute_result"
    }
   ],
   "source": [
    "using LinearAlgebra\n",
    "norm(lhs-rhs)"
   ]
  },
  {
   "cell_type": "markdown",
   "metadata": {},
   "source": [
    "## Taylor 近似"
   ]
  },
  {
   "cell_type": "code",
   "execution_count": 8,
   "metadata": {},
   "outputs": [
    {
     "data": {
      "text/plain": [
       "f (generic function with 1 method)"
      ]
     },
     "execution_count": 8,
     "metadata": {},
     "output_type": "execute_result"
    }
   ],
   "source": [
    "f(x) = [norm(x -a), norm(x - b)]"
   ]
  },
  {
   "cell_type": "code",
   "execution_count": 9,
   "metadata": {},
   "outputs": [
    {
     "data": {
      "text/plain": [
       "Df (generic function with 1 method)"
      ]
     },
     "execution_count": 9,
     "metadata": {},
     "output_type": "execute_result"
    }
   ],
   "source": [
    "Df(z) = [(z - a)' / norm(z - a); (z - b)' / norm(z - b)]"
   ]
  },
  {
   "cell_type": "code",
   "execution_count": 10,
   "metadata": {},
   "outputs": [
    {
     "data": {
      "text/plain": [
       "f_hat (generic function with 1 method)"
      ]
     },
     "execution_count": 10,
     "metadata": {},
     "output_type": "execute_result"
    }
   ],
   "source": [
    "f_hat(x) = f(z) + Df(z) * (x - z)"
   ]
  },
  {
   "cell_type": "code",
   "execution_count": 11,
   "metadata": {},
   "outputs": [],
   "source": [
    "a = [1, 0]; b = [1, 1]; z = [0, 0];"
   ]
  },
  {
   "cell_type": "code",
   "execution_count": 12,
   "metadata": {},
   "outputs": [
    {
     "data": {
      "text/plain": [
       "2-element Array{Float64,1}:\n",
       " 0.9055385138137417\n",
       " 1.2727922061357855"
      ]
     },
     "execution_count": 12,
     "metadata": {},
     "output_type": "execute_result"
    }
   ],
   "source": [
    "f([0.1, 0.1])"
   ]
  },
  {
   "cell_type": "code",
   "execution_count": 13,
   "metadata": {},
   "outputs": [
    {
     "data": {
      "text/plain": [
       "2-element Array{Float64,1}:\n",
       " 0.9               \n",
       " 1.2727922061357857"
      ]
     },
     "execution_count": 13,
     "metadata": {},
     "output_type": "execute_result"
    }
   ],
   "source": [
    "f_hat([0.1, 0.1])"
   ]
  },
  {
   "cell_type": "code",
   "execution_count": 14,
   "metadata": {},
   "outputs": [],
   "source": [
    "using VMLS"
   ]
  },
  {
   "cell_type": "code",
   "execution_count": 15,
   "metadata": {},
   "outputs": [],
   "source": [
    "beta = [148.73, -18.85]; v = 54.50;"
   ]
  },
  {
   "cell_type": "code",
   "execution_count": 16,
   "metadata": {},
   "outputs": [],
   "source": [
    "D = house_sales_data();"
   ]
  },
  {
   "cell_type": "code",
   "execution_count": 17,
   "metadata": {},
   "outputs": [
    {
     "data": {
      "text/plain": [
       "774"
      ]
     },
     "execution_count": 17,
     "metadata": {},
     "output_type": "execute_result"
    }
   ],
   "source": [
    "yd = D[\"price\"];\n",
    "N = length(yd)"
   ]
  },
  {
   "cell_type": "code",
   "execution_count": 18,
   "metadata": {},
   "outputs": [
    {
     "data": {
      "text/plain": [
       "2×774 Adjoint{Float64,Array{Float64,2}}:\n",
       " 0.941  1.146  0.909  1.289  1.02  1.022  …  2.28  1.477  1.216  1.685  1.362\n",
       " 2.0    3.0    3.0    3.0    3.0   2.0       4.0   3.0    3.0    4.0    3.0  "
      ]
     },
     "execution_count": 18,
     "metadata": {},
     "output_type": "execute_result"
    }
   ],
   "source": [
    "X = [D[\"area\"] D[\"beds\"]]'"
   ]
  },
  {
   "cell_type": "code",
   "execution_count": 19,
   "metadata": {},
   "outputs": [
    {
     "data": {
      "text/plain": [
       "774-element Array{Float64,1}:\n",
       " 156.75493         \n",
       " 168.39457999999996\n",
       " 133.14557         \n",
       " 189.66296999999997\n",
       " 149.6546          \n",
       " 168.80205999999998\n",
       " 185.45981999999998\n",
       " 142.32811999999998\n",
       " 135.04035         \n",
       " 104.25323999999999\n",
       " 199.62787999999998\n",
       " 164.23014         \n",
       " 176.76216999999997\n",
       "   ⋮               \n",
       " 140.73079999999996\n",
       " 214.50087999999997\n",
       " 213.60849999999996\n",
       " 199.92533999999998\n",
       " 176.76216999999997\n",
       " 234.17194999999998\n",
       " 185.64726         \n",
       " 318.20439999999996\n",
       " 217.62420999999998\n",
       " 178.80567999999997\n",
       " 229.71005         \n",
       " 200.52025999999998"
      ]
     },
     "execution_count": 19,
     "metadata": {},
     "output_type": "execute_result"
    }
   ],
   "source": [
    "ydhat = X' * beta .+ v"
   ]
  },
  {
   "cell_type": "code",
   "execution_count": 20,
   "metadata": {},
   "outputs": [
    {
     "data": {
      "text/plain": [
       "74.8458081542367"
      ]
     },
     "execution_count": 20,
     "metadata": {},
     "output_type": "execute_result"
    }
   ],
   "source": [
    "rd = yd - ydhat\n",
    "rms(rd)"
   ]
  },
  {
   "cell_type": "code",
   "execution_count": 21,
   "metadata": {},
   "outputs": [
    {
     "data": {
      "text/plain": [
       "112.78216159756509"
      ]
     },
     "execution_count": 21,
     "metadata": {},
     "output_type": "execute_result"
    }
   ],
   "source": [
    "stdev(yd)"
   ]
  },
  {
   "cell_type": "markdown",
   "metadata": {},
   "source": [
    "## 线性动态系统\n",
    "\n",
    "$$x_{t+1} = A x_{t}, t=1,...,T,$$\n",
    "其中，A 是一个矩阵"
   ]
  },
  {
   "cell_type": "code",
   "execution_count": 22,
   "metadata": {},
   "outputs": [],
   "source": [
    "x_1 = [1, 0, -1]; # initial state"
   ]
  },
  {
   "cell_type": "code",
   "execution_count": 23,
   "metadata": {},
   "outputs": [],
   "source": [
    "n = length(x_1); T = 50;"
   ]
  },
  {
   "cell_type": "code",
   "execution_count": 25,
   "metadata": {},
   "outputs": [],
   "source": [
    "A = [0.97 0.10 -0.05; -0.3 0.99 0.05; 0.01 -0.04 0.96;];"
   ]
  },
  {
   "cell_type": "code",
   "execution_count": 26,
   "metadata": {},
   "outputs": [
    {
     "data": {
      "text/plain": [
       "3×50 Array{Float64,2}:\n",
       "  1.0  0.0  0.0  0.0  0.0  0.0  0.0  …  0.0  0.0  0.0  0.0  0.0  0.0  0.0\n",
       "  0.0  0.0  0.0  0.0  0.0  0.0  0.0     0.0  0.0  0.0  0.0  0.0  0.0  0.0\n",
       " -1.0  0.0  0.0  0.0  0.0  0.0  0.0     0.0  0.0  0.0  0.0  0.0  0.0  0.0"
      ]
     },
     "execution_count": 26,
     "metadata": {},
     "output_type": "execute_result"
    }
   ],
   "source": [
    "stat_traj = [x_1 zeros(n, T - 1)]"
   ]
  },
  {
   "cell_type": "code",
   "execution_count": 27,
   "metadata": {},
   "outputs": [],
   "source": [
    "for t=1:T-1\n",
    "    stat_traj[:, t+1] = A * stat_traj[:, t]\n",
    "end"
   ]
  },
  {
   "cell_type": "code",
   "execution_count": 28,
   "metadata": {},
   "outputs": [
    {
     "data": {
      "image/svg+xml": [
       "<?xml version=\"1.0\" encoding=\"utf-8\"?>\n",
       "<svg xmlns=\"http://www.w3.org/2000/svg\" xmlns:xlink=\"http://www.w3.org/1999/xlink\" width=\"600\" height=\"400\" viewBox=\"0 0 2400 1600\">\n",
       "<defs>\n",
       "  <clipPath id=\"clip3800\">\n",
       "    <rect x=\"0\" y=\"0\" width=\"2400\" height=\"1600\"/>\n",
       "  </clipPath>\n",
       "</defs>\n",
       "<polygon clip-path=\"url(#clip3800)\" points=\"\n",
       "0,1600 2400,1600 2400,0 0,0 \n",
       "  \" fill=\"#ffffff\" fill-rule=\"evenodd\" fill-opacity=\"1\"/>\n",
       "<defs>\n",
       "  <clipPath id=\"clip3801\">\n",
       "    <rect x=\"480\" y=\"0\" width=\"1681\" height=\"1600\"/>\n",
       "  </clipPath>\n",
       "</defs>\n",
       "<polygon clip-path=\"url(#clip3800)\" points=\"\n",
       "141.865,1425.62 2352.76,1425.62 2352.76,47.2441 141.865,47.2441 \n",
       "  \" fill=\"#ffffff\" fill-rule=\"evenodd\" fill-opacity=\"1\"/>\n",
       "<defs>\n",
       "  <clipPath id=\"clip3802\">\n",
       "    <rect x=\"141\" y=\"47\" width=\"2212\" height=\"1379\"/>\n",
       "  </clipPath>\n",
       "</defs>\n",
       "<polyline clip-path=\"url(#clip3802)\" style=\"stroke:#000000; stroke-width:2; stroke-opacity:0.1; fill:none\" points=\"\n",
       "  161.871,1425.62 161.871,47.2441 \n",
       "  \"/>\n",
       "<polyline clip-path=\"url(#clip3802)\" style=\"stroke:#000000; stroke-width:2; stroke-opacity:0.1; fill:none\" points=\"\n",
       "  587.533,1425.62 587.533,47.2441 \n",
       "  \"/>\n",
       "<polyline clip-path=\"url(#clip3802)\" style=\"stroke:#000000; stroke-width:2; stroke-opacity:0.1; fill:none\" points=\"\n",
       "  1013.2,1425.62 1013.2,47.2441 \n",
       "  \"/>\n",
       "<polyline clip-path=\"url(#clip3802)\" style=\"stroke:#000000; stroke-width:2; stroke-opacity:0.1; fill:none\" points=\"\n",
       "  1438.86,1425.62 1438.86,47.2441 \n",
       "  \"/>\n",
       "<polyline clip-path=\"url(#clip3802)\" style=\"stroke:#000000; stroke-width:2; stroke-opacity:0.1; fill:none\" points=\"\n",
       "  1864.52,1425.62 1864.52,47.2441 \n",
       "  \"/>\n",
       "<polyline clip-path=\"url(#clip3802)\" style=\"stroke:#000000; stroke-width:2; stroke-opacity:0.1; fill:none\" points=\"\n",
       "  2290.18,1425.62 2290.18,47.2441 \n",
       "  \"/>\n",
       "<polyline clip-path=\"url(#clip3802)\" style=\"stroke:#000000; stroke-width:2; stroke-opacity:0.1; fill:none\" points=\"\n",
       "  141.865,1266.26 2352.76,1266.26 \n",
       "  \"/>\n",
       "<polyline clip-path=\"url(#clip3802)\" style=\"stroke:#000000; stroke-width:2; stroke-opacity:0.1; fill:none\" points=\"\n",
       "  141.865,984.236 2352.76,984.236 \n",
       "  \"/>\n",
       "<polyline clip-path=\"url(#clip3802)\" style=\"stroke:#000000; stroke-width:2; stroke-opacity:0.1; fill:none\" points=\"\n",
       "  141.865,702.213 2352.76,702.213 \n",
       "  \"/>\n",
       "<polyline clip-path=\"url(#clip3802)\" style=\"stroke:#000000; stroke-width:2; stroke-opacity:0.1; fill:none\" points=\"\n",
       "  141.865,420.19 2352.76,420.19 \n",
       "  \"/>\n",
       "<polyline clip-path=\"url(#clip3802)\" style=\"stroke:#000000; stroke-width:2; stroke-opacity:0.1; fill:none\" points=\"\n",
       "  141.865,138.167 2352.76,138.167 \n",
       "  \"/>\n",
       "<polyline clip-path=\"url(#clip3800)\" style=\"stroke:#000000; stroke-width:4; stroke-opacity:1; fill:none\" points=\"\n",
       "  141.865,1425.62 2352.76,1425.62 \n",
       "  \"/>\n",
       "<polyline clip-path=\"url(#clip3800)\" style=\"stroke:#000000; stroke-width:4; stroke-opacity:1; fill:none\" points=\"\n",
       "  141.865,1425.62 141.865,47.2441 \n",
       "  \"/>\n",
       "<polyline clip-path=\"url(#clip3800)\" style=\"stroke:#000000; stroke-width:4; stroke-opacity:1; fill:none\" points=\"\n",
       "  161.871,1425.62 161.871,1404.94 \n",
       "  \"/>\n",
       "<polyline clip-path=\"url(#clip3800)\" style=\"stroke:#000000; stroke-width:4; stroke-opacity:1; fill:none\" points=\"\n",
       "  587.533,1425.62 587.533,1404.94 \n",
       "  \"/>\n",
       "<polyline clip-path=\"url(#clip3800)\" style=\"stroke:#000000; stroke-width:4; stroke-opacity:1; fill:none\" points=\"\n",
       "  1013.2,1425.62 1013.2,1404.94 \n",
       "  \"/>\n",
       "<polyline clip-path=\"url(#clip3800)\" style=\"stroke:#000000; stroke-width:4; stroke-opacity:1; fill:none\" points=\"\n",
       "  1438.86,1425.62 1438.86,1404.94 \n",
       "  \"/>\n",
       "<polyline clip-path=\"url(#clip3800)\" style=\"stroke:#000000; stroke-width:4; stroke-opacity:1; fill:none\" points=\"\n",
       "  1864.52,1425.62 1864.52,1404.94 \n",
       "  \"/>\n",
       "<polyline clip-path=\"url(#clip3800)\" style=\"stroke:#000000; stroke-width:4; stroke-opacity:1; fill:none\" points=\"\n",
       "  2290.18,1425.62 2290.18,1404.94 \n",
       "  \"/>\n",
       "<polyline clip-path=\"url(#clip3800)\" style=\"stroke:#000000; stroke-width:4; stroke-opacity:1; fill:none\" points=\"\n",
       "  141.865,1266.26 175.028,1266.26 \n",
       "  \"/>\n",
       "<polyline clip-path=\"url(#clip3800)\" style=\"stroke:#000000; stroke-width:4; stroke-opacity:1; fill:none\" points=\"\n",
       "  141.865,984.236 175.028,984.236 \n",
       "  \"/>\n",
       "<polyline clip-path=\"url(#clip3800)\" style=\"stroke:#000000; stroke-width:4; stroke-opacity:1; fill:none\" points=\"\n",
       "  141.865,702.213 175.028,702.213 \n",
       "  \"/>\n",
       "<polyline clip-path=\"url(#clip3800)\" style=\"stroke:#000000; stroke-width:4; stroke-opacity:1; fill:none\" points=\"\n",
       "  141.865,420.19 175.028,420.19 \n",
       "  \"/>\n",
       "<polyline clip-path=\"url(#clip3800)\" style=\"stroke:#000000; stroke-width:4; stroke-opacity:1; fill:none\" points=\"\n",
       "  141.865,138.167 175.028,138.167 \n",
       "  \"/>\n",
       "<g clip-path=\"url(#clip3800)\">\n",
       "<text style=\"fill:#000000; fill-opacity:1; font-family:Arial,Helvetica Neue,Helvetica,sans-serif; font-size:48px; text-anchor:middle;\" transform=\"rotate(0, 161.871, 1479.62)\" x=\"161.871\" y=\"1479.62\">0</text>\n",
       "</g>\n",
       "<g clip-path=\"url(#clip3800)\">\n",
       "<text style=\"fill:#000000; fill-opacity:1; font-family:Arial,Helvetica Neue,Helvetica,sans-serif; font-size:48px; text-anchor:middle;\" transform=\"rotate(0, 587.533, 1479.62)\" x=\"587.533\" y=\"1479.62\">10</text>\n",
       "</g>\n",
       "<g clip-path=\"url(#clip3800)\">\n",
       "<text style=\"fill:#000000; fill-opacity:1; font-family:Arial,Helvetica Neue,Helvetica,sans-serif; font-size:48px; text-anchor:middle;\" transform=\"rotate(0, 1013.2, 1479.62)\" x=\"1013.2\" y=\"1479.62\">20</text>\n",
       "</g>\n",
       "<g clip-path=\"url(#clip3800)\">\n",
       "<text style=\"fill:#000000; fill-opacity:1; font-family:Arial,Helvetica Neue,Helvetica,sans-serif; font-size:48px; text-anchor:middle;\" transform=\"rotate(0, 1438.86, 1479.62)\" x=\"1438.86\" y=\"1479.62\">30</text>\n",
       "</g>\n",
       "<g clip-path=\"url(#clip3800)\">\n",
       "<text style=\"fill:#000000; fill-opacity:1; font-family:Arial,Helvetica Neue,Helvetica,sans-serif; font-size:48px; text-anchor:middle;\" transform=\"rotate(0, 1864.52, 1479.62)\" x=\"1864.52\" y=\"1479.62\">40</text>\n",
       "</g>\n",
       "<g clip-path=\"url(#clip3800)\">\n",
       "<text style=\"fill:#000000; fill-opacity:1; font-family:Arial,Helvetica Neue,Helvetica,sans-serif; font-size:48px; text-anchor:middle;\" transform=\"rotate(0, 2290.18, 1479.62)\" x=\"2290.18\" y=\"1479.62\">50</text>\n",
       "</g>\n",
       "<g clip-path=\"url(#clip3800)\">\n",
       "<text style=\"fill:#000000; fill-opacity:1; font-family:Arial,Helvetica Neue,Helvetica,sans-serif; font-size:48px; text-anchor:end;\" transform=\"rotate(0, 117.865, 1283.76)\" x=\"117.865\" y=\"1283.76\">-2</text>\n",
       "</g>\n",
       "<g clip-path=\"url(#clip3800)\">\n",
       "<text style=\"fill:#000000; fill-opacity:1; font-family:Arial,Helvetica Neue,Helvetica,sans-serif; font-size:48px; text-anchor:end;\" transform=\"rotate(0, 117.865, 1001.74)\" x=\"117.865\" y=\"1001.74\">-1</text>\n",
       "</g>\n",
       "<g clip-path=\"url(#clip3800)\">\n",
       "<text style=\"fill:#000000; fill-opacity:1; font-family:Arial,Helvetica Neue,Helvetica,sans-serif; font-size:48px; text-anchor:end;\" transform=\"rotate(0, 117.865, 719.713)\" x=\"117.865\" y=\"719.713\">0</text>\n",
       "</g>\n",
       "<g clip-path=\"url(#clip3800)\">\n",
       "<text style=\"fill:#000000; fill-opacity:1; font-family:Arial,Helvetica Neue,Helvetica,sans-serif; font-size:48px; text-anchor:end;\" transform=\"rotate(0, 117.865, 437.69)\" x=\"117.865\" y=\"437.69\">1</text>\n",
       "</g>\n",
       "<g clip-path=\"url(#clip3800)\">\n",
       "<text style=\"fill:#000000; fill-opacity:1; font-family:Arial,Helvetica Neue,Helvetica,sans-serif; font-size:48px; text-anchor:end;\" transform=\"rotate(0, 117.865, 155.667)\" x=\"117.865\" y=\"155.667\">2</text>\n",
       "</g>\n",
       "<g clip-path=\"url(#clip3800)\">\n",
       "<text style=\"fill:#000000; fill-opacity:1; font-family:Arial,Helvetica Neue,Helvetica,sans-serif; font-size:66px; text-anchor:middle;\" transform=\"rotate(0, 1247.31, 1559.48)\" x=\"1247.31\" y=\"1559.48\">t</text>\n",
       "</g>\n",
       "<polyline clip-path=\"url(#clip3802)\" style=\"stroke:#009af9; stroke-width:4; stroke-opacity:1; fill:none\" points=\"\n",
       "  204.437,420.19 247.003,414.55 289.569,419.654 332.136,435.354 374.702,461.15 417.268,496.212 459.834,539.399 502.401,589.294 544.967,644.252 587.533,702.449 \n",
       "  630.1,761.942 672.666,820.73 715.232,876.823 757.798,928.306 800.365,973.401 842.931,1010.53 885.497,1038.36 928.063,1055.87 970.63,1062.37 1013.2,1057.51 \n",
       "  1055.76,1041.33 1098.33,1014.26 1140.89,977.06 1183.46,930.866 1226.03,877.101 1268.59,817.46 1311.16,753.842 1353.73,688.3 1396.29,622.964 1438.86,559.979 \n",
       "  1481.42,501.429 1523.99,449.271 1566.56,405.268 1609.12,370.929 1651.69,347.455 1694.26,335.702 1736.82,336.145 1779.39,348.86 1821.95,373.52 1864.52,409.402 \n",
       "  1907.09,455.403 1949.65,510.082 1992.22,571.696 2034.79,638.261 2077.35,707.612 2119.92,777.474 2162.48,845.539 2205.05,909.536 2247.62,967.312 2290.18,1016.9 \n",
       "  \n",
       "  \"/>\n",
       "<polyline clip-path=\"url(#clip3802)\" style=\"stroke:#e26f46; stroke-width:4; stroke-opacity:1; fill:none\" points=\"\n",
       "  204.437,702.213 247.003,800.921 289.569,899.629 332.136,994.942 374.702,1083.55 417.268,1162.36 459.834,1228.57 502.401,1279.78 544.967,1314.06 587.533,1330.06 \n",
       "  630.1,1326.99 672.666,1304.73 715.232,1263.75 757.798,1205.18 800.365,1130.75 842.931,1042.69 885.497,943.759 928.063,837.058 970.63,725.994 1013.2,614.144 \n",
       "  1055.76,505.146 1098.33,402.576 1140.89,309.83 1183.46,230.01 1226.03,165.821 1268.59,119.475 1311.16,92.6139 1353.73,86.2547 1396.29,100.745 1438.86,135.751 \n",
       "  1481.42,190.256 1523.99,262.597 1566.56,350.505 1609.12,451.183 1651.69,561.387 1694.26,677.536 1736.82,795.821 1779.39,912.333 1821.95,1023.19 1864.52,1124.67 \n",
       "  1907.09,1213.31 1949.65,1286.08 1992.22,1340.42 2034.79,1374.36 2077.35,1386.61 2119.92,1376.56 2162.48,1344.35 2205.05,1290.85 2247.62,1217.63 2290.18,1126.95 \n",
       "  \n",
       "  \"/>\n",
       "<polyline clip-path=\"url(#clip3802)\" style=\"stroke:#3da44d; stroke-width:4; stroke-opacity:1; fill:none\" points=\"\n",
       "  204.437,984.236 247.003,970.135 289.569,952.593 332.136,931.856 374.702,908.292 417.268,882.385 459.834,854.712 502.401,825.93 544.967,796.749 587.533,767.914 \n",
       "  630.1,740.175 672.666,714.262 715.232,690.865 757.798,670.603 800.365,654.01 842.931,641.509 885.497,633.401 928.063,629.853 970.63,630.89 1013.2,636.393 \n",
       "  1055.76,646.102 1098.33,659.62 1140.89,676.43 1183.46,695.905 1226.03,717.332 1268.59,739.932 1311.16,762.885 1353.73,785.358 1396.29,806.532 1438.86,825.625 \n",
       "  1481.42,841.925 1523.99,854.807 1566.56,863.758 1609.12,868.396 1651.69,868.477 1694.26,863.912 1736.82,854.766 1779.39,841.258 1821.95,823.758 1864.52,802.77 \n",
       "  1907.09,778.922 1949.65,752.942 1992.22,725.636 2034.79,697.866 2077.35,670.515 2119.92,644.461 2162.48,620.55 2205.05,599.564 2247.62,582.198 2290.18,569.033 \n",
       "  \n",
       "  \"/>\n",
       "<polygon clip-path=\"url(#clip3800)\" points=\"\n",
       "1890.96,372.684 2280.76,372.684 2280.76,130.764 1890.96,130.764 \n",
       "  \" fill=\"#ffffff\" fill-rule=\"evenodd\" fill-opacity=\"1\"/>\n",
       "<polyline clip-path=\"url(#clip3800)\" style=\"stroke:#000000; stroke-width:4; stroke-opacity:1; fill:none\" points=\"\n",
       "  1890.96,372.684 2280.76,372.684 2280.76,130.764 1890.96,130.764 1890.96,372.684 \n",
       "  \"/>\n",
       "<polyline clip-path=\"url(#clip3800)\" style=\"stroke:#009af9; stroke-width:4; stroke-opacity:1; fill:none\" points=\"\n",
       "  1914.96,191.244 2058.96,191.244 \n",
       "  \"/>\n",
       "<g clip-path=\"url(#clip3800)\">\n",
       "<text style=\"fill:#000000; fill-opacity:1; font-family:Arial,Helvetica Neue,Helvetica,sans-serif; font-size:48px; text-anchor:start;\" transform=\"rotate(0, 2082.96, 208.744)\" x=\"2082.96\" y=\"208.744\">(x_t)_1</text>\n",
       "</g>\n",
       "<polyline clip-path=\"url(#clip3800)\" style=\"stroke:#e26f46; stroke-width:4; stroke-opacity:1; fill:none\" points=\"\n",
       "  1914.96,251.724 2058.96,251.724 \n",
       "  \"/>\n",
       "<g clip-path=\"url(#clip3800)\">\n",
       "<text style=\"fill:#000000; fill-opacity:1; font-family:Arial,Helvetica Neue,Helvetica,sans-serif; font-size:48px; text-anchor:start;\" transform=\"rotate(0, 2082.96, 269.224)\" x=\"2082.96\" y=\"269.224\">(x_t)_2</text>\n",
       "</g>\n",
       "<polyline clip-path=\"url(#clip3800)\" style=\"stroke:#3da44d; stroke-width:4; stroke-opacity:1; fill:none\" points=\"\n",
       "  1914.96,312.204 2058.96,312.204 \n",
       "  \"/>\n",
       "<g clip-path=\"url(#clip3800)\">\n",
       "<text style=\"fill:#000000; fill-opacity:1; font-family:Arial,Helvetica Neue,Helvetica,sans-serif; font-size:48px; text-anchor:start;\" transform=\"rotate(0, 2082.96, 329.704)\" x=\"2082.96\" y=\"329.704\">(x_t)_3</text>\n",
       "</g>\n",
       "</svg>\n"
      ]
     },
     "execution_count": 28,
     "metadata": {},
     "output_type": "execute_result"
    }
   ],
   "source": [
    "using Plots\n",
    "plot(1:T, stat_traj', xlabel=\"t\", label=[\"(x_t)_1\", \"(x_t)_2\", \"(x_t)_3\"])"
   ]
  },
  {
   "cell_type": "markdown",
   "metadata": {},
   "source": [
    "# QR分解"
   ]
  },
  {
   "cell_type": "code",
   "execution_count": 29,
   "metadata": {},
   "outputs": [
    {
     "data": {
      "text/plain": [
       "LinearAlgebra.QRCompactWY{Float64,Array{Float64,2}}\n",
       "Q factor:\n",
       "6×6 LinearAlgebra.QRCompactWYQ{Float64,Array{Float64,2}}:\n",
       " -0.46557     0.445199    0.412888  -0.609866    0.0911449   -0.185261  \n",
       "  0.122209   -0.177315    0.648238   0.231837   -0.599568    -0.346672  \n",
       " -0.737937   -0.359627    0.106324   0.453335    0.311015    -0.112116  \n",
       " -0.43828    -0.226832   -0.39408   -0.271374   -0.687937     0.232934  \n",
       "  0.175965   -0.767145    0.176015  -0.536027    0.249362    -0.00620337\n",
       " -0.0265613   0.0325997   0.460137   0.0885091   0.00645137   0.8824    \n",
       "R factor:\n",
       "4×4 Array{Float64,2}:\n",
       " 2.04842   0.536684  0.995362  -1.3317  \n",
       " 0.0      -3.09827   0.604358  -0.681951\n",
       " 0.0       0.0       2.50141    0.294005\n",
       " 0.0       0.0       0.0        1.01753 "
      ]
     },
     "execution_count": 29,
     "metadata": {},
     "output_type": "execute_result"
    }
   ],
   "source": [
    "A = randn(6, 4)\n",
    "Q, R = qr(A)"
   ]
  },
  {
   "cell_type": "code",
   "execution_count": 31,
   "metadata": {},
   "outputs": [
    {
     "data": {
      "text/plain": [
       "6×4 Array{Float64,2}:\n",
       " -0.46557     0.445199    0.412888  -0.609866 \n",
       "  0.122209   -0.177315    0.648238   0.231837 \n",
       " -0.737937   -0.359627    0.106324   0.453335 \n",
       " -0.43828    -0.226832   -0.39408   -0.271374 \n",
       "  0.175965   -0.767145    0.176015  -0.536027 \n",
       " -0.0265613   0.0325997   0.460137   0.0885091"
      ]
     },
     "execution_count": 31,
     "metadata": {},
     "output_type": "execute_result"
    }
   ],
   "source": [
    "Q = Matrix(Q)"
   ]
  },
  {
   "cell_type": "code",
   "execution_count": 33,
   "metadata": {},
   "outputs": [
    {
     "data": {
      "text/plain": [
       "1.3524258457248434e-15"
      ]
     },
     "execution_count": 33,
     "metadata": {},
     "output_type": "execute_result"
    }
   ],
   "source": [
    "norm(Q * R - A)"
   ]
  },
  {
   "cell_type": "code",
   "execution_count": 34,
   "metadata": {},
   "outputs": [
    {
     "data": {
      "text/plain": [
       "4×4 Array{Float64,2}:\n",
       "  1.0          -4.70544e-17   2.42861e-16   3.98986e-17\n",
       " -4.70544e-17   1.0           1.63064e-16   2.7929e-16 \n",
       "  2.42861e-16   1.63064e-16   1.0          -9.02056e-17\n",
       "  3.98986e-17   2.7929e-16   -9.02056e-17   1.0        "
      ]
     },
     "execution_count": 34,
     "metadata": {},
     "output_type": "execute_result"
    }
   ],
   "source": [
    "Q' * Q"
   ]
  },
  {
   "cell_type": "code",
   "execution_count": null,
   "metadata": {},
   "outputs": [],
   "source": []
  }
 ],
 "metadata": {
  "kernelspec": {
   "display_name": "Julia 1.1.0",
   "language": "julia",
   "name": "julia-1.1"
  },
  "language_info": {
   "file_extension": ".jl",
   "mimetype": "application/julia",
   "name": "julia",
   "version": "1.1.0"
  },
  "toc": {
   "nav_menu": {},
   "number_sections": true,
   "sideBar": true,
   "skip_h1_title": false,
   "toc_cell": false,
   "toc_position": {},
   "toc_section_display": "block",
   "toc_window_display": false
  }
 },
 "nbformat": 4,
 "nbformat_minor": 2
}
