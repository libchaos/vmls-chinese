{
 "cells": [
  {
   "cell_type": "code",
   "execution_count": 1,
   "metadata": {},
   "outputs": [
    {
     "name": "stderr",
     "output_type": "stream",
     "text": [
      "┌ Info: Recompiling stale cache file /Users/mac/.julia/compiled/v1.1/Plots/ld3vC.ji for Plots [91a5bcdd-55d7-5caf-9e0b-520d859cae80]\n",
      "└ @ Base loading.jl:1184\n"
     ]
    }
   ],
   "source": [
    "using Plots"
   ]
  },
  {
   "cell_type": "code",
   "execution_count": 4,
   "metadata": {},
   "outputs": [
    {
     "data": {
      "text/plain": [
       "y (generic function with 1 method)"
      ]
     },
     "execution_count": 4,
     "metadata": {},
     "output_type": "execute_result"
    }
   ],
   "source": [
    "y(x1, x2, theta) = theta * x1 + (1 - theta)*x2"
   ]
  },
  {
   "cell_type": "code",
   "execution_count": 5,
   "metadata": {},
   "outputs": [
    {
     "data": {
      "text/plain": [
       "2-element Array{Float64,1}:\n",
       " 0.5\n",
       " 0.5"
      ]
     },
     "execution_count": 5,
     "metadata": {},
     "output_type": "execute_result"
    }
   ],
   "source": [
    "y([0, 1], [1, 0], 0.5)"
   ]
  },
  {
   "cell_type": "code",
   "execution_count": 12,
   "metadata": {},
   "outputs": [
    {
     "data": {
      "image/svg+xml": [
       "<?xml version=\"1.0\" encoding=\"utf-8\"?>\n",
       "<svg xmlns=\"http://www.w3.org/2000/svg\" xmlns:xlink=\"http://www.w3.org/1999/xlink\" width=\"600\" height=\"400\" viewBox=\"0 0 2400 1600\">\n",
       "<defs>\n",
       "  <clipPath id=\"clip3400\">\n",
       "    <rect x=\"0\" y=\"0\" width=\"2400\" height=\"1600\"/>\n",
       "  </clipPath>\n",
       "</defs>\n",
       "<polygon clip-path=\"url(#clip3400)\" points=\"\n",
       "0,1600 2400,1600 2400,0 0,0 \n",
       "  \" fill=\"#ffffff\" fill-rule=\"evenodd\" fill-opacity=\"1\"/>\n",
       "<defs>\n",
       "  <clipPath id=\"clip3401\">\n",
       "    <rect x=\"480\" y=\"0\" width=\"1681\" height=\"1600\"/>\n",
       "  </clipPath>\n",
       "</defs>\n",
       "<polygon clip-path=\"url(#clip3400)\" points=\"\n",
       "178.008,1466.71 2352.76,1466.71 2352.76,47.2441 178.008,47.2441 \n",
       "  \" fill=\"#ffffff\" fill-rule=\"evenodd\" fill-opacity=\"1\"/>\n",
       "<defs>\n",
       "  <clipPath id=\"clip3402\">\n",
       "    <rect x=\"178\" y=\"47\" width=\"2176\" height=\"1420\"/>\n",
       "  </clipPath>\n",
       "</defs>\n",
       "<polyline clip-path=\"url(#clip3402)\" style=\"stroke:#000000; stroke-width:2; stroke-opacity:0.1; fill:none\" points=\"\n",
       "  239.558,1466.71 239.558,47.2441 \n",
       "  \"/>\n",
       "<polyline clip-path=\"url(#clip3402)\" style=\"stroke:#000000; stroke-width:2; stroke-opacity:0.1; fill:none\" points=\"\n",
       "  752.47,1466.71 752.47,47.2441 \n",
       "  \"/>\n",
       "<polyline clip-path=\"url(#clip3402)\" style=\"stroke:#000000; stroke-width:2; stroke-opacity:0.1; fill:none\" points=\"\n",
       "  1265.38,1466.71 1265.38,47.2441 \n",
       "  \"/>\n",
       "<polyline clip-path=\"url(#clip3402)\" style=\"stroke:#000000; stroke-width:2; stroke-opacity:0.1; fill:none\" points=\"\n",
       "  1778.29,1466.71 1778.29,47.2441 \n",
       "  \"/>\n",
       "<polyline clip-path=\"url(#clip3402)\" style=\"stroke:#000000; stroke-width:2; stroke-opacity:0.1; fill:none\" points=\"\n",
       "  2291.21,1466.71 2291.21,47.2441 \n",
       "  \"/>\n",
       "<polyline clip-path=\"url(#clip3402)\" style=\"stroke:#000000; stroke-width:2; stroke-opacity:0.1; fill:none\" points=\"\n",
       "  178.008,1426.53 2352.76,1426.53 \n",
       "  \"/>\n",
       "<polyline clip-path=\"url(#clip3402)\" style=\"stroke:#000000; stroke-width:2; stroke-opacity:0.1; fill:none\" points=\"\n",
       "  178.008,1091.76 2352.76,1091.76 \n",
       "  \"/>\n",
       "<polyline clip-path=\"url(#clip3402)\" style=\"stroke:#000000; stroke-width:2; stroke-opacity:0.1; fill:none\" points=\"\n",
       "  178.008,756.976 2352.76,756.976 \n",
       "  \"/>\n",
       "<polyline clip-path=\"url(#clip3402)\" style=\"stroke:#000000; stroke-width:2; stroke-opacity:0.1; fill:none\" points=\"\n",
       "  178.008,422.197 2352.76,422.197 \n",
       "  \"/>\n",
       "<polyline clip-path=\"url(#clip3402)\" style=\"stroke:#000000; stroke-width:2; stroke-opacity:0.1; fill:none\" points=\"\n",
       "  178.008,87.4176 2352.76,87.4176 \n",
       "  \"/>\n",
       "<polyline clip-path=\"url(#clip3400)\" style=\"stroke:#000000; stroke-width:4; stroke-opacity:1; fill:none\" points=\"\n",
       "  178.008,1466.71 2352.76,1466.71 \n",
       "  \"/>\n",
       "<polyline clip-path=\"url(#clip3400)\" style=\"stroke:#000000; stroke-width:4; stroke-opacity:1; fill:none\" points=\"\n",
       "  178.008,1466.71 178.008,47.2441 \n",
       "  \"/>\n",
       "<polyline clip-path=\"url(#clip3400)\" style=\"stroke:#000000; stroke-width:4; stroke-opacity:1; fill:none\" points=\"\n",
       "  239.558,1466.71 239.558,1445.42 \n",
       "  \"/>\n",
       "<polyline clip-path=\"url(#clip3400)\" style=\"stroke:#000000; stroke-width:4; stroke-opacity:1; fill:none\" points=\"\n",
       "  752.47,1466.71 752.47,1445.42 \n",
       "  \"/>\n",
       "<polyline clip-path=\"url(#clip3400)\" style=\"stroke:#000000; stroke-width:4; stroke-opacity:1; fill:none\" points=\"\n",
       "  1265.38,1466.71 1265.38,1445.42 \n",
       "  \"/>\n",
       "<polyline clip-path=\"url(#clip3400)\" style=\"stroke:#000000; stroke-width:4; stroke-opacity:1; fill:none\" points=\"\n",
       "  1778.29,1466.71 1778.29,1445.42 \n",
       "  \"/>\n",
       "<polyline clip-path=\"url(#clip3400)\" style=\"stroke:#000000; stroke-width:4; stroke-opacity:1; fill:none\" points=\"\n",
       "  2291.21,1466.71 2291.21,1445.42 \n",
       "  \"/>\n",
       "<polyline clip-path=\"url(#clip3400)\" style=\"stroke:#000000; stroke-width:4; stroke-opacity:1; fill:none\" points=\"\n",
       "  178.008,1426.53 210.629,1426.53 \n",
       "  \"/>\n",
       "<polyline clip-path=\"url(#clip3400)\" style=\"stroke:#000000; stroke-width:4; stroke-opacity:1; fill:none\" points=\"\n",
       "  178.008,1091.76 210.629,1091.76 \n",
       "  \"/>\n",
       "<polyline clip-path=\"url(#clip3400)\" style=\"stroke:#000000; stroke-width:4; stroke-opacity:1; fill:none\" points=\"\n",
       "  178.008,756.976 210.629,756.976 \n",
       "  \"/>\n",
       "<polyline clip-path=\"url(#clip3400)\" style=\"stroke:#000000; stroke-width:4; stroke-opacity:1; fill:none\" points=\"\n",
       "  178.008,422.197 210.629,422.197 \n",
       "  \"/>\n",
       "<polyline clip-path=\"url(#clip3400)\" style=\"stroke:#000000; stroke-width:4; stroke-opacity:1; fill:none\" points=\"\n",
       "  178.008,87.4176 210.629,87.4176 \n",
       "  \"/>\n",
       "<g clip-path=\"url(#clip3400)\">\n",
       "<text style=\"fill:#000000; fill-opacity:1; font-family:Arial,Helvetica Neue,Helvetica,sans-serif; font-size:48px; text-anchor:middle;\" transform=\"rotate(0, 239.558, 1520.71)\" x=\"239.558\" y=\"1520.71\">0.0</text>\n",
       "</g>\n",
       "<g clip-path=\"url(#clip3400)\">\n",
       "<text style=\"fill:#000000; fill-opacity:1; font-family:Arial,Helvetica Neue,Helvetica,sans-serif; font-size:48px; text-anchor:middle;\" transform=\"rotate(0, 752.47, 1520.71)\" x=\"752.47\" y=\"1520.71\">0.5</text>\n",
       "</g>\n",
       "<g clip-path=\"url(#clip3400)\">\n",
       "<text style=\"fill:#000000; fill-opacity:1; font-family:Arial,Helvetica Neue,Helvetica,sans-serif; font-size:48px; text-anchor:middle;\" transform=\"rotate(0, 1265.38, 1520.71)\" x=\"1265.38\" y=\"1520.71\">1.0</text>\n",
       "</g>\n",
       "<g clip-path=\"url(#clip3400)\">\n",
       "<text style=\"fill:#000000; fill-opacity:1; font-family:Arial,Helvetica Neue,Helvetica,sans-serif; font-size:48px; text-anchor:middle;\" transform=\"rotate(0, 1778.29, 1520.71)\" x=\"1778.29\" y=\"1520.71\">1.5</text>\n",
       "</g>\n",
       "<g clip-path=\"url(#clip3400)\">\n",
       "<text style=\"fill:#000000; fill-opacity:1; font-family:Arial,Helvetica Neue,Helvetica,sans-serif; font-size:48px; text-anchor:middle;\" transform=\"rotate(0, 2291.21, 1520.71)\" x=\"2291.21\" y=\"1520.71\">2.0</text>\n",
       "</g>\n",
       "<g clip-path=\"url(#clip3400)\">\n",
       "<text style=\"fill:#000000; fill-opacity:1; font-family:Arial,Helvetica Neue,Helvetica,sans-serif; font-size:48px; text-anchor:end;\" transform=\"rotate(0, 154.008, 1444.03)\" x=\"154.008\" y=\"1444.03\">-1.0</text>\n",
       "</g>\n",
       "<g clip-path=\"url(#clip3400)\">\n",
       "<text style=\"fill:#000000; fill-opacity:1; font-family:Arial,Helvetica Neue,Helvetica,sans-serif; font-size:48px; text-anchor:end;\" transform=\"rotate(0, 154.008, 1109.26)\" x=\"154.008\" y=\"1109.26\">-0.5</text>\n",
       "</g>\n",
       "<g clip-path=\"url(#clip3400)\">\n",
       "<text style=\"fill:#000000; fill-opacity:1; font-family:Arial,Helvetica Neue,Helvetica,sans-serif; font-size:48px; text-anchor:end;\" transform=\"rotate(0, 154.008, 774.476)\" x=\"154.008\" y=\"774.476\">0.0</text>\n",
       "</g>\n",
       "<g clip-path=\"url(#clip3400)\">\n",
       "<text style=\"fill:#000000; fill-opacity:1; font-family:Arial,Helvetica Neue,Helvetica,sans-serif; font-size:48px; text-anchor:end;\" transform=\"rotate(0, 154.008, 439.697)\" x=\"154.008\" y=\"439.697\">0.5</text>\n",
       "</g>\n",
       "<g clip-path=\"url(#clip3400)\">\n",
       "<text style=\"fill:#000000; fill-opacity:1; font-family:Arial,Helvetica Neue,Helvetica,sans-serif; font-size:48px; text-anchor:end;\" transform=\"rotate(0, 154.008, 104.918)\" x=\"154.008\" y=\"104.918\">1.0</text>\n",
       "</g>\n",
       "<circle clip-path=\"url(#clip3402)\" style=\"fill:#000000; stroke:none; fill-opacity:1\" cx=\"2291.21\" cy=\"1426.53\" r=\"18\"/>\n",
       "<circle clip-path=\"url(#clip3402)\" style=\"fill:#009af9; stroke:none; fill-opacity:1\" cx=\"2291.21\" cy=\"1426.53\" r=\"14\"/>\n",
       "<circle clip-path=\"url(#clip3402)\" style=\"fill:#000000; stroke:none; fill-opacity:1\" cx=\"2188.62\" cy=\"1359.58\" r=\"18\"/>\n",
       "<circle clip-path=\"url(#clip3402)\" style=\"fill:#009af9; stroke:none; fill-opacity:1\" cx=\"2188.62\" cy=\"1359.58\" r=\"14\"/>\n",
       "<circle clip-path=\"url(#clip3402)\" style=\"fill:#000000; stroke:none; fill-opacity:1\" cx=\"2086.04\" cy=\"1292.62\" r=\"18\"/>\n",
       "<circle clip-path=\"url(#clip3402)\" style=\"fill:#009af9; stroke:none; fill-opacity:1\" cx=\"2086.04\" cy=\"1292.62\" r=\"14\"/>\n",
       "<circle clip-path=\"url(#clip3402)\" style=\"fill:#000000; stroke:none; fill-opacity:1\" cx=\"1983.46\" cy=\"1225.67\" r=\"18\"/>\n",
       "<circle clip-path=\"url(#clip3402)\" style=\"fill:#009af9; stroke:none; fill-opacity:1\" cx=\"1983.46\" cy=\"1225.67\" r=\"14\"/>\n",
       "<circle clip-path=\"url(#clip3402)\" style=\"fill:#000000; stroke:none; fill-opacity:1\" cx=\"1880.88\" cy=\"1158.71\" r=\"18\"/>\n",
       "<circle clip-path=\"url(#clip3402)\" style=\"fill:#009af9; stroke:none; fill-opacity:1\" cx=\"1880.88\" cy=\"1158.71\" r=\"14\"/>\n",
       "<circle clip-path=\"url(#clip3402)\" style=\"fill:#000000; stroke:none; fill-opacity:1\" cx=\"1778.29\" cy=\"1091.76\" r=\"18\"/>\n",
       "<circle clip-path=\"url(#clip3402)\" style=\"fill:#009af9; stroke:none; fill-opacity:1\" cx=\"1778.29\" cy=\"1091.76\" r=\"14\"/>\n",
       "<circle clip-path=\"url(#clip3402)\" style=\"fill:#000000; stroke:none; fill-opacity:1\" cx=\"1675.71\" cy=\"1024.8\" r=\"18\"/>\n",
       "<circle clip-path=\"url(#clip3402)\" style=\"fill:#009af9; stroke:none; fill-opacity:1\" cx=\"1675.71\" cy=\"1024.8\" r=\"14\"/>\n",
       "<circle clip-path=\"url(#clip3402)\" style=\"fill:#000000; stroke:none; fill-opacity:1\" cx=\"1573.13\" cy=\"957.844\" r=\"18\"/>\n",
       "<circle clip-path=\"url(#clip3402)\" style=\"fill:#009af9; stroke:none; fill-opacity:1\" cx=\"1573.13\" cy=\"957.844\" r=\"14\"/>\n",
       "<circle clip-path=\"url(#clip3402)\" style=\"fill:#000000; stroke:none; fill-opacity:1\" cx=\"1470.55\" cy=\"890.888\" r=\"18\"/>\n",
       "<circle clip-path=\"url(#clip3402)\" style=\"fill:#009af9; stroke:none; fill-opacity:1\" cx=\"1470.55\" cy=\"890.888\" r=\"14\"/>\n",
       "<circle clip-path=\"url(#clip3402)\" style=\"fill:#000000; stroke:none; fill-opacity:1\" cx=\"1367.96\" cy=\"823.932\" r=\"18\"/>\n",
       "<circle clip-path=\"url(#clip3402)\" style=\"fill:#009af9; stroke:none; fill-opacity:1\" cx=\"1367.96\" cy=\"823.932\" r=\"14\"/>\n",
       "<circle clip-path=\"url(#clip3402)\" style=\"fill:#000000; stroke:none; fill-opacity:1\" cx=\"1265.38\" cy=\"756.976\" r=\"18\"/>\n",
       "<circle clip-path=\"url(#clip3402)\" style=\"fill:#009af9; stroke:none; fill-opacity:1\" cx=\"1265.38\" cy=\"756.976\" r=\"14\"/>\n",
       "<circle clip-path=\"url(#clip3402)\" style=\"fill:#000000; stroke:none; fill-opacity:1\" cx=\"1162.8\" cy=\"690.02\" r=\"18\"/>\n",
       "<circle clip-path=\"url(#clip3402)\" style=\"fill:#009af9; stroke:none; fill-opacity:1\" cx=\"1162.8\" cy=\"690.02\" r=\"14\"/>\n",
       "<circle clip-path=\"url(#clip3402)\" style=\"fill:#000000; stroke:none; fill-opacity:1\" cx=\"1060.22\" cy=\"623.064\" r=\"18\"/>\n",
       "<circle clip-path=\"url(#clip3402)\" style=\"fill:#009af9; stroke:none; fill-opacity:1\" cx=\"1060.22\" cy=\"623.064\" r=\"14\"/>\n",
       "<circle clip-path=\"url(#clip3402)\" style=\"fill:#000000; stroke:none; fill-opacity:1\" cx=\"957.635\" cy=\"556.109\" r=\"18\"/>\n",
       "<circle clip-path=\"url(#clip3402)\" style=\"fill:#009af9; stroke:none; fill-opacity:1\" cx=\"957.635\" cy=\"556.109\" r=\"14\"/>\n",
       "<circle clip-path=\"url(#clip3402)\" style=\"fill:#000000; stroke:none; fill-opacity:1\" cx=\"855.052\" cy=\"489.153\" r=\"18\"/>\n",
       "<circle clip-path=\"url(#clip3402)\" style=\"fill:#009af9; stroke:none; fill-opacity:1\" cx=\"855.052\" cy=\"489.153\" r=\"14\"/>\n",
       "<circle clip-path=\"url(#clip3402)\" style=\"fill:#000000; stroke:none; fill-opacity:1\" cx=\"752.47\" cy=\"422.197\" r=\"18\"/>\n",
       "<circle clip-path=\"url(#clip3402)\" style=\"fill:#009af9; stroke:none; fill-opacity:1\" cx=\"752.47\" cy=\"422.197\" r=\"14\"/>\n",
       "<circle clip-path=\"url(#clip3402)\" style=\"fill:#000000; stroke:none; fill-opacity:1\" cx=\"649.887\" cy=\"355.241\" r=\"18\"/>\n",
       "<circle clip-path=\"url(#clip3402)\" style=\"fill:#009af9; stroke:none; fill-opacity:1\" cx=\"649.887\" cy=\"355.241\" r=\"14\"/>\n",
       "<circle clip-path=\"url(#clip3402)\" style=\"fill:#000000; stroke:none; fill-opacity:1\" cx=\"547.305\" cy=\"288.285\" r=\"18\"/>\n",
       "<circle clip-path=\"url(#clip3402)\" style=\"fill:#009af9; stroke:none; fill-opacity:1\" cx=\"547.305\" cy=\"288.285\" r=\"14\"/>\n",
       "<circle clip-path=\"url(#clip3402)\" style=\"fill:#000000; stroke:none; fill-opacity:1\" cx=\"444.722\" cy=\"221.329\" r=\"18\"/>\n",
       "<circle clip-path=\"url(#clip3402)\" style=\"fill:#009af9; stroke:none; fill-opacity:1\" cx=\"444.722\" cy=\"221.329\" r=\"14\"/>\n",
       "<circle clip-path=\"url(#clip3402)\" style=\"fill:#000000; stroke:none; fill-opacity:1\" cx=\"342.14\" cy=\"154.373\" r=\"18\"/>\n",
       "<circle clip-path=\"url(#clip3402)\" style=\"fill:#009af9; stroke:none; fill-opacity:1\" cx=\"342.14\" cy=\"154.373\" r=\"14\"/>\n",
       "<circle clip-path=\"url(#clip3402)\" style=\"fill:#000000; stroke:none; fill-opacity:1\" cx=\"239.558\" cy=\"87.4176\" r=\"18\"/>\n",
       "<circle clip-path=\"url(#clip3402)\" style=\"fill:#009af9; stroke:none; fill-opacity:1\" cx=\"239.558\" cy=\"87.4176\" r=\"14\"/>\n",
       "<polygon clip-path=\"url(#clip3400)\" points=\"\n",
       "1989.93,251.724 2280.76,251.724 2280.76,130.764 1989.93,130.764 \n",
       "  \" fill=\"#ffffff\" fill-rule=\"evenodd\" fill-opacity=\"1\"/>\n",
       "<polyline clip-path=\"url(#clip3400)\" style=\"stroke:#000000; stroke-width:4; stroke-opacity:1; fill:none\" points=\"\n",
       "  1989.93,251.724 2280.76,251.724 2280.76,130.764 1989.93,130.764 1989.93,251.724 \n",
       "  \"/>\n",
       "<circle clip-path=\"url(#clip3400)\" style=\"fill:#000000; stroke:none; fill-opacity:1\" cx=\"2097.93\" cy=\"191.244\" r=\"25\"/>\n",
       "<circle clip-path=\"url(#clip3400)\" style=\"fill:#009af9; stroke:none; fill-opacity:1\" cx=\"2097.93\" cy=\"191.244\" r=\"21\"/>\n",
       "<g clip-path=\"url(#clip3400)\">\n",
       "<text style=\"fill:#000000; fill-opacity:1; font-family:Arial,Helvetica Neue,Helvetica,sans-serif; font-size:48px; text-anchor:start;\" transform=\"rotate(0, 2181.93, 208.744)\" x=\"2181.93\" y=\"208.744\">y1</text>\n",
       "</g>\n",
       "</svg>\n"
      ]
     },
     "execution_count": 12,
     "metadata": {},
     "output_type": "execute_result"
    }
   ],
   "source": [
    "scatter([y([0, 1], [1, 0], i)[1] for i in -1:0.1:1], [y([0, 1], [1, 0], i)[2] for i in -1:0.1:1])\n"
   ]
  },
  {
   "cell_type": "code",
   "execution_count": null,
   "metadata": {},
   "outputs": [],
   "source": []
  }
 ],
 "metadata": {
  "kernelspec": {
   "display_name": "Julia 1.1.0",
   "language": "julia",
   "name": "julia-1.1"
  },
  "language_info": {
   "file_extension": ".jl",
   "mimetype": "application/julia",
   "name": "julia",
   "version": "1.1.0"
  },
  "toc": {
   "nav_menu": {},
   "number_sections": true,
   "sideBar": true,
   "skip_h1_title": false,
   "toc_cell": false,
   "toc_position": {},
   "toc_section_display": "block",
   "toc_window_display": false
  }
 },
 "nbformat": 4,
 "nbformat_minor": 2
}
