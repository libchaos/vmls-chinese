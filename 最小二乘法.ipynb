{
 "cells": [
  {
   "cell_type": "markdown",
   "metadata": {},
   "source": [
    "# 最小二乘法"
   ]
  },
  {
   "cell_type": "code",
   "execution_count": 1,
   "metadata": {},
   "outputs": [
    {
     "data": {
      "text/plain": [
       "3×2 Array{Int64,2}:\n",
       "  2  0\n",
       " -1  1\n",
       "  0  2"
      ]
     },
     "execution_count": 1,
     "metadata": {},
     "output_type": "execute_result"
    }
   ],
   "source": [
    "A = [2 0; -1 1; 0 2]"
   ]
  },
  {
   "cell_type": "code",
   "execution_count": 2,
   "metadata": {},
   "outputs": [
    {
     "data": {
      "text/plain": [
       "3-element Array{Int64,1}:\n",
       "  1\n",
       "  0\n",
       " -1"
      ]
     },
     "execution_count": 2,
     "metadata": {},
     "output_type": "execute_result"
    }
   ],
   "source": [
    "b = [1, 0, -1]"
   ]
  },
  {
   "cell_type": "code",
   "execution_count": 3,
   "metadata": {},
   "outputs": [
    {
     "data": {
      "text/plain": [
       "2-element Array{Float64,1}:\n",
       "  0.3333333333333333\n",
       " -0.3333333333333333"
      ]
     },
     "execution_count": 3,
     "metadata": {},
     "output_type": "execute_result"
    }
   ],
   "source": [
    "xhat = [1/3, -1/3]"
   ]
  },
  {
   "cell_type": "code",
   "execution_count": 4,
   "metadata": {},
   "outputs": [
    {
     "data": {
      "text/plain": [
       "3-element Array{Float64,1}:\n",
       " -0.33333333333333337\n",
       " -0.6666666666666666 \n",
       "  0.33333333333333337"
      ]
     },
     "execution_count": 4,
     "metadata": {},
     "output_type": "execute_result"
    }
   ],
   "source": [
    "rhat = A * xhat - b"
   ]
  },
  {
   "cell_type": "code",
   "execution_count": 6,
   "metadata": {},
   "outputs": [
    {
     "data": {
      "text/plain": [
       "0.816496580927726"
      ]
     },
     "execution_count": 6,
     "metadata": {},
     "output_type": "execute_result"
    }
   ],
   "source": [
    "using LinearAlgebra\n",
    "norm(rhat)"
   ]
  },
  {
   "cell_type": "code",
   "execution_count": 9,
   "metadata": {},
   "outputs": [
    {
     "data": {
      "text/plain": [
       "2-element Array{Float64,1}:\n",
       "  0.5\n",
       " -0.5"
      ]
     },
     "execution_count": 9,
     "metadata": {},
     "output_type": "execute_result"
    }
   ],
   "source": [
    "x = [1/2, -1/2]"
   ]
  },
  {
   "cell_type": "code",
   "execution_count": 10,
   "metadata": {},
   "outputs": [
    {
     "data": {
      "text/plain": [
       "3-element Array{Float64,1}:\n",
       "  0.0\n",
       " -1.0\n",
       "  0.0"
      ]
     },
     "execution_count": 10,
     "metadata": {},
     "output_type": "execute_result"
    }
   ],
   "source": [
    "r = A * x - b"
   ]
  },
  {
   "cell_type": "code",
   "execution_count": 11,
   "metadata": {},
   "outputs": [
    {
     "data": {
      "text/plain": [
       "1.0"
      ]
     },
     "execution_count": 11,
     "metadata": {},
     "output_type": "execute_result"
    }
   ],
   "source": [
    "norm(r)"
   ]
  },
  {
   "cell_type": "markdown",
   "metadata": {},
   "source": [
    "# 最小二乘法求解\n",
    "\n",
    "$\\hat x = (A^{T}A)^{-1}A^{T}b$"
   ]
  },
  {
   "cell_type": "code",
   "execution_count": 12,
   "metadata": {},
   "outputs": [
    {
     "data": {
      "text/plain": [
       "3×2 Array{Int64,2}:\n",
       "  2  0\n",
       " -1  1\n",
       "  0  2"
      ]
     },
     "execution_count": 12,
     "metadata": {},
     "output_type": "execute_result"
    }
   ],
   "source": [
    "A"
   ]
  },
  {
   "cell_type": "code",
   "execution_count": 13,
   "metadata": {},
   "outputs": [
    {
     "data": {
      "text/plain": [
       "2-element Array{Float64,1}:\n",
       "  0.33333333333333337\n",
       " -0.33333333333333337"
      ]
     },
     "execution_count": 13,
     "metadata": {},
     "output_type": "execute_result"
    }
   ],
   "source": [
    "inv(A' * A) * A' * b"
   ]
  },
  {
   "cell_type": "code",
   "execution_count": 14,
   "metadata": {},
   "outputs": [
    {
     "data": {
      "text/plain": [
       "2-element Array{Float64,1}:\n",
       "  0.33333333333333326\n",
       " -0.3333333333333335 "
      ]
     },
     "execution_count": 14,
     "metadata": {},
     "output_type": "execute_result"
    }
   ],
   "source": [
    "pinv(A) * b"
   ]
  },
  {
   "cell_type": "code",
   "execution_count": 15,
   "metadata": {},
   "outputs": [
    {
     "data": {
      "text/plain": [
       "2-element Array{Float64,1}:\n",
       " -2.220446049250313e-16\n",
       "  2.220446049250313e-16"
      ]
     },
     "execution_count": 15,
     "metadata": {},
     "output_type": "execute_result"
    }
   ],
   "source": [
    "(A' * A) * xhat - A'* b"
   ]
  },
  {
   "cell_type": "markdown",
   "metadata": {},
   "source": [
    "# 求解\n",
    "\n",
    "xhat = A \\ b"
   ]
  },
  {
   "cell_type": "code",
   "execution_count": 17,
   "metadata": {},
   "outputs": [],
   "source": [
    "A = randn(100, 20); b = randn(100);"
   ]
  },
  {
   "cell_type": "code",
   "execution_count": 18,
   "metadata": {},
   "outputs": [],
   "source": [
    "x1 = A \\ b;"
   ]
  },
  {
   "cell_type": "code",
   "execution_count": 21,
   "metadata": {},
   "outputs": [],
   "source": [
    "x2 = inv(A' * A) * (A' * b);"
   ]
  },
  {
   "cell_type": "code",
   "execution_count": 22,
   "metadata": {},
   "outputs": [],
   "source": [
    "x3 = pinv(A) * b;"
   ]
  },
  {
   "cell_type": "code",
   "execution_count": 23,
   "metadata": {},
   "outputs": [],
   "source": [
    "Q, R = qr(A);\n",
    "Q = Matrix(Q);\n",
    "x4 = R \\ (Q' * b);"
   ]
  },
  {
   "cell_type": "code",
   "execution_count": 24,
   "metadata": {},
   "outputs": [
    {
     "data": {
      "text/plain": [
       "3.9517061703634504e-16"
      ]
     },
     "execution_count": 24,
     "metadata": {},
     "output_type": "execute_result"
    }
   ],
   "source": [
    "norm(x1 - x2)"
   ]
  },
  {
   "cell_type": "code",
   "execution_count": 25,
   "metadata": {},
   "outputs": [
    {
     "data": {
      "text/plain": [
       "9.42395613282052e-16"
      ]
     },
     "execution_count": 25,
     "metadata": {},
     "output_type": "execute_result"
    }
   ],
   "source": [
    "norm(x2 - x3)"
   ]
  },
  {
   "cell_type": "code",
   "execution_count": 26,
   "metadata": {},
   "outputs": [
    {
     "data": {
      "text/plain": [
       "8.761663086152779e-16"
      ]
     },
     "execution_count": 26,
     "metadata": {},
     "output_type": "execute_result"
    }
   ],
   "source": [
    "norm(x3 - x4)"
   ]
  },
  {
   "cell_type": "code",
   "execution_count": 28,
   "metadata": {},
   "outputs": [],
   "source": [
    "R = [ 0.97  1.86  0.41;\n",
    "             1.23  2.18  0.53;\n",
    "             0.80  1.24  0.62;\n",
    "             1.29  0.98  0.51;\n",
    "             1.10  1.23  0.69;\n",
    "             0.67  0.34  0.54;\n",
    "             0.87  0.26  0.62;\n",
    "             1.10  0.16  0.48;\n",
    "             1.92  0.22  0.71;\n",
    "             1.29  0.12  0.62];"
   ]
  },
  {
   "cell_type": "code",
   "execution_count": 29,
   "metadata": {},
   "outputs": [
    {
     "data": {
      "text/plain": [
       "(10, 3)"
      ]
     },
     "execution_count": 29,
     "metadata": {},
     "output_type": "execute_result"
    }
   ],
   "source": [
    "m, n = size(R)"
   ]
  },
  {
   "cell_type": "code",
   "execution_count": 31,
   "metadata": {},
   "outputs": [],
   "source": [
    "vdes = 1e3 * ones(m);"
   ]
  },
  {
   "cell_type": "code",
   "execution_count": 32,
   "metadata": {},
   "outputs": [
    {
     "data": {
      "text/plain": [
       "3-element Array{Float64,1}:\n",
       "   62.07662454385133\n",
       "   99.98500402826208\n",
       " 1442.8374625412218 "
      ]
     },
     "execution_count": 32,
     "metadata": {},
     "output_type": "execute_result"
    }
   ],
   "source": [
    "s = R \\ vdes"
   ]
  },
  {
   "cell_type": "code",
   "execution_count": 34,
   "metadata": {},
   "outputs": [
    {
     "data": {
      "text/plain": [
       "132.63819026326527"
      ]
     },
     "execution_count": 34,
     "metadata": {},
     "output_type": "execute_result"
    }
   ],
   "source": [
    "using VMLS\n",
    "rms(R * s - vdes)"
   ]
  },
  {
   "cell_type": "markdown",
   "metadata": {},
   "source": [
    "# 数据拟合"
   ]
  },
  {
   "cell_type": "code",
   "execution_count": 35,
   "metadata": {},
   "outputs": [],
   "source": [
    "vmt = vehicle_miles_data();"
   ]
  },
  {
   "cell_type": "code",
   "execution_count": 36,
   "metadata": {},
   "outputs": [],
   "source": [
    " m = 15*12;"
   ]
  },
  {
   "cell_type": "code",
   "execution_count": 37,
   "metadata": {},
   "outputs": [],
   "source": [
    "A = [ 0:(m-1) vcat([eye(12) for i=1:15]...) ];"
   ]
  },
  {
   "cell_type": "code",
   "execution_count": 38,
   "metadata": {},
   "outputs": [],
   "source": [
    "b = reshape(vmt', m, 1);"
   ]
  },
  {
   "cell_type": "code",
   "execution_count": 39,
   "metadata": {},
   "outputs": [],
   "source": [
    "x = A \\ b;"
   ]
  },
  {
   "cell_type": "code",
   "execution_count": 40,
   "metadata": {},
   "outputs": [],
   "source": [
    "using Plots"
   ]
  },
  {
   "cell_type": "code",
   "execution_count": 41,
   "metadata": {},
   "outputs": [
    {
     "data": {
      "image/svg+xml": [
       "<?xml version=\"1.0\" encoding=\"utf-8\"?>\n",
       "<svg xmlns=\"http://www.w3.org/2000/svg\" xmlns:xlink=\"http://www.w3.org/1999/xlink\" width=\"600\" height=\"400\" viewBox=\"0 0 2400 1600\">\n",
       "<defs>\n",
       "  <clipPath id=\"clip6600\">\n",
       "    <rect x=\"0\" y=\"0\" width=\"2400\" height=\"1600\"/>\n",
       "  </clipPath>\n",
       "</defs>\n",
       "<polygon clip-path=\"url(#clip6600)\" points=\"\n",
       "0,1600 2400,1600 2400,0 0,0 \n",
       "  \" fill=\"#ffffff\" fill-rule=\"evenodd\" fill-opacity=\"1\"/>\n",
       "<defs>\n",
       "  <clipPath id=\"clip6601\">\n",
       "    <rect x=\"480\" y=\"0\" width=\"1681\" height=\"1600\"/>\n",
       "  </clipPath>\n",
       "</defs>\n",
       "<polygon clip-path=\"url(#clip6600)\" points=\"\n",
       "301.332,1487.47 2352.76,1487.47 2352.76,47.2441 301.332,47.2441 \n",
       "  \" fill=\"#ffffff\" fill-rule=\"evenodd\" fill-opacity=\"1\"/>\n",
       "<defs>\n",
       "  <clipPath id=\"clip6602\">\n",
       "    <rect x=\"301\" y=\"47\" width=\"2052\" height=\"1441\"/>\n",
       "  </clipPath>\n",
       "</defs>\n",
       "<polyline clip-path=\"url(#clip6602)\" style=\"stroke:#000000; stroke-width:2; stroke-opacity:0.1; fill:none\" points=\"\n",
       "  348.579,1487.47 348.579,47.2441 \n",
       "  \"/>\n",
       "<polyline clip-path=\"url(#clip6602)\" style=\"stroke:#000000; stroke-width:2; stroke-opacity:0.1; fill:none\" points=\"\n",
       "  889.167,1487.47 889.167,47.2441 \n",
       "  \"/>\n",
       "<polyline clip-path=\"url(#clip6602)\" style=\"stroke:#000000; stroke-width:2; stroke-opacity:0.1; fill:none\" points=\"\n",
       "  1429.76,1487.47 1429.76,47.2441 \n",
       "  \"/>\n",
       "<polyline clip-path=\"url(#clip6602)\" style=\"stroke:#000000; stroke-width:2; stroke-opacity:0.1; fill:none\" points=\"\n",
       "  1970.34,1487.47 1970.34,47.2441 \n",
       "  \"/>\n",
       "<polyline clip-path=\"url(#clip6602)\" style=\"stroke:#000000; stroke-width:2; stroke-opacity:0.1; fill:none\" points=\"\n",
       "  301.332,1432.97 2352.76,1432.97 \n",
       "  \"/>\n",
       "<polyline clip-path=\"url(#clip6602)\" style=\"stroke:#000000; stroke-width:2; stroke-opacity:0.1; fill:none\" points=\"\n",
       "  301.332,1061.1 2352.76,1061.1 \n",
       "  \"/>\n",
       "<polyline clip-path=\"url(#clip6602)\" style=\"stroke:#000000; stroke-width:2; stroke-opacity:0.1; fill:none\" points=\"\n",
       "  301.332,689.229 2352.76,689.229 \n",
       "  \"/>\n",
       "<polyline clip-path=\"url(#clip6602)\" style=\"stroke:#000000; stroke-width:2; stroke-opacity:0.1; fill:none\" points=\"\n",
       "  301.332,317.357 2352.76,317.357 \n",
       "  \"/>\n",
       "<polyline clip-path=\"url(#clip6600)\" style=\"stroke:#000000; stroke-width:4; stroke-opacity:1; fill:none\" points=\"\n",
       "  301.332,1487.47 2352.76,1487.47 \n",
       "  \"/>\n",
       "<polyline clip-path=\"url(#clip6600)\" style=\"stroke:#000000; stroke-width:4; stroke-opacity:1; fill:none\" points=\"\n",
       "  301.332,1487.47 301.332,47.2441 \n",
       "  \"/>\n",
       "<polyline clip-path=\"url(#clip6600)\" style=\"stroke:#000000; stroke-width:4; stroke-opacity:1; fill:none\" points=\"\n",
       "  348.579,1487.47 348.579,1465.87 \n",
       "  \"/>\n",
       "<polyline clip-path=\"url(#clip6600)\" style=\"stroke:#000000; stroke-width:4; stroke-opacity:1; fill:none\" points=\"\n",
       "  889.167,1487.47 889.167,1465.87 \n",
       "  \"/>\n",
       "<polyline clip-path=\"url(#clip6600)\" style=\"stroke:#000000; stroke-width:4; stroke-opacity:1; fill:none\" points=\"\n",
       "  1429.76,1487.47 1429.76,1465.87 \n",
       "  \"/>\n",
       "<polyline clip-path=\"url(#clip6600)\" style=\"stroke:#000000; stroke-width:4; stroke-opacity:1; fill:none\" points=\"\n",
       "  1970.34,1487.47 1970.34,1465.87 \n",
       "  \"/>\n",
       "<polyline clip-path=\"url(#clip6600)\" style=\"stroke:#000000; stroke-width:4; stroke-opacity:1; fill:none\" points=\"\n",
       "  301.332,1432.97 332.103,1432.97 \n",
       "  \"/>\n",
       "<polyline clip-path=\"url(#clip6600)\" style=\"stroke:#000000; stroke-width:4; stroke-opacity:1; fill:none\" points=\"\n",
       "  301.332,1061.1 332.103,1061.1 \n",
       "  \"/>\n",
       "<polyline clip-path=\"url(#clip6600)\" style=\"stroke:#000000; stroke-width:4; stroke-opacity:1; fill:none\" points=\"\n",
       "  301.332,689.229 332.103,689.229 \n",
       "  \"/>\n",
       "<polyline clip-path=\"url(#clip6600)\" style=\"stroke:#000000; stroke-width:4; stroke-opacity:1; fill:none\" points=\"\n",
       "  301.332,317.357 332.103,317.357 \n",
       "  \"/>\n",
       "<g clip-path=\"url(#clip6600)\">\n",
       "<text style=\"fill:#000000; fill-opacity:1; font-family:Arial,Helvetica Neue,Helvetica,sans-serif; font-size:48px; text-anchor:middle;\" transform=\"rotate(0, 348.579, 1541.47)\" x=\"348.579\" y=\"1541.47\">0</text>\n",
       "</g>\n",
       "<g clip-path=\"url(#clip6600)\">\n",
       "<text style=\"fill:#000000; fill-opacity:1; font-family:Arial,Helvetica Neue,Helvetica,sans-serif; font-size:48px; text-anchor:middle;\" transform=\"rotate(0, 889.167, 1541.47)\" x=\"889.167\" y=\"1541.47\">50</text>\n",
       "</g>\n",
       "<g clip-path=\"url(#clip6600)\">\n",
       "<text style=\"fill:#000000; fill-opacity:1; font-family:Arial,Helvetica Neue,Helvetica,sans-serif; font-size:48px; text-anchor:middle;\" transform=\"rotate(0, 1429.76, 1541.47)\" x=\"1429.76\" y=\"1541.47\">100</text>\n",
       "</g>\n",
       "<g clip-path=\"url(#clip6600)\">\n",
       "<text style=\"fill:#000000; fill-opacity:1; font-family:Arial,Helvetica Neue,Helvetica,sans-serif; font-size:48px; text-anchor:middle;\" transform=\"rotate(0, 1970.34, 1541.47)\" x=\"1970.34\" y=\"1541.47\">150</text>\n",
       "</g>\n",
       "<g clip-path=\"url(#clip6600)\">\n",
       "<text style=\"fill:#000000; fill-opacity:1; font-family:Arial,Helvetica Neue,Helvetica,sans-serif; font-size:48px; text-anchor:start;\" transform=\"rotate(0, 107.046, 1456.7)\" x=\"107.046\" y=\"1456.7\">2.0×10</text>\n",
       "</g>\n",
       "<g clip-path=\"url(#clip6600)\">\n",
       "<text style=\"fill:#000000; fill-opacity:1; font-family:Arial,Helvetica Neue,Helvetica,sans-serif; font-size:38px; text-anchor:start;\" transform=\"rotate(0, 255.587, 1429.29)\" x=\"255.587\" y=\"1429.29\">5</text>\n",
       "</g>\n",
       "<g clip-path=\"url(#clip6600)\">\n",
       "<text style=\"fill:#000000; fill-opacity:1; font-family:Arial,Helvetica Neue,Helvetica,sans-serif; font-size:48px; text-anchor:start;\" transform=\"rotate(0, 107.046, 1084.83)\" x=\"107.046\" y=\"1084.83\">2.2×10</text>\n",
       "</g>\n",
       "<g clip-path=\"url(#clip6600)\">\n",
       "<text style=\"fill:#000000; fill-opacity:1; font-family:Arial,Helvetica Neue,Helvetica,sans-serif; font-size:38px; text-anchor:start;\" transform=\"rotate(0, 255.587, 1057.42)\" x=\"255.587\" y=\"1057.42\">5</text>\n",
       "</g>\n",
       "<g clip-path=\"url(#clip6600)\">\n",
       "<text style=\"fill:#000000; fill-opacity:1; font-family:Arial,Helvetica Neue,Helvetica,sans-serif; font-size:48px; text-anchor:start;\" transform=\"rotate(0, 107.046, 712.957)\" x=\"107.046\" y=\"712.957\">2.4×10</text>\n",
       "</g>\n",
       "<g clip-path=\"url(#clip6600)\">\n",
       "<text style=\"fill:#000000; fill-opacity:1; font-family:Arial,Helvetica Neue,Helvetica,sans-serif; font-size:38px; text-anchor:start;\" transform=\"rotate(0, 255.587, 685.546)\" x=\"255.587\" y=\"685.546\">5</text>\n",
       "</g>\n",
       "<g clip-path=\"url(#clip6600)\">\n",
       "<text style=\"fill:#000000; fill-opacity:1; font-family:Arial,Helvetica Neue,Helvetica,sans-serif; font-size:48px; text-anchor:start;\" transform=\"rotate(0, 107.046, 341.085)\" x=\"107.046\" y=\"341.085\">2.6×10</text>\n",
       "</g>\n",
       "<g clip-path=\"url(#clip6600)\">\n",
       "<text style=\"fill:#000000; fill-opacity:1; font-family:Arial,Helvetica Neue,Helvetica,sans-serif; font-size:38px; text-anchor:start;\" transform=\"rotate(0, 255.587, 313.674)\" x=\"255.587\" y=\"313.674\">5</text>\n",
       "</g>\n",
       "<circle clip-path=\"url(#clip6602)\" style=\"fill:#000000; stroke:none; fill-opacity:1\" cx=\"359.391\" cy=\"1368.97\" r=\"10\"/>\n",
       "<circle clip-path=\"url(#clip6602)\" style=\"fill:#009af9; stroke:none; fill-opacity:1\" cx=\"359.391\" cy=\"1368.97\" r=\"7\"/>\n",
       "<circle clip-path=\"url(#clip6602)\" style=\"fill:#000000; stroke:none; fill-opacity:1\" cx=\"370.202\" cy=\"1446.71\" r=\"10\"/>\n",
       "<circle clip-path=\"url(#clip6602)\" style=\"fill:#009af9; stroke:none; fill-opacity:1\" cx=\"370.202\" cy=\"1446.71\" r=\"7\"/>\n",
       "<circle clip-path=\"url(#clip6602)\" style=\"fill:#000000; stroke:none; fill-opacity:1\" cx=\"381.014\" cy=\"828.867\" r=\"10\"/>\n",
       "<circle clip-path=\"url(#clip6602)\" style=\"fill:#009af9; stroke:none; fill-opacity:1\" cx=\"381.014\" cy=\"828.867\" r=\"7\"/>\n",
       "<circle clip-path=\"url(#clip6602)\" style=\"fill:#000000; stroke:none; fill-opacity:1\" cx=\"391.826\" cy=\"917.968\" r=\"10\"/>\n",
       "<circle clip-path=\"url(#clip6602)\" style=\"fill:#009af9; stroke:none; fill-opacity:1\" cx=\"391.826\" cy=\"917.968\" r=\"7\"/>\n",
       "<circle clip-path=\"url(#clip6602)\" style=\"fill:#000000; stroke:none; fill-opacity:1\" cx=\"402.638\" cy=\"642.727\" r=\"10\"/>\n",
       "<circle clip-path=\"url(#clip6602)\" style=\"fill:#009af9; stroke:none; fill-opacity:1\" cx=\"402.638\" cy=\"642.727\" r=\"7\"/>\n",
       "<circle clip-path=\"url(#clip6602)\" style=\"fill:#000000; stroke:none; fill-opacity:1\" cx=\"413.45\" cy=\"634.136\" r=\"10\"/>\n",
       "<circle clip-path=\"url(#clip6602)\" style=\"fill:#009af9; stroke:none; fill-opacity:1\" cx=\"413.45\" cy=\"634.136\" r=\"7\"/>\n",
       "<circle clip-path=\"url(#clip6602)\" style=\"fill:#000000; stroke:none; fill-opacity:1\" cx=\"424.261\" cy=\"593.658\" r=\"10\"/>\n",
       "<circle clip-path=\"url(#clip6602)\" style=\"fill:#009af9; stroke:none; fill-opacity:1\" cx=\"424.261\" cy=\"593.658\" r=\"7\"/>\n",
       "<circle clip-path=\"url(#clip6602)\" style=\"fill:#000000; stroke:none; fill-opacity:1\" cx=\"435.073\" cy=\"543.604\" r=\"10\"/>\n",
       "<circle clip-path=\"url(#clip6602)\" style=\"fill:#009af9; stroke:none; fill-opacity:1\" cx=\"435.073\" cy=\"543.604\" r=\"7\"/>\n",
       "<circle clip-path=\"url(#clip6602)\" style=\"fill:#000000; stroke:none; fill-opacity:1\" cx=\"445.885\" cy=\"914.23\" r=\"10\"/>\n",
       "<circle clip-path=\"url(#clip6602)\" style=\"fill:#009af9; stroke:none; fill-opacity:1\" cx=\"445.885\" cy=\"914.23\" r=\"7\"/>\n",
       "<circle clip-path=\"url(#clip6602)\" style=\"fill:#000000; stroke:none; fill-opacity:1\" cx=\"456.697\" cy=\"754.474\" r=\"10\"/>\n",
       "<circle clip-path=\"url(#clip6602)\" style=\"fill:#009af9; stroke:none; fill-opacity:1\" cx=\"456.697\" cy=\"754.474\" r=\"7\"/>\n",
       "<circle clip-path=\"url(#clip6602)\" style=\"fill:#000000; stroke:none; fill-opacity:1\" cx=\"467.508\" cy=\"1008.69\" r=\"10\"/>\n",
       "<circle clip-path=\"url(#clip6602)\" style=\"fill:#009af9; stroke:none; fill-opacity:1\" cx=\"467.508\" cy=\"1008.69\" r=\"7\"/>\n",
       "<circle clip-path=\"url(#clip6602)\" style=\"fill:#000000; stroke:none; fill-opacity:1\" cx=\"478.32\" cy=\"1091.04\" r=\"10\"/>\n",
       "<circle clip-path=\"url(#clip6602)\" style=\"fill:#009af9; stroke:none; fill-opacity:1\" cx=\"478.32\" cy=\"1091.04\" r=\"7\"/>\n",
       "<circle clip-path=\"url(#clip6602)\" style=\"fill:#000000; stroke:none; fill-opacity:1\" cx=\"489.132\" cy=\"1252.89\" r=\"10\"/>\n",
       "<circle clip-path=\"url(#clip6602)\" style=\"fill:#009af9; stroke:none; fill-opacity:1\" cx=\"489.132\" cy=\"1252.89\" r=\"7\"/>\n",
       "<circle clip-path=\"url(#clip6602)\" style=\"fill:#000000; stroke:none; fill-opacity:1\" cx=\"499.944\" cy=\"1416.68\" r=\"10\"/>\n",
       "<circle clip-path=\"url(#clip6602)\" style=\"fill:#009af9; stroke:none; fill-opacity:1\" cx=\"499.944\" cy=\"1416.68\" r=\"7\"/>\n",
       "<circle clip-path=\"url(#clip6602)\" style=\"fill:#000000; stroke:none; fill-opacity:1\" cx=\"510.755\" cy=\"827.063\" r=\"10\"/>\n",
       "<circle clip-path=\"url(#clip6602)\" style=\"fill:#009af9; stroke:none; fill-opacity:1\" cx=\"510.755\" cy=\"827.063\" r=\"7\"/>\n",
       "<circle clip-path=\"url(#clip6602)\" style=\"fill:#000000; stroke:none; fill-opacity:1\" cx=\"521.567\" cy=\"828.439\" r=\"10\"/>\n",
       "<circle clip-path=\"url(#clip6602)\" style=\"fill:#009af9; stroke:none; fill-opacity:1\" cx=\"521.567\" cy=\"828.439\" r=\"7\"/>\n",
       "<circle clip-path=\"url(#clip6602)\" style=\"fill:#000000; stroke:none; fill-opacity:1\" cx=\"532.379\" cy=\"589.623\" r=\"10\"/>\n",
       "<circle clip-path=\"url(#clip6602)\" style=\"fill:#009af9; stroke:none; fill-opacity:1\" cx=\"532.379\" cy=\"589.623\" r=\"7\"/>\n",
       "<circle clip-path=\"url(#clip6602)\" style=\"fill:#000000; stroke:none; fill-opacity:1\" cx=\"543.191\" cy=\"624.189\" r=\"10\"/>\n",
       "<circle clip-path=\"url(#clip6602)\" style=\"fill:#009af9; stroke:none; fill-opacity:1\" cx=\"543.191\" cy=\"624.189\" r=\"7\"/>\n",
       "<circle clip-path=\"url(#clip6602)\" style=\"fill:#000000; stroke:none; fill-opacity:1\" cx=\"554.002\" cy=\"496.544\" r=\"10\"/>\n",
       "<circle clip-path=\"url(#clip6602)\" style=\"fill:#009af9; stroke:none; fill-opacity:1\" cx=\"554.002\" cy=\"496.544\" r=\"7\"/>\n",
       "<circle clip-path=\"url(#clip6602)\" style=\"fill:#000000; stroke:none; fill-opacity:1\" cx=\"564.814\" cy=\"442.418\" r=\"10\"/>\n",
       "<circle clip-path=\"url(#clip6602)\" style=\"fill:#009af9; stroke:none; fill-opacity:1\" cx=\"564.814\" cy=\"442.418\" r=\"7\"/>\n",
       "<circle clip-path=\"url(#clip6602)\" style=\"fill:#000000; stroke:none; fill-opacity:1\" cx=\"575.626\" cy=\"943.738\" r=\"10\"/>\n",
       "<circle clip-path=\"url(#clip6602)\" style=\"fill:#009af9; stroke:none; fill-opacity:1\" cx=\"575.626\" cy=\"943.738\" r=\"7\"/>\n",
       "<circle clip-path=\"url(#clip6602)\" style=\"fill:#000000; stroke:none; fill-opacity:1\" cx=\"586.438\" cy=\"669.706\" r=\"10\"/>\n",
       "<circle clip-path=\"url(#clip6602)\" style=\"fill:#009af9; stroke:none; fill-opacity:1\" cx=\"586.438\" cy=\"669.706\" r=\"7\"/>\n",
       "<circle clip-path=\"url(#clip6602)\" style=\"fill:#000000; stroke:none; fill-opacity:1\" cx=\"597.25\" cy=\"865.664\" r=\"10\"/>\n",
       "<circle clip-path=\"url(#clip6602)\" style=\"fill:#009af9; stroke:none; fill-opacity:1\" cx=\"597.25\" cy=\"865.664\" r=\"7\"/>\n",
       "<circle clip-path=\"url(#clip6602)\" style=\"fill:#000000; stroke:none; fill-opacity:1\" cx=\"608.061\" cy=\"882.9\" r=\"10\"/>\n",
       "<circle clip-path=\"url(#clip6602)\" style=\"fill:#009af9; stroke:none; fill-opacity:1\" cx=\"608.061\" cy=\"882.9\" r=\"7\"/>\n",
       "<circle clip-path=\"url(#clip6602)\" style=\"fill:#000000; stroke:none; fill-opacity:1\" cx=\"618.873\" cy=\"1150.07\" r=\"10\"/>\n",
       "<circle clip-path=\"url(#clip6602)\" style=\"fill:#009af9; stroke:none; fill-opacity:1\" cx=\"618.873\" cy=\"1150.07\" r=\"7\"/>\n",
       "<circle clip-path=\"url(#clip6602)\" style=\"fill:#000000; stroke:none; fill-opacity:1\" cx=\"629.685\" cy=\"1279.82\" r=\"10\"/>\n",
       "<circle clip-path=\"url(#clip6602)\" style=\"fill:#009af9; stroke:none; fill-opacity:1\" cx=\"629.685\" cy=\"1279.82\" r=\"7\"/>\n",
       "<circle clip-path=\"url(#clip6602)\" style=\"fill:#000000; stroke:none; fill-opacity:1\" cx=\"640.497\" cy=\"762.302\" r=\"10\"/>\n",
       "<circle clip-path=\"url(#clip6602)\" style=\"fill:#009af9; stroke:none; fill-opacity:1\" cx=\"640.497\" cy=\"762.302\" r=\"7\"/>\n",
       "<circle clip-path=\"url(#clip6602)\" style=\"fill:#000000; stroke:none; fill-opacity:1\" cx=\"651.308\" cy=\"740.808\" r=\"10\"/>\n",
       "<circle clip-path=\"url(#clip6602)\" style=\"fill:#009af9; stroke:none; fill-opacity:1\" cx=\"651.308\" cy=\"740.808\" r=\"7\"/>\n",
       "<circle clip-path=\"url(#clip6602)\" style=\"fill:#000000; stroke:none; fill-opacity:1\" cx=\"662.12\" cy=\"470.829\" r=\"10\"/>\n",
       "<circle clip-path=\"url(#clip6602)\" style=\"fill:#009af9; stroke:none; fill-opacity:1\" cx=\"662.12\" cy=\"470.829\" r=\"7\"/>\n",
       "<circle clip-path=\"url(#clip6602)\" style=\"fill:#000000; stroke:none; fill-opacity:1\" cx=\"672.932\" cy=\"542.935\" r=\"10\"/>\n",
       "<circle clip-path=\"url(#clip6602)\" style=\"fill:#009af9; stroke:none; fill-opacity:1\" cx=\"672.932\" cy=\"542.935\" r=\"7\"/>\n",
       "<circle clip-path=\"url(#clip6602)\" style=\"fill:#000000; stroke:none; fill-opacity:1\" cx=\"683.744\" cy=\"384.443\" r=\"10\"/>\n",
       "<circle clip-path=\"url(#clip6602)\" style=\"fill:#009af9; stroke:none; fill-opacity:1\" cx=\"683.744\" cy=\"384.443\" r=\"7\"/>\n",
       "<circle clip-path=\"url(#clip6602)\" style=\"fill:#000000; stroke:none; fill-opacity:1\" cx=\"694.555\" cy=\"342.161\" r=\"10\"/>\n",
       "<circle clip-path=\"url(#clip6602)\" style=\"fill:#009af9; stroke:none; fill-opacity:1\" cx=\"694.555\" cy=\"342.161\" r=\"7\"/>\n",
       "<circle clip-path=\"url(#clip6602)\" style=\"fill:#000000; stroke:none; fill-opacity:1\" cx=\"705.367\" cy=\"807.763\" r=\"10\"/>\n",
       "<circle clip-path=\"url(#clip6602)\" style=\"fill:#009af9; stroke:none; fill-opacity:1\" cx=\"705.367\" cy=\"807.763\" r=\"7\"/>\n",
       "<circle clip-path=\"url(#clip6602)\" style=\"fill:#000000; stroke:none; fill-opacity:1\" cx=\"716.179\" cy=\"585.923\" r=\"10\"/>\n",
       "<circle clip-path=\"url(#clip6602)\" style=\"fill:#009af9; stroke:none; fill-opacity:1\" cx=\"716.179\" cy=\"585.923\" r=\"7\"/>\n",
       "<circle clip-path=\"url(#clip6602)\" style=\"fill:#000000; stroke:none; fill-opacity:1\" cx=\"726.991\" cy=\"863.116\" r=\"10\"/>\n",
       "<circle clip-path=\"url(#clip6602)\" style=\"fill:#009af9; stroke:none; fill-opacity:1\" cx=\"726.991\" cy=\"863.116\" r=\"7\"/>\n",
       "<circle clip-path=\"url(#clip6602)\" style=\"fill:#000000; stroke:none; fill-opacity:1\" cx=\"737.802\" cy=\"795.956\" r=\"10\"/>\n",
       "<circle clip-path=\"url(#clip6602)\" style=\"fill:#009af9; stroke:none; fill-opacity:1\" cx=\"737.802\" cy=\"795.956\" r=\"7\"/>\n",
       "<circle clip-path=\"url(#clip6602)\" style=\"fill:#000000; stroke:none; fill-opacity:1\" cx=\"748.614\" cy=\"1088.36\" r=\"10\"/>\n",
       "<circle clip-path=\"url(#clip6602)\" style=\"fill:#009af9; stroke:none; fill-opacity:1\" cx=\"748.614\" cy=\"1088.36\" r=\"7\"/>\n",
       "<circle clip-path=\"url(#clip6602)\" style=\"fill:#000000; stroke:none; fill-opacity:1\" cx=\"759.426\" cy=\"1364.6\" r=\"10\"/>\n",
       "<circle clip-path=\"url(#clip6602)\" style=\"fill:#009af9; stroke:none; fill-opacity:1\" cx=\"759.426\" cy=\"1364.6\" r=\"7\"/>\n",
       "<circle clip-path=\"url(#clip6602)\" style=\"fill:#000000; stroke:none; fill-opacity:1\" cx=\"770.238\" cy=\"750.978\" r=\"10\"/>\n",
       "<circle clip-path=\"url(#clip6602)\" style=\"fill:#009af9; stroke:none; fill-opacity:1\" cx=\"770.238\" cy=\"750.978\" r=\"7\"/>\n",
       "<circle clip-path=\"url(#clip6602)\" style=\"fill:#000000; stroke:none; fill-opacity:1\" cx=\"781.05\" cy=\"700.106\" r=\"10\"/>\n",
       "<circle clip-path=\"url(#clip6602)\" style=\"fill:#009af9; stroke:none; fill-opacity:1\" cx=\"781.05\" cy=\"700.106\" r=\"7\"/>\n",
       "<circle clip-path=\"url(#clip6602)\" style=\"fill:#000000; stroke:none; fill-opacity:1\" cx=\"791.861\" cy=\"442.976\" r=\"10\"/>\n",
       "<circle clip-path=\"url(#clip6602)\" style=\"fill:#009af9; stroke:none; fill-opacity:1\" cx=\"791.861\" cy=\"442.976\" r=\"7\"/>\n",
       "<circle clip-path=\"url(#clip6602)\" style=\"fill:#000000; stroke:none; fill-opacity:1\" cx=\"802.673\" cy=\"463.41\" r=\"10\"/>\n",
       "<circle clip-path=\"url(#clip6602)\" style=\"fill:#009af9; stroke:none; fill-opacity:1\" cx=\"802.673\" cy=\"463.41\" r=\"7\"/>\n",
       "<circle clip-path=\"url(#clip6602)\" style=\"fill:#000000; stroke:none; fill-opacity:1\" cx=\"813.485\" cy=\"278.218\" r=\"10\"/>\n",
       "<circle clip-path=\"url(#clip6602)\" style=\"fill:#009af9; stroke:none; fill-opacity:1\" cx=\"813.485\" cy=\"278.218\" r=\"7\"/>\n",
       "<circle clip-path=\"url(#clip6602)\" style=\"fill:#000000; stroke:none; fill-opacity:1\" cx=\"824.297\" cy=\"304.583\" r=\"10\"/>\n",
       "<circle clip-path=\"url(#clip6602)\" style=\"fill:#009af9; stroke:none; fill-opacity:1\" cx=\"824.297\" cy=\"304.583\" r=\"7\"/>\n",
       "<circle clip-path=\"url(#clip6602)\" style=\"fill:#000000; stroke:none; fill-opacity:1\" cx=\"835.108\" cy=\"736.624\" r=\"10\"/>\n",
       "<circle clip-path=\"url(#clip6602)\" style=\"fill:#009af9; stroke:none; fill-opacity:1\" cx=\"835.108\" cy=\"736.624\" r=\"7\"/>\n",
       "<circle clip-path=\"url(#clip6602)\" style=\"fill:#000000; stroke:none; fill-opacity:1\" cx=\"845.92\" cy=\"428.026\" r=\"10\"/>\n",
       "<circle clip-path=\"url(#clip6602)\" style=\"fill:#009af9; stroke:none; fill-opacity:1\" cx=\"845.92\" cy=\"428.026\" r=\"7\"/>\n",
       "<circle clip-path=\"url(#clip6602)\" style=\"fill:#000000; stroke:none; fill-opacity:1\" cx=\"856.732\" cy=\"806.406\" r=\"10\"/>\n",
       "<circle clip-path=\"url(#clip6602)\" style=\"fill:#009af9; stroke:none; fill-opacity:1\" cx=\"856.732\" cy=\"806.406\" r=\"7\"/>\n",
       "<circle clip-path=\"url(#clip6602)\" style=\"fill:#000000; stroke:none; fill-opacity:1\" cx=\"867.544\" cy=\"716.413\" r=\"10\"/>\n",
       "<circle clip-path=\"url(#clip6602)\" style=\"fill:#009af9; stroke:none; fill-opacity:1\" cx=\"867.544\" cy=\"716.413\" r=\"7\"/>\n",
       "<circle clip-path=\"url(#clip6602)\" style=\"fill:#000000; stroke:none; fill-opacity:1\" cx=\"878.355\" cy=\"1015.55\" r=\"10\"/>\n",
       "<circle clip-path=\"url(#clip6602)\" style=\"fill:#009af9; stroke:none; fill-opacity:1\" cx=\"878.355\" cy=\"1015.55\" r=\"7\"/>\n",
       "<circle clip-path=\"url(#clip6602)\" style=\"fill:#000000; stroke:none; fill-opacity:1\" cx=\"889.167\" cy=\"1178.07\" r=\"10\"/>\n",
       "<circle clip-path=\"url(#clip6602)\" style=\"fill:#009af9; stroke:none; fill-opacity:1\" cx=\"889.167\" cy=\"1178.07\" r=\"7\"/>\n",
       "<circle clip-path=\"url(#clip6602)\" style=\"fill:#000000; stroke:none; fill-opacity:1\" cx=\"899.979\" cy=\"477.206\" r=\"10\"/>\n",
       "<circle clip-path=\"url(#clip6602)\" style=\"fill:#009af9; stroke:none; fill-opacity:1\" cx=\"899.979\" cy=\"477.206\" r=\"7\"/>\n",
       "<circle clip-path=\"url(#clip6602)\" style=\"fill:#000000; stroke:none; fill-opacity:1\" cx=\"910.791\" cy=\"485.295\" r=\"10\"/>\n",
       "<circle clip-path=\"url(#clip6602)\" style=\"fill:#009af9; stroke:none; fill-opacity:1\" cx=\"910.791\" cy=\"485.295\" r=\"7\"/>\n",
       "<circle clip-path=\"url(#clip6602)\" style=\"fill:#000000; stroke:none; fill-opacity:1\" cx=\"921.603\" cy=\"368.769\" r=\"10\"/>\n",
       "<circle clip-path=\"url(#clip6602)\" style=\"fill:#009af9; stroke:none; fill-opacity:1\" cx=\"921.603\" cy=\"368.769\" r=\"7\"/>\n",
       "<circle clip-path=\"url(#clip6602)\" style=\"fill:#000000; stroke:none; fill-opacity:1\" cx=\"932.414\" cy=\"366.017\" r=\"10\"/>\n",
       "<circle clip-path=\"url(#clip6602)\" style=\"fill:#009af9; stroke:none; fill-opacity:1\" cx=\"932.414\" cy=\"366.017\" r=\"7\"/>\n",
       "<circle clip-path=\"url(#clip6602)\" style=\"fill:#000000; stroke:none; fill-opacity:1\" cx=\"943.226\" cy=\"206.372\" r=\"10\"/>\n",
       "<circle clip-path=\"url(#clip6602)\" style=\"fill:#009af9; stroke:none; fill-opacity:1\" cx=\"943.226\" cy=\"206.372\" r=\"7\"/>\n",
       "<circle clip-path=\"url(#clip6602)\" style=\"fill:#000000; stroke:none; fill-opacity:1\" cx=\"954.038\" cy=\"264.626\" r=\"10\"/>\n",
       "<circle clip-path=\"url(#clip6602)\" style=\"fill:#009af9; stroke:none; fill-opacity:1\" cx=\"954.038\" cy=\"264.626\" r=\"7\"/>\n",
       "<circle clip-path=\"url(#clip6602)\" style=\"fill:#000000; stroke:none; fill-opacity:1\" cx=\"964.85\" cy=\"623.873\" r=\"10\"/>\n",
       "<circle clip-path=\"url(#clip6602)\" style=\"fill:#009af9; stroke:none; fill-opacity:1\" cx=\"964.85\" cy=\"623.873\" r=\"7\"/>\n",
       "<circle clip-path=\"url(#clip6602)\" style=\"fill:#000000; stroke:none; fill-opacity:1\" cx=\"975.661\" cy=\"419.696\" r=\"10\"/>\n",
       "<circle clip-path=\"url(#clip6602)\" style=\"fill:#009af9; stroke:none; fill-opacity:1\" cx=\"975.661\" cy=\"419.696\" r=\"7\"/>\n",
       "<circle clip-path=\"url(#clip6602)\" style=\"fill:#000000; stroke:none; fill-opacity:1\" cx=\"986.473\" cy=\"693.022\" r=\"10\"/>\n",
       "<circle clip-path=\"url(#clip6602)\" style=\"fill:#009af9; stroke:none; fill-opacity:1\" cx=\"986.473\" cy=\"693.022\" r=\"7\"/>\n",
       "<circle clip-path=\"url(#clip6602)\" style=\"fill:#000000; stroke:none; fill-opacity:1\" cx=\"997.285\" cy=\"595.722\" r=\"10\"/>\n",
       "<circle clip-path=\"url(#clip6602)\" style=\"fill:#009af9; stroke:none; fill-opacity:1\" cx=\"997.285\" cy=\"595.722\" r=\"7\"/>\n",
       "<circle clip-path=\"url(#clip6602)\" style=\"fill:#000000; stroke:none; fill-opacity:1\" cx=\"1008.1\" cy=\"985.388\" r=\"10\"/>\n",
       "<circle clip-path=\"url(#clip6602)\" style=\"fill:#009af9; stroke:none; fill-opacity:1\" cx=\"1008.1\" cy=\"985.388\" r=\"7\"/>\n",
       "<circle clip-path=\"url(#clip6602)\" style=\"fill:#000000; stroke:none; fill-opacity:1\" cx=\"1018.91\" cy=\"1061.66\" r=\"10\"/>\n",
       "<circle clip-path=\"url(#clip6602)\" style=\"fill:#009af9; stroke:none; fill-opacity:1\" cx=\"1018.91\" cy=\"1061.66\" r=\"7\"/>\n",
       "<circle clip-path=\"url(#clip6602)\" style=\"fill:#000000; stroke:none; fill-opacity:1\" cx=\"1029.72\" cy=\"444.128\" r=\"10\"/>\n",
       "<circle clip-path=\"url(#clip6602)\" style=\"fill:#009af9; stroke:none; fill-opacity:1\" cx=\"1029.72\" cy=\"444.128\" r=\"7\"/>\n",
       "<circle clip-path=\"url(#clip6602)\" style=\"fill:#000000; stroke:none; fill-opacity:1\" cx=\"1040.53\" cy=\"487.303\" r=\"10\"/>\n",
       "<circle clip-path=\"url(#clip6602)\" style=\"fill:#009af9; stroke:none; fill-opacity:1\" cx=\"1040.53\" cy=\"487.303\" r=\"7\"/>\n",
       "<circle clip-path=\"url(#clip6602)\" style=\"fill:#000000; stroke:none; fill-opacity:1\" cx=\"1051.34\" cy=\"267.564\" r=\"10\"/>\n",
       "<circle clip-path=\"url(#clip6602)\" style=\"fill:#009af9; stroke:none; fill-opacity:1\" cx=\"1051.34\" cy=\"267.564\" r=\"7\"/>\n",
       "<circle clip-path=\"url(#clip6602)\" style=\"fill:#000000; stroke:none; fill-opacity:1\" cx=\"1062.16\" cy=\"246.404\" r=\"10\"/>\n",
       "<circle clip-path=\"url(#clip6602)\" style=\"fill:#009af9; stroke:none; fill-opacity:1\" cx=\"1062.16\" cy=\"246.404\" r=\"7\"/>\n",
       "<circle clip-path=\"url(#clip6602)\" style=\"fill:#000000; stroke:none; fill-opacity:1\" cx=\"1072.97\" cy=\"186.737\" r=\"10\"/>\n",
       "<circle clip-path=\"url(#clip6602)\" style=\"fill:#009af9; stroke:none; fill-opacity:1\" cx=\"1072.97\" cy=\"186.737\" r=\"7\"/>\n",
       "<circle clip-path=\"url(#clip6602)\" style=\"fill:#000000; stroke:none; fill-opacity:1\" cx=\"1083.78\" cy=\"218.384\" r=\"10\"/>\n",
       "<circle clip-path=\"url(#clip6602)\" style=\"fill:#009af9; stroke:none; fill-opacity:1\" cx=\"1083.78\" cy=\"218.384\" r=\"7\"/>\n",
       "<circle clip-path=\"url(#clip6602)\" style=\"fill:#000000; stroke:none; fill-opacity:1\" cx=\"1094.59\" cy=\"647.579\" r=\"10\"/>\n",
       "<circle clip-path=\"url(#clip6602)\" style=\"fill:#009af9; stroke:none; fill-opacity:1\" cx=\"1094.59\" cy=\"647.579\" r=\"7\"/>\n",
       "<circle clip-path=\"url(#clip6602)\" style=\"fill:#000000; stroke:none; fill-opacity:1\" cx=\"1105.4\" cy=\"476.909\" r=\"10\"/>\n",
       "<circle clip-path=\"url(#clip6602)\" style=\"fill:#009af9; stroke:none; fill-opacity:1\" cx=\"1105.4\" cy=\"476.909\" r=\"7\"/>\n",
       "<circle clip-path=\"url(#clip6602)\" style=\"fill:#000000; stroke:none; fill-opacity:1\" cx=\"1116.21\" cy=\"632.407\" r=\"10\"/>\n",
       "<circle clip-path=\"url(#clip6602)\" style=\"fill:#009af9; stroke:none; fill-opacity:1\" cx=\"1116.21\" cy=\"632.407\" r=\"7\"/>\n",
       "<circle clip-path=\"url(#clip6602)\" style=\"fill:#000000; stroke:none; fill-opacity:1\" cx=\"1127.03\" cy=\"581.628\" r=\"10\"/>\n",
       "<circle clip-path=\"url(#clip6602)\" style=\"fill:#009af9; stroke:none; fill-opacity:1\" cx=\"1127.03\" cy=\"581.628\" r=\"7\"/>\n",
       "<circle clip-path=\"url(#clip6602)\" style=\"fill:#000000; stroke:none; fill-opacity:1\" cx=\"1137.84\" cy=\"813.769\" r=\"10\"/>\n",
       "<circle clip-path=\"url(#clip6602)\" style=\"fill:#009af9; stroke:none; fill-opacity:1\" cx=\"1137.84\" cy=\"813.769\" r=\"7\"/>\n",
       "<circle clip-path=\"url(#clip6602)\" style=\"fill:#000000; stroke:none; fill-opacity:1\" cx=\"1148.65\" cy=\"1047.53\" r=\"10\"/>\n",
       "<circle clip-path=\"url(#clip6602)\" style=\"fill:#009af9; stroke:none; fill-opacity:1\" cx=\"1148.65\" cy=\"1047.53\" r=\"7\"/>\n",
       "<circle clip-path=\"url(#clip6602)\" style=\"fill:#000000; stroke:none; fill-opacity:1\" cx=\"1159.46\" cy=\"379.739\" r=\"10\"/>\n",
       "<circle clip-path=\"url(#clip6602)\" style=\"fill:#009af9; stroke:none; fill-opacity:1\" cx=\"1159.46\" cy=\"379.739\" r=\"7\"/>\n",
       "<circle clip-path=\"url(#clip6602)\" style=\"fill:#000000; stroke:none; fill-opacity:1\" cx=\"1170.27\" cy=\"490.928\" r=\"10\"/>\n",
       "<circle clip-path=\"url(#clip6602)\" style=\"fill:#009af9; stroke:none; fill-opacity:1\" cx=\"1170.27\" cy=\"490.928\" r=\"7\"/>\n",
       "<circle clip-path=\"url(#clip6602)\" style=\"fill:#000000; stroke:none; fill-opacity:1\" cx=\"1181.08\" cy=\"254.269\" r=\"10\"/>\n",
       "<circle clip-path=\"url(#clip6602)\" style=\"fill:#009af9; stroke:none; fill-opacity:1\" cx=\"1181.08\" cy=\"254.269\" r=\"7\"/>\n",
       "<circle clip-path=\"url(#clip6602)\" style=\"fill:#000000; stroke:none; fill-opacity:1\" cx=\"1191.9\" cy=\"246.609\" r=\"10\"/>\n",
       "<circle clip-path=\"url(#clip6602)\" style=\"fill:#009af9; stroke:none; fill-opacity:1\" cx=\"1191.9\" cy=\"246.609\" r=\"7\"/>\n",
       "<circle clip-path=\"url(#clip6602)\" style=\"fill:#000000; stroke:none; fill-opacity:1\" cx=\"1202.71\" cy=\"253.358\" r=\"10\"/>\n",
       "<circle clip-path=\"url(#clip6602)\" style=\"fill:#009af9; stroke:none; fill-opacity:1\" cx=\"1202.71\" cy=\"253.358\" r=\"7\"/>\n",
       "<circle clip-path=\"url(#clip6602)\" style=\"fill:#000000; stroke:none; fill-opacity:1\" cx=\"1213.52\" cy=\"220.131\" r=\"10\"/>\n",
       "<circle clip-path=\"url(#clip6602)\" style=\"fill:#009af9; stroke:none; fill-opacity:1\" cx=\"1213.52\" cy=\"220.131\" r=\"7\"/>\n",
       "<circle clip-path=\"url(#clip6602)\" style=\"fill:#000000; stroke:none; fill-opacity:1\" cx=\"1224.33\" cy=\"584.659\" r=\"10\"/>\n",
       "<circle clip-path=\"url(#clip6602)\" style=\"fill:#009af9; stroke:none; fill-opacity:1\" cx=\"1224.33\" cy=\"584.659\" r=\"7\"/>\n",
       "<circle clip-path=\"url(#clip6602)\" style=\"fill:#000000; stroke:none; fill-opacity:1\" cx=\"1235.14\" cy=\"355.27\" r=\"10\"/>\n",
       "<circle clip-path=\"url(#clip6602)\" style=\"fill:#009af9; stroke:none; fill-opacity:1\" cx=\"1235.14\" cy=\"355.27\" r=\"7\"/>\n",
       "<circle clip-path=\"url(#clip6602)\" style=\"fill:#000000; stroke:none; fill-opacity:1\" cx=\"1245.96\" cy=\"589.437\" r=\"10\"/>\n",
       "<circle clip-path=\"url(#clip6602)\" style=\"fill:#009af9; stroke:none; fill-opacity:1\" cx=\"1245.96\" cy=\"589.437\" r=\"7\"/>\n",
       "<circle clip-path=\"url(#clip6602)\" style=\"fill:#000000; stroke:none; fill-opacity:1\" cx=\"1256.77\" cy=\"536.613\" r=\"10\"/>\n",
       "<circle clip-path=\"url(#clip6602)\" style=\"fill:#009af9; stroke:none; fill-opacity:1\" cx=\"1256.77\" cy=\"536.613\" r=\"7\"/>\n",
       "<circle clip-path=\"url(#clip6602)\" style=\"fill:#000000; stroke:none; fill-opacity:1\" cx=\"1267.58\" cy=\"804.528\" r=\"10\"/>\n",
       "<circle clip-path=\"url(#clip6602)\" style=\"fill:#009af9; stroke:none; fill-opacity:1\" cx=\"1267.58\" cy=\"804.528\" r=\"7\"/>\n",
       "<circle clip-path=\"url(#clip6602)\" style=\"fill:#000000; stroke:none; fill-opacity:1\" cx=\"1278.39\" cy=\"1075.59\" r=\"10\"/>\n",
       "<circle clip-path=\"url(#clip6602)\" style=\"fill:#009af9; stroke:none; fill-opacity:1\" cx=\"1278.39\" cy=\"1075.59\" r=\"7\"/>\n",
       "<circle clip-path=\"url(#clip6602)\" style=\"fill:#000000; stroke:none; fill-opacity:1\" cx=\"1289.2\" cy=\"322.192\" r=\"10\"/>\n",
       "<circle clip-path=\"url(#clip6602)\" style=\"fill:#009af9; stroke:none; fill-opacity:1\" cx=\"1289.2\" cy=\"322.192\" r=\"7\"/>\n",
       "<circle clip-path=\"url(#clip6602)\" style=\"fill:#000000; stroke:none; fill-opacity:1\" cx=\"1300.01\" cy=\"452.458\" r=\"10\"/>\n",
       "<circle clip-path=\"url(#clip6602)\" style=\"fill:#009af9; stroke:none; fill-opacity:1\" cx=\"1300.01\" cy=\"452.458\" r=\"7\"/>\n",
       "<circle clip-path=\"url(#clip6602)\" style=\"fill:#000000; stroke:none; fill-opacity:1\" cx=\"1310.83\" cy=\"175.191\" r=\"10\"/>\n",
       "<circle clip-path=\"url(#clip6602)\" style=\"fill:#009af9; stroke:none; fill-opacity:1\" cx=\"1310.83\" cy=\"175.191\" r=\"7\"/>\n",
       "<circle clip-path=\"url(#clip6602)\" style=\"fill:#000000; stroke:none; fill-opacity:1\" cx=\"1321.64\" cy=\"215.557\" r=\"10\"/>\n",
       "<circle clip-path=\"url(#clip6602)\" style=\"fill:#009af9; stroke:none; fill-opacity:1\" cx=\"1321.64\" cy=\"215.557\" r=\"7\"/>\n",
       "<circle clip-path=\"url(#clip6602)\" style=\"fill:#000000; stroke:none; fill-opacity:1\" cx=\"1332.45\" cy=\"183.874\" r=\"10\"/>\n",
       "<circle clip-path=\"url(#clip6602)\" style=\"fill:#009af9; stroke:none; fill-opacity:1\" cx=\"1332.45\" cy=\"183.874\" r=\"7\"/>\n",
       "<circle clip-path=\"url(#clip6602)\" style=\"fill:#000000; stroke:none; fill-opacity:1\" cx=\"1343.26\" cy=\"105.372\" r=\"10\"/>\n",
       "<circle clip-path=\"url(#clip6602)\" style=\"fill:#009af9; stroke:none; fill-opacity:1\" cx=\"1343.26\" cy=\"105.372\" r=\"7\"/>\n",
       "<circle clip-path=\"url(#clip6602)\" style=\"fill:#000000; stroke:none; fill-opacity:1\" cx=\"1354.07\" cy=\"576.738\" r=\"10\"/>\n",
       "<circle clip-path=\"url(#clip6602)\" style=\"fill:#009af9; stroke:none; fill-opacity:1\" cx=\"1354.07\" cy=\"576.738\" r=\"7\"/>\n",
       "<circle clip-path=\"url(#clip6602)\" style=\"fill:#000000; stroke:none; fill-opacity:1\" cx=\"1364.88\" cy=\"289.374\" r=\"10\"/>\n",
       "<circle clip-path=\"url(#clip6602)\" style=\"fill:#009af9; stroke:none; fill-opacity:1\" cx=\"1364.88\" cy=\"289.374\" r=\"7\"/>\n",
       "<circle clip-path=\"url(#clip6602)\" style=\"fill:#000000; stroke:none; fill-opacity:1\" cx=\"1375.7\" cy=\"579.006\" r=\"10\"/>\n",
       "<circle clip-path=\"url(#clip6602)\" style=\"fill:#009af9; stroke:none; fill-opacity:1\" cx=\"1375.7\" cy=\"579.006\" r=\"7\"/>\n",
       "<circle clip-path=\"url(#clip6602)\" style=\"fill:#000000; stroke:none; fill-opacity:1\" cx=\"1386.51\" cy=\"680.974\" r=\"10\"/>\n",
       "<circle clip-path=\"url(#clip6602)\" style=\"fill:#009af9; stroke:none; fill-opacity:1\" cx=\"1386.51\" cy=\"680.974\" r=\"7\"/>\n",
       "<circle clip-path=\"url(#clip6602)\" style=\"fill:#000000; stroke:none; fill-opacity:1\" cx=\"1397.32\" cy=\"810.664\" r=\"10\"/>\n",
       "<circle clip-path=\"url(#clip6602)\" style=\"fill:#009af9; stroke:none; fill-opacity:1\" cx=\"1397.32\" cy=\"810.664\" r=\"7\"/>\n",
       "<circle clip-path=\"url(#clip6602)\" style=\"fill:#000000; stroke:none; fill-opacity:1\" cx=\"1408.13\" cy=\"1028.97\" r=\"10\"/>\n",
       "<circle clip-path=\"url(#clip6602)\" style=\"fill:#009af9; stroke:none; fill-opacity:1\" cx=\"1408.13\" cy=\"1028.97\" r=\"7\"/>\n",
       "<circle clip-path=\"url(#clip6602)\" style=\"fill:#000000; stroke:none; fill-opacity:1\" cx=\"1418.94\" cy=\"451.733\" r=\"10\"/>\n",
       "<circle clip-path=\"url(#clip6602)\" style=\"fill:#009af9; stroke:none; fill-opacity:1\" cx=\"1418.94\" cy=\"451.733\" r=\"7\"/>\n",
       "<circle clip-path=\"url(#clip6602)\" style=\"fill:#000000; stroke:none; fill-opacity:1\" cx=\"1429.76\" cy=\"453.109\" r=\"10\"/>\n",
       "<circle clip-path=\"url(#clip6602)\" style=\"fill:#009af9; stroke:none; fill-opacity:1\" cx=\"1429.76\" cy=\"453.109\" r=\"7\"/>\n",
       "<circle clip-path=\"url(#clip6602)\" style=\"fill:#000000; stroke:none; fill-opacity:1\" cx=\"1440.57\" cy=\"282.215\" r=\"10\"/>\n",
       "<circle clip-path=\"url(#clip6602)\" style=\"fill:#009af9; stroke:none; fill-opacity:1\" cx=\"1440.57\" cy=\"282.215\" r=\"7\"/>\n",
       "<circle clip-path=\"url(#clip6602)\" style=\"fill:#000000; stroke:none; fill-opacity:1\" cx=\"1451.38\" cy=\"388.905\" r=\"10\"/>\n",
       "<circle clip-path=\"url(#clip6602)\" style=\"fill:#009af9; stroke:none; fill-opacity:1\" cx=\"1451.38\" cy=\"388.905\" r=\"7\"/>\n",
       "<circle clip-path=\"url(#clip6602)\" style=\"fill:#000000; stroke:none; fill-opacity:1\" cx=\"1462.19\" cy=\"277.344\" r=\"10\"/>\n",
       "<circle clip-path=\"url(#clip6602)\" style=\"fill:#009af9; stroke:none; fill-opacity:1\" cx=\"1462.19\" cy=\"277.344\" r=\"7\"/>\n",
       "<circle clip-path=\"url(#clip6602)\" style=\"fill:#000000; stroke:none; fill-opacity:1\" cx=\"1473\" cy=\"294.524\" r=\"10\"/>\n",
       "<circle clip-path=\"url(#clip6602)\" style=\"fill:#009af9; stroke:none; fill-opacity:1\" cx=\"1473\" cy=\"294.524\" r=\"7\"/>\n",
       "<circle clip-path=\"url(#clip6602)\" style=\"fill:#000000; stroke:none; fill-opacity:1\" cx=\"1483.81\" cy=\"713.382\" r=\"10\"/>\n",
       "<circle clip-path=\"url(#clip6602)\" style=\"fill:#009af9; stroke:none; fill-opacity:1\" cx=\"1483.81\" cy=\"713.382\" r=\"7\"/>\n",
       "<circle clip-path=\"url(#clip6602)\" style=\"fill:#000000; stroke:none; fill-opacity:1\" cx=\"1494.63\" cy=\"384.257\" r=\"10\"/>\n",
       "<circle clip-path=\"url(#clip6602)\" style=\"fill:#009af9; stroke:none; fill-opacity:1\" cx=\"1494.63\" cy=\"384.257\" r=\"7\"/>\n",
       "<circle clip-path=\"url(#clip6602)\" style=\"fill:#000000; stroke:none; fill-opacity:1\" cx=\"1505.44\" cy=\"744.843\" r=\"10\"/>\n",
       "<circle clip-path=\"url(#clip6602)\" style=\"fill:#009af9; stroke:none; fill-opacity:1\" cx=\"1505.44\" cy=\"744.843\" r=\"7\"/>\n",
       "<circle clip-path=\"url(#clip6602)\" style=\"fill:#000000; stroke:none; fill-opacity:1\" cx=\"1516.25\" cy=\"645.98\" r=\"10\"/>\n",
       "<circle clip-path=\"url(#clip6602)\" style=\"fill:#009af9; stroke:none; fill-opacity:1\" cx=\"1516.25\" cy=\"645.98\" r=\"7\"/>\n",
       "<circle clip-path=\"url(#clip6602)\" style=\"fill:#000000; stroke:none; fill-opacity:1\" cx=\"1527.06\" cy=\"971.108\" r=\"10\"/>\n",
       "<circle clip-path=\"url(#clip6602)\" style=\"fill:#009af9; stroke:none; fill-opacity:1\" cx=\"1527.06\" cy=\"971.108\" r=\"7\"/>\n",
       "<circle clip-path=\"url(#clip6602)\" style=\"fill:#000000; stroke:none; fill-opacity:1\" cx=\"1537.87\" cy=\"1097.71\" r=\"10\"/>\n",
       "<circle clip-path=\"url(#clip6602)\" style=\"fill:#009af9; stroke:none; fill-opacity:1\" cx=\"1537.87\" cy=\"1097.71\" r=\"7\"/>\n",
       "<circle clip-path=\"url(#clip6602)\" style=\"fill:#000000; stroke:none; fill-opacity:1\" cx=\"1548.68\" cy=\"551.023\" r=\"10\"/>\n",
       "<circle clip-path=\"url(#clip6602)\" style=\"fill:#009af9; stroke:none; fill-opacity:1\" cx=\"1548.68\" cy=\"551.023\" r=\"7\"/>\n",
       "<circle clip-path=\"url(#clip6602)\" style=\"fill:#000000; stroke:none; fill-opacity:1\" cx=\"1559.5\" cy=\"475.756\" r=\"10\"/>\n",
       "<circle clip-path=\"url(#clip6602)\" style=\"fill:#009af9; stroke:none; fill-opacity:1\" cx=\"1559.5\" cy=\"475.756\" r=\"7\"/>\n",
       "<circle clip-path=\"url(#clip6602)\" style=\"fill:#000000; stroke:none; fill-opacity:1\" cx=\"1570.31\" cy=\"339.8\" r=\"10\"/>\n",
       "<circle clip-path=\"url(#clip6602)\" style=\"fill:#009af9; stroke:none; fill-opacity:1\" cx=\"1570.31\" cy=\"339.8\" r=\"7\"/>\n",
       "<circle clip-path=\"url(#clip6602)\" style=\"fill:#000000; stroke:none; fill-opacity:1\" cx=\"1581.12\" cy=\"345.489\" r=\"10\"/>\n",
       "<circle clip-path=\"url(#clip6602)\" style=\"fill:#009af9; stroke:none; fill-opacity:1\" cx=\"1581.12\" cy=\"345.489\" r=\"7\"/>\n",
       "<circle clip-path=\"url(#clip6602)\" style=\"fill:#000000; stroke:none; fill-opacity:1\" cx=\"1591.93\" cy=\"223.906\" r=\"10\"/>\n",
       "<circle clip-path=\"url(#clip6602)\" style=\"fill:#009af9; stroke:none; fill-opacity:1\" cx=\"1591.93\" cy=\"223.906\" r=\"7\"/>\n",
       "<circle clip-path=\"url(#clip6602)\" style=\"fill:#000000; stroke:none; fill-opacity:1\" cx=\"1602.74\" cy=\"301.776\" r=\"10\"/>\n",
       "<circle clip-path=\"url(#clip6602)\" style=\"fill:#009af9; stroke:none; fill-opacity:1\" cx=\"1602.74\" cy=\"301.776\" r=\"7\"/>\n",
       "<circle clip-path=\"url(#clip6602)\" style=\"fill:#000000; stroke:none; fill-opacity:1\" cx=\"1613.56\" cy=\"651.41\" r=\"10\"/>\n",
       "<circle clip-path=\"url(#clip6602)\" style=\"fill:#009af9; stroke:none; fill-opacity:1\" cx=\"1613.56\" cy=\"651.41\" r=\"7\"/>\n",
       "<circle clip-path=\"url(#clip6602)\" style=\"fill:#000000; stroke:none; fill-opacity:1\" cx=\"1624.37\" cy=\"453.407\" r=\"10\"/>\n",
       "<circle clip-path=\"url(#clip6602)\" style=\"fill:#009af9; stroke:none; fill-opacity:1\" cx=\"1624.37\" cy=\"453.407\" r=\"7\"/>\n",
       "<circle clip-path=\"url(#clip6602)\" style=\"fill:#000000; stroke:none; fill-opacity:1\" cx=\"1635.18\" cy=\"738.651\" r=\"10\"/>\n",
       "<circle clip-path=\"url(#clip6602)\" style=\"fill:#009af9; stroke:none; fill-opacity:1\" cx=\"1635.18\" cy=\"738.651\" r=\"7\"/>\n",
       "<circle clip-path=\"url(#clip6602)\" style=\"fill:#000000; stroke:none; fill-opacity:1\" cx=\"1645.99\" cy=\"693.431\" r=\"10\"/>\n",
       "<circle clip-path=\"url(#clip6602)\" style=\"fill:#009af9; stroke:none; fill-opacity:1\" cx=\"1645.99\" cy=\"693.431\" r=\"7\"/>\n",
       "<circle clip-path=\"url(#clip6602)\" style=\"fill:#000000; stroke:none; fill-opacity:1\" cx=\"1656.8\" cy=\"1057.81\" r=\"10\"/>\n",
       "<circle clip-path=\"url(#clip6602)\" style=\"fill:#009af9; stroke:none; fill-opacity:1\" cx=\"1656.8\" cy=\"1057.81\" r=\"7\"/>\n",
       "<circle clip-path=\"url(#clip6602)\" style=\"fill:#000000; stroke:none; fill-opacity:1\" cx=\"1667.61\" cy=\"1229.04\" r=\"10\"/>\n",
       "<circle clip-path=\"url(#clip6602)\" style=\"fill:#009af9; stroke:none; fill-opacity:1\" cx=\"1667.61\" cy=\"1229.04\" r=\"7\"/>\n",
       "<circle clip-path=\"url(#clip6602)\" style=\"fill:#000000; stroke:none; fill-opacity:1\" cx=\"1678.43\" cy=\"468.746\" r=\"10\"/>\n",
       "<circle clip-path=\"url(#clip6602)\" style=\"fill:#009af9; stroke:none; fill-opacity:1\" cx=\"1678.43\" cy=\"468.746\" r=\"7\"/>\n",
       "<circle clip-path=\"url(#clip6602)\" style=\"fill:#000000; stroke:none; fill-opacity:1\" cx=\"1689.24\" cy=\"428.659\" r=\"10\"/>\n",
       "<circle clip-path=\"url(#clip6602)\" style=\"fill:#009af9; stroke:none; fill-opacity:1\" cx=\"1689.24\" cy=\"428.659\" r=\"7\"/>\n",
       "<circle clip-path=\"url(#clip6602)\" style=\"fill:#000000; stroke:none; fill-opacity:1\" cx=\"1700.05\" cy=\"365.682\" r=\"10\"/>\n",
       "<circle clip-path=\"url(#clip6602)\" style=\"fill:#009af9; stroke:none; fill-opacity:1\" cx=\"1700.05\" cy=\"365.682\" r=\"7\"/>\n",
       "<circle clip-path=\"url(#clip6602)\" style=\"fill:#000000; stroke:none; fill-opacity:1\" cx=\"1710.86\" cy=\"314.401\" r=\"10\"/>\n",
       "<circle clip-path=\"url(#clip6602)\" style=\"fill:#009af9; stroke:none; fill-opacity:1\" cx=\"1710.86\" cy=\"314.401\" r=\"7\"/>\n",
       "<circle clip-path=\"url(#clip6602)\" style=\"fill:#000000; stroke:none; fill-opacity:1\" cx=\"1721.67\" cy=\"208.38\" r=\"10\"/>\n",
       "<circle clip-path=\"url(#clip6602)\" style=\"fill:#009af9; stroke:none; fill-opacity:1\" cx=\"1721.67\" cy=\"208.38\" r=\"7\"/>\n",
       "<circle clip-path=\"url(#clip6602)\" style=\"fill:#000000; stroke:none; fill-opacity:1\" cx=\"1732.48\" cy=\"236.326\" r=\"10\"/>\n",
       "<circle clip-path=\"url(#clip6602)\" style=\"fill:#009af9; stroke:none; fill-opacity:1\" cx=\"1732.48\" cy=\"236.326\" r=\"7\"/>\n",
       "<circle clip-path=\"url(#clip6602)\" style=\"fill:#000000; stroke:none; fill-opacity:1\" cx=\"1743.3\" cy=\"601.616\" r=\"10\"/>\n",
       "<circle clip-path=\"url(#clip6602)\" style=\"fill:#009af9; stroke:none; fill-opacity:1\" cx=\"1743.3\" cy=\"601.616\" r=\"7\"/>\n",
       "<circle clip-path=\"url(#clip6602)\" style=\"fill:#000000; stroke:none; fill-opacity:1\" cx=\"1754.11\" cy=\"375.611\" r=\"10\"/>\n",
       "<circle clip-path=\"url(#clip6602)\" style=\"fill:#009af9; stroke:none; fill-opacity:1\" cx=\"1754.11\" cy=\"375.611\" r=\"7\"/>\n",
       "<circle clip-path=\"url(#clip6602)\" style=\"fill:#000000; stroke:none; fill-opacity:1\" cx=\"1764.92\" cy=\"695.625\" r=\"10\"/>\n",
       "<circle clip-path=\"url(#clip6602)\" style=\"fill:#009af9; stroke:none; fill-opacity:1\" cx=\"1764.92\" cy=\"695.625\" r=\"7\"/>\n",
       "<circle clip-path=\"url(#clip6602)\" style=\"fill:#000000; stroke:none; fill-opacity:1\" cx=\"1775.73\" cy=\"671.9\" r=\"10\"/>\n",
       "<circle clip-path=\"url(#clip6602)\" style=\"fill:#009af9; stroke:none; fill-opacity:1\" cx=\"1775.73\" cy=\"671.9\" r=\"7\"/>\n",
       "<circle clip-path=\"url(#clip6602)\" style=\"fill:#000000; stroke:none; fill-opacity:1\" cx=\"1786.54\" cy=\"1010.45\" r=\"10\"/>\n",
       "<circle clip-path=\"url(#clip6602)\" style=\"fill:#009af9; stroke:none; fill-opacity:1\" cx=\"1786.54\" cy=\"1010.45\" r=\"7\"/>\n",
       "<circle clip-path=\"url(#clip6602)\" style=\"fill:#000000; stroke:none; fill-opacity:1\" cx=\"1797.36\" cy=\"1181.09\" r=\"10\"/>\n",
       "<circle clip-path=\"url(#clip6602)\" style=\"fill:#009af9; stroke:none; fill-opacity:1\" cx=\"1797.36\" cy=\"1181.09\" r=\"7\"/>\n",
       "<circle clip-path=\"url(#clip6602)\" style=\"fill:#000000; stroke:none; fill-opacity:1\" cx=\"1808.17\" cy=\"495.67\" r=\"10\"/>\n",
       "<circle clip-path=\"url(#clip6602)\" style=\"fill:#009af9; stroke:none; fill-opacity:1\" cx=\"1808.17\" cy=\"495.67\" r=\"7\"/>\n",
       "<circle clip-path=\"url(#clip6602)\" style=\"fill:#000000; stroke:none; fill-opacity:1\" cx=\"1818.98\" cy=\"516.141\" r=\"10\"/>\n",
       "<circle clip-path=\"url(#clip6602)\" style=\"fill:#009af9; stroke:none; fill-opacity:1\" cx=\"1818.98\" cy=\"516.141\" r=\"7\"/>\n",
       "<circle clip-path=\"url(#clip6602)\" style=\"fill:#000000; stroke:none; fill-opacity:1\" cx=\"1829.79\" cy=\"426.223\" r=\"10\"/>\n",
       "<circle clip-path=\"url(#clip6602)\" style=\"fill:#009af9; stroke:none; fill-opacity:1\" cx=\"1829.79\" cy=\"426.223\" r=\"7\"/>\n",
       "<circle clip-path=\"url(#clip6602)\" style=\"fill:#000000; stroke:none; fill-opacity:1\" cx=\"1840.6\" cy=\"354.08\" r=\"10\"/>\n",
       "<circle clip-path=\"url(#clip6602)\" style=\"fill:#009af9; stroke:none; fill-opacity:1\" cx=\"1840.6\" cy=\"354.08\" r=\"7\"/>\n",
       "<circle clip-path=\"url(#clip6602)\" style=\"fill:#000000; stroke:none; fill-opacity:1\" cx=\"1851.41\" cy=\"311.463\" r=\"10\"/>\n",
       "<circle clip-path=\"url(#clip6602)\" style=\"fill:#009af9; stroke:none; fill-opacity:1\" cx=\"1851.41\" cy=\"311.463\" r=\"7\"/>\n",
       "<circle clip-path=\"url(#clip6602)\" style=\"fill:#000000; stroke:none; fill-opacity:1\" cx=\"1862.23\" cy=\"305.773\" r=\"10\"/>\n",
       "<circle clip-path=\"url(#clip6602)\" style=\"fill:#009af9; stroke:none; fill-opacity:1\" cx=\"1862.23\" cy=\"305.773\" r=\"7\"/>\n",
       "<circle clip-path=\"url(#clip6602)\" style=\"fill:#000000; stroke:none; fill-opacity:1\" cx=\"1873.04\" cy=\"656.43\" r=\"10\"/>\n",
       "<circle clip-path=\"url(#clip6602)\" style=\"fill:#009af9; stroke:none; fill-opacity:1\" cx=\"1873.04\" cy=\"656.43\" r=\"7\"/>\n",
       "<circle clip-path=\"url(#clip6602)\" style=\"fill:#000000; stroke:none; fill-opacity:1\" cx=\"1883.85\" cy=\"465.028\" r=\"10\"/>\n",
       "<circle clip-path=\"url(#clip6602)\" style=\"fill:#009af9; stroke:none; fill-opacity:1\" cx=\"1883.85\" cy=\"465.028\" r=\"7\"/>\n",
       "<circle clip-path=\"url(#clip6602)\" style=\"fill:#000000; stroke:none; fill-opacity:1\" cx=\"1894.66\" cy=\"721.247\" r=\"10\"/>\n",
       "<circle clip-path=\"url(#clip6602)\" style=\"fill:#009af9; stroke:none; fill-opacity:1\" cx=\"1894.66\" cy=\"721.247\" r=\"7\"/>\n",
       "<circle clip-path=\"url(#clip6602)\" style=\"fill:#000000; stroke:none; fill-opacity:1\" cx=\"1905.47\" cy=\"603.42\" r=\"10\"/>\n",
       "<circle clip-path=\"url(#clip6602)\" style=\"fill:#009af9; stroke:none; fill-opacity:1\" cx=\"1905.47\" cy=\"603.42\" r=\"7\"/>\n",
       "<circle clip-path=\"url(#clip6602)\" style=\"fill:#000000; stroke:none; fill-opacity:1\" cx=\"1916.28\" cy=\"934.032\" r=\"10\"/>\n",
       "<circle clip-path=\"url(#clip6602)\" style=\"fill:#009af9; stroke:none; fill-opacity:1\" cx=\"1916.28\" cy=\"934.032\" r=\"7\"/>\n",
       "<circle clip-path=\"url(#clip6602)\" style=\"fill:#000000; stroke:none; fill-opacity:1\" cx=\"1927.1\" cy=\"1085.01\" r=\"10\"/>\n",
       "<circle clip-path=\"url(#clip6602)\" style=\"fill:#009af9; stroke:none; fill-opacity:1\" cx=\"1927.1\" cy=\"1085.01\" r=\"7\"/>\n",
       "<circle clip-path=\"url(#clip6602)\" style=\"fill:#000000; stroke:none; fill-opacity:1\" cx=\"1937.91\" cy=\"432.916\" r=\"10\"/>\n",
       "<circle clip-path=\"url(#clip6602)\" style=\"fill:#009af9; stroke:none; fill-opacity:1\" cx=\"1937.91\" cy=\"432.916\" r=\"7\"/>\n",
       "<circle clip-path=\"url(#clip6602)\" style=\"fill:#000000; stroke:none; fill-opacity:1\" cx=\"1948.72\" cy=\"511.344\" r=\"10\"/>\n",
       "<circle clip-path=\"url(#clip6602)\" style=\"fill:#009af9; stroke:none; fill-opacity:1\" cx=\"1948.72\" cy=\"511.344\" r=\"7\"/>\n",
       "<circle clip-path=\"url(#clip6602)\" style=\"fill:#000000; stroke:none; fill-opacity:1\" cx=\"1959.53\" cy=\"292.163\" r=\"10\"/>\n",
       "<circle clip-path=\"url(#clip6602)\" style=\"fill:#009af9; stroke:none; fill-opacity:1\" cx=\"1959.53\" cy=\"292.163\" r=\"7\"/>\n",
       "<circle clip-path=\"url(#clip6602)\" style=\"fill:#000000; stroke:none; fill-opacity:1\" cx=\"1970.34\" cy=\"307.428\" r=\"10\"/>\n",
       "<circle clip-path=\"url(#clip6602)\" style=\"fill:#009af9; stroke:none; fill-opacity:1\" cx=\"1970.34\" cy=\"307.428\" r=\"7\"/>\n",
       "<circle clip-path=\"url(#clip6602)\" style=\"fill:#000000; stroke:none; fill-opacity:1\" cx=\"1981.16\" cy=\"300.995\" r=\"10\"/>\n",
       "<circle clip-path=\"url(#clip6602)\" style=\"fill:#009af9; stroke:none; fill-opacity:1\" cx=\"1981.16\" cy=\"300.995\" r=\"7\"/>\n",
       "<circle clip-path=\"url(#clip6602)\" style=\"fill:#000000; stroke:none; fill-opacity:1\" cx=\"1991.97\" cy=\"224.705\" r=\"10\"/>\n",
       "<circle clip-path=\"url(#clip6602)\" style=\"fill:#009af9; stroke:none; fill-opacity:1\" cx=\"1991.97\" cy=\"224.705\" r=\"7\"/>\n",
       "<circle clip-path=\"url(#clip6602)\" style=\"fill:#000000; stroke:none; fill-opacity:1\" cx=\"2002.78\" cy=\"707.804\" r=\"10\"/>\n",
       "<circle clip-path=\"url(#clip6602)\" style=\"fill:#009af9; stroke:none; fill-opacity:1\" cx=\"2002.78\" cy=\"707.804\" r=\"7\"/>\n",
       "<circle clip-path=\"url(#clip6602)\" style=\"fill:#000000; stroke:none; fill-opacity:1\" cx=\"2013.59\" cy=\"425.758\" r=\"10\"/>\n",
       "<circle clip-path=\"url(#clip6602)\" style=\"fill:#009af9; stroke:none; fill-opacity:1\" cx=\"2013.59\" cy=\"425.758\" r=\"7\"/>\n",
       "<circle clip-path=\"url(#clip6602)\" style=\"fill:#000000; stroke:none; fill-opacity:1\" cx=\"2024.4\" cy=\"675.581\" r=\"10\"/>\n",
       "<circle clip-path=\"url(#clip6602)\" style=\"fill:#009af9; stroke:none; fill-opacity:1\" cx=\"2024.4\" cy=\"675.581\" r=\"7\"/>\n",
       "<circle clip-path=\"url(#clip6602)\" style=\"fill:#000000; stroke:none; fill-opacity:1\" cx=\"2035.21\" cy=\"710.128\" r=\"10\"/>\n",
       "<circle clip-path=\"url(#clip6602)\" style=\"fill:#009af9; stroke:none; fill-opacity:1\" cx=\"2035.21\" cy=\"710.128\" r=\"7\"/>\n",
       "<circle clip-path=\"url(#clip6602)\" style=\"fill:#000000; stroke:none; fill-opacity:1\" cx=\"2046.03\" cy=\"901.066\" r=\"10\"/>\n",
       "<circle clip-path=\"url(#clip6602)\" style=\"fill:#009af9; stroke:none; fill-opacity:1\" cx=\"2046.03\" cy=\"901.066\" r=\"7\"/>\n",
       "<circle clip-path=\"url(#clip6602)\" style=\"fill:#000000; stroke:none; fill-opacity:1\" cx=\"2056.84\" cy=\"1129.79\" r=\"10\"/>\n",
       "<circle clip-path=\"url(#clip6602)\" style=\"fill:#009af9; stroke:none; fill-opacity:1\" cx=\"2056.84\" cy=\"1129.79\" r=\"7\"/>\n",
       "<circle clip-path=\"url(#clip6602)\" style=\"fill:#000000; stroke:none; fill-opacity:1\" cx=\"2067.65\" cy=\"494.071\" r=\"10\"/>\n",
       "<circle clip-path=\"url(#clip6602)\" style=\"fill:#009af9; stroke:none; fill-opacity:1\" cx=\"2067.65\" cy=\"494.071\" r=\"7\"/>\n",
       "<circle clip-path=\"url(#clip6602)\" style=\"fill:#000000; stroke:none; fill-opacity:1\" cx=\"2078.46\" cy=\"463.949\" r=\"10\"/>\n",
       "<circle clip-path=\"url(#clip6602)\" style=\"fill:#009af9; stroke:none; fill-opacity:1\" cx=\"2078.46\" cy=\"463.949\" r=\"7\"/>\n",
       "<circle clip-path=\"url(#clip6602)\" style=\"fill:#000000; stroke:none; fill-opacity:1\" cx=\"2089.27\" cy=\"244.415\" r=\"10\"/>\n",
       "<circle clip-path=\"url(#clip6602)\" style=\"fill:#009af9; stroke:none; fill-opacity:1\" cx=\"2089.27\" cy=\"244.415\" r=\"7\"/>\n",
       "<circle clip-path=\"url(#clip6602)\" style=\"fill:#000000; stroke:none; fill-opacity:1\" cx=\"2100.08\" cy=\"316.93\" r=\"10\"/>\n",
       "<circle clip-path=\"url(#clip6602)\" style=\"fill:#009af9; stroke:none; fill-opacity:1\" cx=\"2100.08\" cy=\"316.93\" r=\"7\"/>\n",
       "<circle clip-path=\"url(#clip6602)\" style=\"fill:#000000; stroke:none; fill-opacity:1\" cx=\"2110.9\" cy=\"232.385\" r=\"10\"/>\n",
       "<circle clip-path=\"url(#clip6602)\" style=\"fill:#009af9; stroke:none; fill-opacity:1\" cx=\"2110.9\" cy=\"232.385\" r=\"7\"/>\n",
       "<circle clip-path=\"url(#clip6602)\" style=\"fill:#000000; stroke:none; fill-opacity:1\" cx=\"2121.71\" cy=\"157.285\" r=\"10\"/>\n",
       "<circle clip-path=\"url(#clip6602)\" style=\"fill:#009af9; stroke:none; fill-opacity:1\" cx=\"2121.71\" cy=\"157.285\" r=\"7\"/>\n",
       "<circle clip-path=\"url(#clip6602)\" style=\"fill:#000000; stroke:none; fill-opacity:1\" cx=\"2132.52\" cy=\"641.22\" r=\"10\"/>\n",
       "<circle clip-path=\"url(#clip6602)\" style=\"fill:#009af9; stroke:none; fill-opacity:1\" cx=\"2132.52\" cy=\"641.22\" r=\"7\"/>\n",
       "<circle clip-path=\"url(#clip6602)\" style=\"fill:#000000; stroke:none; fill-opacity:1\" cx=\"2143.33\" cy=\"330.726\" r=\"10\"/>\n",
       "<circle clip-path=\"url(#clip6602)\" style=\"fill:#009af9; stroke:none; fill-opacity:1\" cx=\"2143.33\" cy=\"330.726\" r=\"7\"/>\n",
       "<circle clip-path=\"url(#clip6602)\" style=\"fill:#000000; stroke:none; fill-opacity:1\" cx=\"2154.14\" cy=\"686.514\" r=\"10\"/>\n",
       "<circle clip-path=\"url(#clip6602)\" style=\"fill:#009af9; stroke:none; fill-opacity:1\" cx=\"2154.14\" cy=\"686.514\" r=\"7\"/>\n",
       "<circle clip-path=\"url(#clip6602)\" style=\"fill:#000000; stroke:none; fill-opacity:1\" cx=\"2164.96\" cy=\"663.849\" r=\"10\"/>\n",
       "<circle clip-path=\"url(#clip6602)\" style=\"fill:#009af9; stroke:none; fill-opacity:1\" cx=\"2164.96\" cy=\"663.849\" r=\"7\"/>\n",
       "<circle clip-path=\"url(#clip6602)\" style=\"fill:#000000; stroke:none; fill-opacity:1\" cx=\"2175.77\" cy=\"941.284\" r=\"10\"/>\n",
       "<circle clip-path=\"url(#clip6602)\" style=\"fill:#009af9; stroke:none; fill-opacity:1\" cx=\"2175.77\" cy=\"941.284\" r=\"7\"/>\n",
       "<circle clip-path=\"url(#clip6602)\" style=\"fill:#000000; stroke:none; fill-opacity:1\" cx=\"2186.58\" cy=\"1150.98\" r=\"10\"/>\n",
       "<circle clip-path=\"url(#clip6602)\" style=\"fill:#009af9; stroke:none; fill-opacity:1\" cx=\"2186.58\" cy=\"1150.98\" r=\"7\"/>\n",
       "<circle clip-path=\"url(#clip6602)\" style=\"fill:#000000; stroke:none; fill-opacity:1\" cx=\"2197.39\" cy=\"464.451\" r=\"10\"/>\n",
       "<circle clip-path=\"url(#clip6602)\" style=\"fill:#009af9; stroke:none; fill-opacity:1\" cx=\"2197.39\" cy=\"464.451\" r=\"7\"/>\n",
       "<circle clip-path=\"url(#clip6602)\" style=\"fill:#000000; stroke:none; fill-opacity:1\" cx=\"2208.2\" cy=\"355.53\" r=\"10\"/>\n",
       "<circle clip-path=\"url(#clip6602)\" style=\"fill:#009af9; stroke:none; fill-opacity:1\" cx=\"2208.2\" cy=\"355.53\" r=\"7\"/>\n",
       "<circle clip-path=\"url(#clip6602)\" style=\"fill:#000000; stroke:none; fill-opacity:1\" cx=\"2219.01\" cy=\"167.214\" r=\"10\"/>\n",
       "<circle clip-path=\"url(#clip6602)\" style=\"fill:#009af9; stroke:none; fill-opacity:1\" cx=\"2219.01\" cy=\"167.214\" r=\"7\"/>\n",
       "<circle clip-path=\"url(#clip6602)\" style=\"fill:#000000; stroke:none; fill-opacity:1\" cx=\"2229.83\" cy=\"226.844\" r=\"10\"/>\n",
       "<circle clip-path=\"url(#clip6602)\" style=\"fill:#009af9; stroke:none; fill-opacity:1\" cx=\"2229.83\" cy=\"226.844\" r=\"7\"/>\n",
       "<circle clip-path=\"url(#clip6602)\" style=\"fill:#000000; stroke:none; fill-opacity:1\" cx=\"2240.64\" cy=\"88.0053\" r=\"10\"/>\n",
       "<circle clip-path=\"url(#clip6602)\" style=\"fill:#009af9; stroke:none; fill-opacity:1\" cx=\"2240.64\" cy=\"88.0053\" r=\"7\"/>\n",
       "<circle clip-path=\"url(#clip6602)\" style=\"fill:#000000; stroke:none; fill-opacity:1\" cx=\"2251.45\" cy=\"112.493\" r=\"10\"/>\n",
       "<circle clip-path=\"url(#clip6602)\" style=\"fill:#009af9; stroke:none; fill-opacity:1\" cx=\"2251.45\" cy=\"112.493\" r=\"7\"/>\n",
       "<circle clip-path=\"url(#clip6602)\" style=\"fill:#000000; stroke:none; fill-opacity:1\" cx=\"2262.26\" cy=\"519.563\" r=\"10\"/>\n",
       "<circle clip-path=\"url(#clip6602)\" style=\"fill:#009af9; stroke:none; fill-opacity:1\" cx=\"2262.26\" cy=\"519.563\" r=\"7\"/>\n",
       "<circle clip-path=\"url(#clip6602)\" style=\"fill:#000000; stroke:none; fill-opacity:1\" cx=\"2273.07\" cy=\"183.762\" r=\"10\"/>\n",
       "<circle clip-path=\"url(#clip6602)\" style=\"fill:#009af9; stroke:none; fill-opacity:1\" cx=\"2273.07\" cy=\"183.762\" r=\"7\"/>\n",
       "<circle clip-path=\"url(#clip6602)\" style=\"fill:#000000; stroke:none; fill-opacity:1\" cx=\"2283.88\" cy=\"636.87\" r=\"10\"/>\n",
       "<circle clip-path=\"url(#clip6602)\" style=\"fill:#009af9; stroke:none; fill-opacity:1\" cx=\"2283.88\" cy=\"636.87\" r=\"7\"/>\n",
       "<circle clip-path=\"url(#clip6602)\" style=\"fill:#000000; stroke:none; fill-opacity:1\" cx=\"2294.7\" cy=\"436.022\" r=\"10\"/>\n",
       "<circle clip-path=\"url(#clip6602)\" style=\"fill:#009af9; stroke:none; fill-opacity:1\" cx=\"2294.7\" cy=\"436.022\" r=\"7\"/>\n",
       "<polyline clip-path=\"url(#clip6602)\" style=\"stroke:#e26f46; stroke-width:4; stroke-opacity:1; fill:none\" points=\"\n",
       "  359.391,1158.37 370.202,1336.19 381.014,694.717 391.826,705.164 402.638,506.622 413.45,524.2 424.261,433.023 435.073,422.922 445.885,839.753 456.697,591.173 \n",
       "  467.508,880.45 478.32,838.376 489.132,1136.76 499.944,1314.58 510.755,673.101 521.567,683.548 532.379,485.006 543.191,502.584 554.002,411.407 564.814,401.306 \n",
       "  575.626,818.137 586.438,569.557 597.25,858.834 608.061,816.76 618.873,1115.14 629.685,1292.96 640.497,651.485 651.308,661.932 662.12,463.39 672.932,480.968 \n",
       "  683.744,389.791 694.555,379.69 705.367,796.521 716.179,547.941 726.991,837.218 737.802,795.144 748.614,1093.53 759.426,1271.35 770.238,629.869 781.05,640.316 \n",
       "  791.861,441.774 802.673,459.352 813.485,368.176 824.297,358.074 835.108,774.905 845.92,526.325 856.732,815.602 867.544,773.528 878.355,1071.91 889.167,1249.73 \n",
       "  899.979,608.253 910.791,618.701 921.603,420.158 932.414,437.737 943.226,346.56 954.038,336.458 964.85,753.29 975.661,504.709 986.473,793.986 997.285,751.912 \n",
       "  1008.1,1050.29 1018.91,1228.12 1029.72,586.638 1040.53,597.085 1051.34,398.542 1062.16,416.121 1072.97,324.944 1083.78,314.843 1094.59,731.674 1105.4,483.094 \n",
       "  1116.21,772.37 1127.03,730.297 1137.84,1028.68 1148.65,1206.5 1159.46,565.022 1170.27,575.469 1181.08,376.926 1191.9,394.505 1202.71,303.328 1213.52,293.227 \n",
       "  1224.33,710.058 1235.14,461.478 1245.96,750.754 1256.77,708.681 1267.58,1007.06 1278.39,1184.88 1289.2,543.406 1300.01,553.853 1310.83,355.311 1321.64,372.889 \n",
       "  1332.45,281.712 1343.26,271.611 1354.07,688.442 1364.88,439.862 1375.7,729.138 1386.51,687.065 1397.32,985.447 1408.13,1163.27 1418.94,521.79 1429.76,532.237 \n",
       "  1440.57,333.695 1451.38,351.273 1462.19,260.096 1473,249.995 1483.81,666.826 1494.63,418.246 1505.44,707.523 1516.25,665.449 1527.06,963.831 1537.87,1141.65 \n",
       "  1548.68,500.174 1559.5,510.621 1570.31,312.079 1581.12,329.657 1591.93,238.48 1602.74,228.379 1613.56,645.21 1624.37,396.63 1635.18,685.907 1645.99,643.833 \n",
       "  1656.8,942.215 1667.61,1120.04 1678.43,478.558 1689.24,489.005 1700.05,290.463 1710.86,308.041 1721.67,216.865 1732.48,206.763 1743.3,623.594 1754.11,375.014 \n",
       "  1764.92,664.291 1775.73,622.217 1786.54,920.6 1797.36,1098.42 1808.17,456.942 1818.98,467.389 1829.79,268.847 1840.6,286.425 1851.41,195.249 1862.23,185.147 \n",
       "  1873.04,601.979 1883.85,353.398 1894.66,642.675 1905.47,600.601 1916.28,898.984 1927.1,1076.8 1937.91,435.326 1948.72,445.774 1959.53,247.231 1970.34,264.81 \n",
       "  1981.16,173.633 1991.97,163.532 2002.78,580.363 2013.59,331.782 2024.4,621.059 2035.21,578.985 2046.03,877.368 2056.84,1055.19 2067.65,413.711 2078.46,424.158 \n",
       "  2089.27,225.615 2100.08,243.194 2110.9,152.017 2121.71,141.916 2132.52,558.747 2143.33,310.167 2154.14,599.443 2164.96,557.37 2175.77,855.752 2186.58,1033.57 \n",
       "  2197.39,392.095 2208.2,402.542 2219.01,203.999 2229.83,221.578 2240.64,130.401 2251.45,120.3 2262.26,537.131 2273.07,288.551 2283.88,577.827 2294.7,535.754 \n",
       "  \n",
       "  \"/>\n",
       "</svg>\n"
      ]
     },
     "execution_count": 41,
     "metadata": {},
     "output_type": "execute_result"
    }
   ],
   "source": [
    "scatter(1:m, b, markersize = 2, legend =false);\n",
    "plot!(1:m, A*x)"
   ]
  },
  {
   "cell_type": "code",
   "execution_count": null,
   "metadata": {},
   "outputs": [],
   "source": []
  }
 ],
 "metadata": {
  "kernelspec": {
   "display_name": "Julia 1.1.0",
   "language": "julia",
   "name": "julia-1.1"
  },
  "language_info": {
   "file_extension": ".jl",
   "mimetype": "application/julia",
   "name": "julia",
   "version": "1.1.0"
  },
  "toc": {
   "nav_menu": {},
   "number_sections": true,
   "sideBar": true,
   "skip_h1_title": false,
   "toc_cell": false,
   "toc_position": {},
   "toc_section_display": "block",
   "toc_window_display": false
  }
 },
 "nbformat": 4,
 "nbformat_minor": 2
}
